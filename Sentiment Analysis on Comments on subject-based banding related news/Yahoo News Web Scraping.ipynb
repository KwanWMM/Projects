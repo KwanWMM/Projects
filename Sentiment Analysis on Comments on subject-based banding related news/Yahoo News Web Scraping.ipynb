{
 "cells": [
  {
   "cell_type": "code",
   "execution_count": 2,
   "metadata": {},
   "outputs": [],
   "source": [
    "import pandas as pd\n",
    "import requests\n",
    "from bs4 import BeautifulSoup\n",
    "import os\n",
    "from selenium import webdriver\n",
    "from selenium.webdriver.common.action_chains import ActionChains\n",
    "from time import sleep\n",
    "import random"
   ]
  },
  {
   "cell_type": "markdown",
   "metadata": {},
   "source": [
    "## Setting up selenium and testing on the first site"
   ]
  },
  {
   "cell_type": "code",
   "execution_count": 3,
   "metadata": {},
   "outputs": [],
   "source": [
    "#Setting up the selenium driver\n",
    "chromedriver = './chromedriver/'\n",
    "os.environ[\"webdriver.chrome.driver\"] = chromedriver\n",
    "driver = webdriver.Chrome(executable_path=\"./chromedriver/chromedriver.exe\")"
   ]
  },
  {
   "cell_type": "code",
   "execution_count": 4,
   "metadata": {},
   "outputs": [],
   "source": [
    "#yahoo sites to retrieve comments from:\n",
    "yahoo_sites =['https://sg.news.yahoo.com/yahoo-poll-good-thing-replace-streaming-subject-based-banding-230057280.html',\n",
    "             'https://sg.news.yahoo.com/budget-2019-debate-subject-based-banding-replace-streaming-secondary-schools-2024-052556148.html',\n",
    "             'https://sg.news.yahoo.com/yahoo-poll-issue-express-child-mixed-normal-stream-kids-230015842.html',\n",
    "             'https://sg.news.yahoo.com/remove-streaming-secondary-schools-reduce-social-stratification-louis-ng-120612690.html']"
   ]
  },
  {
   "cell_type": "code",
   "execution_count": 5,
   "metadata": {},
   "outputs": [],
   "source": [
    "#Go to website\n",
    "driver.get(yahoo_sites[0])"
   ]
  },
  {
   "cell_type": "code",
   "execution_count": 6,
   "metadata": {},
   "outputs": [
    {
     "data": {
      "text/plain": [
       "'Yahoo Poll: Is it a good thing to replace streaming with subject-based banding?'"
      ]
     },
     "execution_count": 6,
     "metadata": {},
     "output_type": "execute_result"
    }
   ],
   "source": [
    "#Retrieve Title\n",
    "title = driver.find_element_by_css_selector(\"#SideTop-0-HeadComponentTitle > h1\").text\n",
    "title"
   ]
  },
  {
   "cell_type": "code",
   "execution_count": 7,
   "metadata": {},
   "outputs": [],
   "source": [
    "#Retrieve article text\n",
    "article_text = driver.find_element_by_css_selector('.canvas-body').text"
   ]
  },
  {
   "cell_type": "code",
   "execution_count": 8,
   "metadata": {},
   "outputs": [
    {
     "data": {
      "text/plain": [
       "'From 2024, secondary school students will no longer be streamed into Normal and Express classes, said Education Minister Ong Ye Kung on Tuesday (5 March). Instead, subject-Based Banding (SBB) will see students taking higher- and lower-level subjects based on their ability.\\nAccording to Ong, the Full SBB will also enable schools to “reshape the social environment in schools to benefit their students”. Some 25 secondary schools will implement this starting in 2020.\\nIs it a good thing for Singapore to replace secondary school streaming with subject-based banding? Have your say in our poll and leave a comment below.\\n\\nRelated stories:\\nBudget 2019 debate: Subject-Based Banding to replace streaming in secondary schools by 2024\\nRemove streaming in secondary schools to reduce social stratification: Louis Ng\\n '"
      ]
     },
     "execution_count": 8,
     "metadata": {},
     "output_type": "execute_result"
    }
   ],
   "source": [
    "#Take a look at the text\n",
    "article_text"
   ]
  },
  {
   "cell_type": "code",
   "execution_count": 9,
   "metadata": {},
   "outputs": [],
   "source": [
    "#Remove the footer section\n",
    "article = article_text.split('\\nRelated stor')[0]\n",
    "article = article.split('\\nOther Singapore stories')[0]"
   ]
  },
  {
   "cell_type": "code",
   "execution_count": 10,
   "metadata": {},
   "outputs": [
    {
     "data": {
      "text/plain": [
       "'From 2024, secondary school students will no longer be streamed into Normal and Express classes, said Education Minister Ong Ye Kung on Tuesday (5 March). Instead, subject-Based Banding (SBB) will see students taking higher- and lower-level subjects based on their ability.\\nAccording to Ong, the Full SBB will also enable schools to “reshape the social environment in schools to benefit their students”. Some 25 secondary schools will implement this starting in 2020.\\nIs it a good thing for Singapore to replace secondary school streaming with subject-based banding? Have your say in our poll and leave a comment below.\\n'"
      ]
     },
     "execution_count": 10,
     "metadata": {},
     "output_type": "execute_result"
    }
   ],
   "source": [
    "article"
   ]
  },
  {
   "cell_type": "code",
   "execution_count": 11,
   "metadata": {},
   "outputs": [],
   "source": [
    "#Reveal comments\n",
    "comments_button = driver.find_element_by_css_selector('.comments-title')\n",
    "comments_button.click()"
   ]
  },
  {
   "cell_type": "code",
   "execution_count": 12,
   "metadata": {},
   "outputs": [],
   "source": [
    "#Click \"Show More\" till all comments are shown\n",
    "while True:\n",
    "    try:\n",
    "        show_more = driver.find_element_by_css_selector(\"button.Ff\\(ss\\)\")\n",
    "        show_more.click()\n",
    "    except:\n",
    "        break"
   ]
  },
  {
   "cell_type": "code",
   "execution_count": 26,
   "metadata": {},
   "outputs": [],
   "source": [
    "#Retrieve all comments\n",
    "comments = []\n",
    "i=1\n",
    "while True:\n",
    "    try:\n",
    "        comments.append(driver.find_element_by_css_selector(\"li.comment:nth-child({}) > div:nth-child(1) > div:nth-child(2) > div:nth-child(1)\".format(i)).text)\n",
    "        i+=1\n",
    "    except:\n",
    "        break"
   ]
  },
  {
   "cell_type": "code",
   "execution_count": 27,
   "metadata": {},
   "outputs": [
    {
     "data": {
      "text/plain": [
       "34"
      ]
     },
     "execution_count": 27,
     "metadata": {},
     "output_type": "execute_result"
    }
   ],
   "source": [
    "len(comments)"
   ]
  },
  {
   "cell_type": "code",
   "execution_count": 28,
   "metadata": {},
   "outputs": [
    {
     "data": {
      "text/plain": [
       "\"What's the point of studying so much ended up working as a Cleaner and taxi driver for university graduates while the rest of the position fill up by foreign talents who work to apply for Singapore citizenship then went back to China to join People Liberation Army and dropped Singapore Citizenship\""
      ]
     },
     "execution_count": 28,
     "metadata": {},
     "output_type": "execute_result"
    }
   ],
   "source": [
    "comments[0]"
   ]
  },
  {
   "cell_type": "code",
   "execution_count": 29,
   "metadata": {},
   "outputs": [
    {
     "data": {
      "text/plain": [
       "'When we are stringent to ourselves but when it comes to final outcome - Singaporean lose out. Foreigners always stand a bigger chance. They are the winners. Why? They are cheaper, no need NS, no need older workers, no need student holiday job workers, no need reservists, no need to pay CPF, no expensive housing, no expensive education, no Kai Su ways to give the best to their children starting from nursery and so on.'"
      ]
     },
     "execution_count": 29,
     "metadata": {},
     "output_type": "execute_result"
    }
   ],
   "source": [
    "comments[30]"
   ]
  },
  {
   "cell_type": "code",
   "execution_count": 30,
   "metadata": {},
   "outputs": [],
   "source": [
    "#Retrieve replies\n",
    "ActionChains(driver).move_to_element(driver.find_element_by_css_selector('li.comment:nth-child(1) > div:nth-child(1) > div:nth-child(2) > div:nth-child(1)')).perform()\n",
    "sleep(3)\n",
    "replies = []\n",
    "i=2\n",
    "try:\n",
    "    replies_button = driver.find_element_by_css_selector(\"li.Mt\\(5px\\):nth-child({}) > div:nth-child(1) > div:nth-child(4) > div:nth-child(1) > button:nth-child(2)\".format(i))\n",
    "    replies_button.click()\n",
    "    reply_num = 1\n",
    "    sleep(1)\n",
    "    while True:\n",
    "        replies.append(driver.find_element_by_css_selector(\"li.comment:nth-child({}) > div:nth-child(1) > div:nth-child(4) > div:nth-child(3) > ul:nth-child(2) > li:nth-child({}) > div:nth-child(1) > div:nth-child(2) > div:nth-child(1)\".format(i,reply_num)).text)\n",
    "        reply_num+=1\n",
    "except:\n",
    "    pass"
   ]
  },
  {
   "cell_type": "code",
   "execution_count": 31,
   "metadata": {},
   "outputs": [
    {
     "data": {
      "text/plain": [
       "['Seems to be that the purpose of this system is to allow students to learn at their own pace. Maybe better students get to graduate earlier? (Is there such a thing?)']"
      ]
     },
     "execution_count": 31,
     "metadata": {},
     "output_type": "execute_result"
    }
   ],
   "source": [
    "replies"
   ]
  },
  {
   "cell_type": "markdown",
   "metadata": {},
   "source": [
    "<div class ='alert alert-block alert-warning'>\n",
    "    Replies don't show up unless the the page is scrolled back to the start of the comments.\n",
    "</div>"
   ]
  },
  {
   "cell_type": "code",
   "execution_count": 13,
   "metadata": {},
   "outputs": [],
   "source": [
    "#Create lists to append to\n",
    "comments = []\n",
    "is_reply = []\n",
    "#Set counter for comments\n",
    "i=1\n",
    "\n",
    "#Scroll back to the top of the comments\n",
    "ActionChains(driver).move_to_element(driver.find_element_by_css_selector('li.comment:nth-child(1) > div:nth-child(1) > div:nth-child(2) > div:nth-child(1)')).perform()\n",
    "sleep(3)\n",
    "\n",
    "#Iterate through the comments\n",
    "while True:\n",
    "    try:\n",
    "        #Append comment to the list\n",
    "        comments.append(driver.find_element_by_css_selector(\"li.comment:nth-child({}) > div:nth-child(1) > div:nth-child(2) > div:nth-child(1)\".format(i)).text)\n",
    "        is_reply.append(0)\n",
    "        #Retrieve replies (if any)\n",
    "        try:\n",
    "            replies_button = driver.find_element_by_css_selector(\"li.Mt\\(5px\\):nth-child({}) > div:nth-child(1) > div:nth-child(4) > div:nth-child(1) > button:nth-child(2)\".format(i))\n",
    "            replies_button.click()\n",
    "            sleep(2)\n",
    "            #counter for replies\n",
    "            reply_num = 1\n",
    "            \n",
    "            #Retrieve replies\n",
    "            while True:\n",
    "                comments.append(driver.find_element_by_css_selector(\"li.comment:nth-child({}) > div:nth-child(1) > div:nth-child(4) > div:nth-child(3) > ul:nth-child(2) > li:nth-child({}) > div:nth-child(1) > div:nth-child(2) > div:nth-child(1)\".format(i,reply_num)).text)\n",
    "                is_reply.append(1)\n",
    "                reply_num+=1\n",
    "        \n",
    "        #increase comment counter and restart the loop \n",
    "        except:\n",
    "            i+=1\n",
    "            continue\n",
    "        \n",
    "    except:\n",
    "        break"
   ]
  },
  {
   "cell_type": "code",
   "execution_count": 14,
   "metadata": {},
   "outputs": [],
   "source": [
    "test_df = pd.DataFrame({'comment':comments,'is_reply':is_reply})"
   ]
  },
  {
   "cell_type": "code",
   "execution_count": 15,
   "metadata": {},
   "outputs": [
    {
     "data": {
      "text/html": [
       "<div>\n",
       "<style scoped>\n",
       "    .dataframe tbody tr th:only-of-type {\n",
       "        vertical-align: middle;\n",
       "    }\n",
       "\n",
       "    .dataframe tbody tr th {\n",
       "        vertical-align: top;\n",
       "    }\n",
       "\n",
       "    .dataframe thead th {\n",
       "        text-align: right;\n",
       "    }\n",
       "</style>\n",
       "<table border=\"1\" class=\"dataframe\">\n",
       "  <thead>\n",
       "    <tr style=\"text-align: right;\">\n",
       "      <th></th>\n",
       "      <th>comment</th>\n",
       "      <th>is_reply</th>\n",
       "    </tr>\n",
       "  </thead>\n",
       "  <tbody>\n",
       "    <tr>\n",
       "      <th>0</th>\n",
       "      <td>What's the point of studying so much ended up ...</td>\n",
       "      <td>0</td>\n",
       "    </tr>\n",
       "    <tr>\n",
       "      <th>1</th>\n",
       "      <td>No matter what kind of streaming or subject ba...</td>\n",
       "      <td>0</td>\n",
       "    </tr>\n",
       "    <tr>\n",
       "      <th>2</th>\n",
       "      <td>Seems to be that the purpose of this system is...</td>\n",
       "      <td>1</td>\n",
       "    </tr>\n",
       "    <tr>\n",
       "      <th>3</th>\n",
       "      <td>This feels like just another diversion from RE...</td>\n",
       "      <td>0</td>\n",
       "    </tr>\n",
       "    <tr>\n",
       "      <th>4</th>\n",
       "      <td>Isn’t a “real” issue the boxing of kids into s...</td>\n",
       "      <td>1</td>\n",
       "    </tr>\n",
       "    <tr>\n",
       "      <th>5</th>\n",
       "      <td>Streaming was started by that tancho tan Tony ...</td>\n",
       "      <td>0</td>\n",
       "    </tr>\n",
       "    <tr>\n",
       "      <th>6</th>\n",
       "      <td>Will they admit it, that it is a failure? Perh...</td>\n",
       "      <td>1</td>\n",
       "    </tr>\n",
       "    <tr>\n",
       "      <th>7</th>\n",
       "      <td>the issue is not how the cake is being cut. th...</td>\n",
       "      <td>0</td>\n",
       "    </tr>\n",
       "    <tr>\n",
       "      <th>8</th>\n",
       "      <td>Who started the secondary school streaming in ...</td>\n",
       "      <td>0</td>\n",
       "    </tr>\n",
       "    <tr>\n",
       "      <th>9</th>\n",
       "      <td>@RneGan Who else? Our Great Founding Leeder!</td>\n",
       "      <td>1</td>\n",
       "    </tr>\n",
       "    <tr>\n",
       "      <th>10</th>\n",
       "      <td>Well, well, well, don't $mil-men need to be se...</td>\n",
       "      <td>0</td>\n",
       "    </tr>\n",
       "    <tr>\n",
       "      <th>11</th>\n",
       "      <td>Every time once the monkey play with musical c...</td>\n",
       "      <td>0</td>\n",
       "    </tr>\n",
       "    <tr>\n",
       "      <th>12</th>\n",
       "      <td>@Leonard Leong , Do you agree last change whic...</td>\n",
       "      <td>1</td>\n",
       "    </tr>\n",
       "    <tr>\n",
       "      <th>13</th>\n",
       "      <td>Singapore is always wanting to be unique ;)\\n\\...</td>\n",
       "      <td>1</td>\n",
       "    </tr>\n",
       "    <tr>\n",
       "      <th>14</th>\n",
       "      <td>Singapore is always unique</td>\n",
       "      <td>1</td>\n",
       "    </tr>\n",
       "    <tr>\n",
       "      <th>15</th>\n",
       "      <td>if a student chose to do all low-level subject...</td>\n",
       "      <td>0</td>\n",
       "    </tr>\n",
       "    <tr>\n",
       "      <th>16</th>\n",
       "      <td>7 A1 at G1, dunno qualify for which JCs?</td>\n",
       "      <td>1</td>\n",
       "    </tr>\n",
       "    <tr>\n",
       "      <th>17</th>\n",
       "      <td>This is good as in the past students are force...</td>\n",
       "      <td>0</td>\n",
       "    </tr>\n",
       "    <tr>\n",
       "      <th>18</th>\n",
       "      <td>It will only take place in year 2024. So, plea...</td>\n",
       "      <td>0</td>\n",
       "    </tr>\n",
       "    <tr>\n",
       "      <th>19</th>\n",
       "      <td>so messed up</td>\n",
       "      <td>0</td>\n",
       "    </tr>\n",
       "    <tr>\n",
       "      <th>20</th>\n",
       "      <td>They will make every sector so complex, just l...</td>\n",
       "      <td>0</td>\n",
       "    </tr>\n",
       "    <tr>\n",
       "      <th>21</th>\n",
       "      <td>We should bring back caning. Students are now ...</td>\n",
       "      <td>0</td>\n",
       "    </tr>\n",
       "    <tr>\n",
       "      <th>22</th>\n",
       "      <td>@mac12 The solution is simple, use robots to d...</td>\n",
       "      <td>1</td>\n",
       "    </tr>\n",
       "    <tr>\n",
       "      <th>23</th>\n",
       "      <td>It’s true that some rowdy students need the ca...</td>\n",
       "      <td>1</td>\n",
       "    </tr>\n",
       "    <tr>\n",
       "      <th>24</th>\n",
       "      <td>Change here n there in the end bring in FTS al...</td>\n",
       "      <td>0</td>\n",
       "    </tr>\n",
       "    <tr>\n",
       "      <th>25</th>\n",
       "      <td>In the first place, are parents consulted prio...</td>\n",
       "      <td>0</td>\n",
       "    </tr>\n",
       "    <tr>\n",
       "      <th>26</th>\n",
       "      <td>NO end one lah. Even if you stop labelling in ...</td>\n",
       "      <td>0</td>\n",
       "    </tr>\n",
       "    <tr>\n",
       "      <th>27</th>\n",
       "      <td>Unis they also compare, NTU vs NUS vs SMU vs S...</td>\n",
       "      <td>1</td>\n",
       "    </tr>\n",
       "    <tr>\n",
       "      <th>28</th>\n",
       "      <td>@Fang – labelling children at a young age can ...</td>\n",
       "      <td>1</td>\n",
       "    </tr>\n",
       "    <tr>\n",
       "      <th>29</th>\n",
       "      <td>Why the need to change now?...It means that fo...</td>\n",
       "      <td>0</td>\n",
       "    </tr>\n",
       "    <tr>\n",
       "      <th>30</th>\n",
       "      <td>why need to. study, 4ligners taking the job an...</td>\n",
       "      <td>0</td>\n",
       "    </tr>\n",
       "    <tr>\n",
       "      <th>31</th>\n",
       "      <td>Only 2-3 days of school per week is optimal, g...</td>\n",
       "      <td>0</td>\n",
       "    </tr>\n",
       "    <tr>\n",
       "      <th>32</th>\n",
       "      <td>The elite class will protect their own interes...</td>\n",
       "      <td>0</td>\n",
       "    </tr>\n",
       "    <tr>\n",
       "      <th>33</th>\n",
       "      <td>Good, no more discrimination and comparing amo...</td>\n",
       "      <td>0</td>\n",
       "    </tr>\n",
       "    <tr>\n",
       "      <th>34</th>\n",
       "      <td>Is this going to be worse?</td>\n",
       "      <td>0</td>\n",
       "    </tr>\n",
       "    <tr>\n",
       "      <th>35</th>\n",
       "      <td>Same as always, good for some, bad for some.\\n...</td>\n",
       "      <td>1</td>\n",
       "    </tr>\n",
       "    <tr>\n",
       "      <th>36</th>\n",
       "      <td>Right pocket to left pocket. Flip flop with su...</td>\n",
       "      <td>0</td>\n",
       "    </tr>\n",
       "    <tr>\n",
       "      <th>37</th>\n",
       "      <td>This is a good move because it allows individu...</td>\n",
       "      <td>0</td>\n",
       "    </tr>\n",
       "    <tr>\n",
       "      <th>38</th>\n",
       "      <td>This has been debated too long!\\nWhy? Because ...</td>\n",
       "      <td>0</td>\n",
       "    </tr>\n",
       "    <tr>\n",
       "      <th>39</th>\n",
       "      <td>Oh yes, I remember clearly how express stream ...</td>\n",
       "      <td>0</td>\n",
       "    </tr>\n",
       "    <tr>\n",
       "      <th>40</th>\n",
       "      <td>Make the IP guys and girls join in the fun. G1...</td>\n",
       "      <td>0</td>\n",
       "    </tr>\n",
       "    <tr>\n",
       "      <th>41</th>\n",
       "      <td>Our Mr Ong is too hasty to implement the SBB s...</td>\n",
       "      <td>0</td>\n",
       "    </tr>\n",
       "    <tr>\n",
       "      <th>42</th>\n",
       "      <td>Another election gimmick ....</td>\n",
       "      <td>0</td>\n",
       "    </tr>\n",
       "    <tr>\n",
       "      <th>43</th>\n",
       "      <td>When we are stringent to ourselves but when it...</td>\n",
       "      <td>0</td>\n",
       "    </tr>\n",
       "    <tr>\n",
       "      <th>44</th>\n",
       "      <td>Students who had gone tru streaming felt its u...</td>\n",
       "      <td>0</td>\n",
       "    </tr>\n",
       "    <tr>\n",
       "      <th>45</th>\n",
       "      <td>No point actually ...becoz at the ed of the da...</td>\n",
       "      <td>0</td>\n",
       "    </tr>\n",
       "    <tr>\n",
       "      <th>46</th>\n",
       "      <td>To Everyone in this Website, Especially PAP, O...</td>\n",
       "      <td>0</td>\n",
       "    </tr>\n",
       "  </tbody>\n",
       "</table>\n",
       "</div>"
      ],
      "text/plain": [
       "                                              comment  is_reply\n",
       "0   What's the point of studying so much ended up ...         0\n",
       "1   No matter what kind of streaming or subject ba...         0\n",
       "2   Seems to be that the purpose of this system is...         1\n",
       "3   This feels like just another diversion from RE...         0\n",
       "4   Isn’t a “real” issue the boxing of kids into s...         1\n",
       "5   Streaming was started by that tancho tan Tony ...         0\n",
       "6   Will they admit it, that it is a failure? Perh...         1\n",
       "7   the issue is not how the cake is being cut. th...         0\n",
       "8   Who started the secondary school streaming in ...         0\n",
       "9        @RneGan Who else? Our Great Founding Leeder!         1\n",
       "10  Well, well, well, don't $mil-men need to be se...         0\n",
       "11  Every time once the monkey play with musical c...         0\n",
       "12  @Leonard Leong , Do you agree last change whic...         1\n",
       "13  Singapore is always wanting to be unique ;)\\n\\...         1\n",
       "14                         Singapore is always unique         1\n",
       "15  if a student chose to do all low-level subject...         0\n",
       "16           7 A1 at G1, dunno qualify for which JCs?         1\n",
       "17  This is good as in the past students are force...         0\n",
       "18  It will only take place in year 2024. So, plea...         0\n",
       "19                                       so messed up         0\n",
       "20  They will make every sector so complex, just l...         0\n",
       "21  We should bring back caning. Students are now ...         0\n",
       "22  @mac12 The solution is simple, use robots to d...         1\n",
       "23  It’s true that some rowdy students need the ca...         1\n",
       "24  Change here n there in the end bring in FTS al...         0\n",
       "25  In the first place, are parents consulted prio...         0\n",
       "26  NO end one lah. Even if you stop labelling in ...         0\n",
       "27  Unis they also compare, NTU vs NUS vs SMU vs S...         1\n",
       "28  @Fang – labelling children at a young age can ...         1\n",
       "29  Why the need to change now?...It means that fo...         0\n",
       "30  why need to. study, 4ligners taking the job an...         0\n",
       "31  Only 2-3 days of school per week is optimal, g...         0\n",
       "32  The elite class will protect their own interes...         0\n",
       "33  Good, no more discrimination and comparing amo...         0\n",
       "34                         Is this going to be worse?         0\n",
       "35  Same as always, good for some, bad for some.\\n...         1\n",
       "36  Right pocket to left pocket. Flip flop with su...         0\n",
       "37  This is a good move because it allows individu...         0\n",
       "38  This has been debated too long!\\nWhy? Because ...         0\n",
       "39  Oh yes, I remember clearly how express stream ...         0\n",
       "40  Make the IP guys and girls join in the fun. G1...         0\n",
       "41  Our Mr Ong is too hasty to implement the SBB s...         0\n",
       "42                      Another election gimmick ....         0\n",
       "43  When we are stringent to ourselves but when it...         0\n",
       "44  Students who had gone tru streaming felt its u...         0\n",
       "45  No point actually ...becoz at the ed of the da...         0\n",
       "46  To Everyone in this Website, Especially PAP, O...         0"
      ]
     },
     "execution_count": 15,
     "metadata": {},
     "output_type": "execute_result"
    }
   ],
   "source": [
    "test_df"
   ]
  },
  {
   "cell_type": "markdown",
   "metadata": {},
   "source": [
    "## Retrieve the comments and replies from all the pages"
   ]
  },
  {
   "cell_type": "code",
   "execution_count": 16,
   "metadata": {},
   "outputs": [],
   "source": [
    "#Create lists and DataFrames for appending to\n",
    "titles = []\n",
    "text = []\n",
    "comments_df = pd.DataFrame({'article_id':[],'comments':[],'is_reply':[]})\n",
    "\n",
    "#Run through the articles and retrieve the various information\n",
    "for i in range(len(yahoo_sites)):\n",
    "    \n",
    "    #Go to site\n",
    "    driver.get(yahoo_sites[i])\n",
    "    \n",
    "    #Retrieve Title\n",
    "    title = driver.find_element_by_css_selector(\"#SideTop-0-HeadComponentTitle > h1\").text\n",
    "    title\n",
    "    #Add title to the list\n",
    "    titles.append(title)\n",
    "    \n",
    "    #Retrieve article text\n",
    "    article_text = driver.find_element_by_css_selector('.canvas-body').text\n",
    "    \n",
    "    #Remove the footer section\n",
    "    article_text = article_text.split('\\nRelated stor')[0]\n",
    "    article_text = article_text.split('\\nOther Singapore stories')[0]\n",
    "    #Add text to the list\n",
    "    text.append(article_text)\n",
    "    sleep(random.randint(5,10))\n",
    "    \n",
    "    #Reveal comments\n",
    "    comments_button = driver.find_element_by_css_selector('.comments-title')\n",
    "    comments_button.click()\n",
    "    sleep(3)\n",
    "    \n",
    "    #Click \"Show More\" till all comments are shown\n",
    "    while True:\n",
    "        try:\n",
    "            show_more = driver.find_element_by_css_selector(\"button.Ff\\(ss\\)\")\n",
    "            show_more.click()\n",
    "        except:\n",
    "            break\n",
    "    sleep(random.randint(4,11))\n",
    "    \n",
    "    #Retrieve all comments\n",
    "    comments = []\n",
    "    comment_num = 1\n",
    "    is_reply = []\n",
    "    \n",
    "    #Scroll back to first comment\n",
    "    ActionChains(driver).move_to_element(driver.find_element_by_css_selector('li.comment:nth-child(1) > div:nth-child(1) > div:nth-child(2) > div:nth-child(1)')).perform()\n",
    "    \n",
    "    #Iterate through the comments\n",
    "    while True:\n",
    "        try:\n",
    "            #Retrieve the comment\n",
    "            comments.append(driver.find_element_by_css_selector(\"li.comment:nth-child({}) > div:nth-child(1) > div:nth-child(2) > div:nth-child(1)\".format(comment_num)).text)\n",
    "            is_reply.append(0)\n",
    "            \n",
    "            #Expand replies (if any)\n",
    "            try:\n",
    "                replies_button = driver.find_element_by_css_selector(\"li.Mt\\(5px\\):nth-child({}) > div:nth-child(1) > div:nth-child(4) > div:nth-child(1) > button:nth-child(2)\".format(comment_num))\n",
    "                replies_button.click()\n",
    "                sleep(2)\n",
    "\n",
    "                #counter for replies\n",
    "                reply_num = 1\n",
    "\n",
    "                #Retrieve replies\n",
    "                while True:\n",
    "                    comments.append(driver.find_element_by_css_selector(\"li.comment:nth-child({}) > div:nth-child(1) > div:nth-child(4) > div:nth-child(3) > ul:nth-child(2) > li:nth-child({}) > div:nth-child(1) > div:nth-child(2) > div:nth-child(1)\".format(comment_num,reply_num)).text)\n",
    "                    is_reply.append(1)\n",
    "                    reply_num+=1\n",
    "            #\n",
    "            increase comment counter and restart the loop\n",
    "            except:\n",
    "                comment_num+=1\n",
    "                continue\n",
    "\n",
    "        except:\n",
    "            break\n",
    "    \n",
    "    #convert all comments into a DataFrame\n",
    "    com_df = pd.DataFrame({'article_id':[i]*len(comments),'comments':comments,'is_reply':is_reply})\n",
    "    #Concatenate the new comments to existing ones\n",
    "    comments_df = pd.concat([comments_df,com_df],axis=0)\n",
    "    sleep(random.randint(2,6))\n",
    "\n",
    "#Create a DataFrame of the article ids, title and text.\n",
    "articles_df = pd.DataFrame({'article_id':range(len(yahoo_sites)),'title':titles,'text':text})\n",
    "\n",
    "#Save the DataFrames of article information and comments\n",
    "articles_df.to_csv('./articles.csv')\n",
    "comments_df.to_csv('./comments.csv')"
   ]
  },
  {
   "cell_type": "code",
   "execution_count": 17,
   "metadata": {},
   "outputs": [
    {
     "data": {
      "text/html": [
       "<div>\n",
       "<style scoped>\n",
       "    .dataframe tbody tr th:only-of-type {\n",
       "        vertical-align: middle;\n",
       "    }\n",
       "\n",
       "    .dataframe tbody tr th {\n",
       "        vertical-align: top;\n",
       "    }\n",
       "\n",
       "    .dataframe thead th {\n",
       "        text-align: right;\n",
       "    }\n",
       "</style>\n",
       "<table border=\"1\" class=\"dataframe\">\n",
       "  <thead>\n",
       "    <tr style=\"text-align: right;\">\n",
       "      <th></th>\n",
       "      <th>article_id</th>\n",
       "      <th>title</th>\n",
       "      <th>text</th>\n",
       "    </tr>\n",
       "  </thead>\n",
       "  <tbody>\n",
       "    <tr>\n",
       "      <th>0</th>\n",
       "      <td>0</td>\n",
       "      <td>Yahoo Poll: Is it a good thing to replace stre...</td>\n",
       "      <td>From 2024, secondary school students will no l...</td>\n",
       "    </tr>\n",
       "    <tr>\n",
       "      <th>1</th>\n",
       "      <td>1</td>\n",
       "      <td>Budget 2019 debate: Subject-Based Banding to r...</td>\n",
       "      <td>From 2024, secondary school students will no l...</td>\n",
       "    </tr>\n",
       "    <tr>\n",
       "      <th>2</th>\n",
       "      <td>2</td>\n",
       "      <td>Yahoo Poll: Would it be an issue for you if yo...</td>\n",
       "      <td>A Singapore mother of a three has suddenly com...</td>\n",
       "    </tr>\n",
       "    <tr>\n",
       "      <th>3</th>\n",
       "      <td>3</td>\n",
       "      <td>Remove streaming in secondary schools to reduc...</td>\n",
       "      <td>The Ministry of Education (MOE) should conside...</td>\n",
       "    </tr>\n",
       "  </tbody>\n",
       "</table>\n",
       "</div>"
      ],
      "text/plain": [
       "   article_id                                              title  \\\n",
       "0           0  Yahoo Poll: Is it a good thing to replace stre...   \n",
       "1           1  Budget 2019 debate: Subject-Based Banding to r...   \n",
       "2           2  Yahoo Poll: Would it be an issue for you if yo...   \n",
       "3           3  Remove streaming in secondary schools to reduc...   \n",
       "\n",
       "                                                text  \n",
       "0  From 2024, secondary school students will no l...  \n",
       "1  From 2024, secondary school students will no l...  \n",
       "2  A Singapore mother of a three has suddenly com...  \n",
       "3  The Ministry of Education (MOE) should conside...  "
      ]
     },
     "execution_count": 17,
     "metadata": {},
     "output_type": "execute_result"
    }
   ],
   "source": [
    "#Check the articles\n",
    "articles_df"
   ]
  },
  {
   "cell_type": "code",
   "execution_count": 25,
   "metadata": {},
   "outputs": [
    {
     "name": "stdout",
     "output_type": "stream",
     "text": [
      "<class 'pandas.core.frame.DataFrame'>\n",
      "Int64Index: 265 entries, 0 to 68\n",
      "Data columns (total 3 columns):\n",
      "article_id    265 non-null float64\n",
      "comments      265 non-null object\n",
      "is_reply      265 non-null float64\n",
      "dtypes: float64(2), object(1)\n",
      "memory usage: 8.3+ KB\n"
     ]
    }
   ],
   "source": [
    "#Check the comments\n",
    "comments_df.info()"
   ]
  },
  {
   "cell_type": "code",
   "execution_count": 24,
   "metadata": {},
   "outputs": [
    {
     "data": {
      "text/plain": [
       "0.0    184\n",
       "1.0     81\n",
       "Name: is_reply, dtype: int64"
      ]
     },
     "execution_count": 24,
     "metadata": {},
     "output_type": "execute_result"
    }
   ],
   "source": [
    "comments_df['is_reply'].value_counts()"
   ]
  },
  {
   "cell_type": "code",
   "execution_count": 26,
   "metadata": {},
   "outputs": [
    {
     "data": {
      "text/html": [
       "<div>\n",
       "<style scoped>\n",
       "    .dataframe tbody tr th:only-of-type {\n",
       "        vertical-align: middle;\n",
       "    }\n",
       "\n",
       "    .dataframe tbody tr th {\n",
       "        vertical-align: top;\n",
       "    }\n",
       "\n",
       "    .dataframe thead th {\n",
       "        text-align: right;\n",
       "    }\n",
       "</style>\n",
       "<table border=\"1\" class=\"dataframe\">\n",
       "  <thead>\n",
       "    <tr style=\"text-align: right;\">\n",
       "      <th></th>\n",
       "      <th>article_id</th>\n",
       "      <th>comments</th>\n",
       "      <th>is_reply</th>\n",
       "    </tr>\n",
       "  </thead>\n",
       "  <tbody>\n",
       "    <tr>\n",
       "      <th>0</th>\n",
       "      <td>0.0</td>\n",
       "      <td>What's the point of studying so much ended up ...</td>\n",
       "      <td>0.0</td>\n",
       "    </tr>\n",
       "    <tr>\n",
       "      <th>1</th>\n",
       "      <td>0.0</td>\n",
       "      <td>No matter what kind of streaming or subject ba...</td>\n",
       "      <td>0.0</td>\n",
       "    </tr>\n",
       "    <tr>\n",
       "      <th>2</th>\n",
       "      <td>0.0</td>\n",
       "      <td>Seems to be that the purpose of this system is...</td>\n",
       "      <td>1.0</td>\n",
       "    </tr>\n",
       "    <tr>\n",
       "      <th>3</th>\n",
       "      <td>0.0</td>\n",
       "      <td>This feels like just another diversion from RE...</td>\n",
       "      <td>0.0</td>\n",
       "    </tr>\n",
       "    <tr>\n",
       "      <th>4</th>\n",
       "      <td>0.0</td>\n",
       "      <td>Isn’t a “real” issue the boxing of kids into s...</td>\n",
       "      <td>1.0</td>\n",
       "    </tr>\n",
       "  </tbody>\n",
       "</table>\n",
       "</div>"
      ],
      "text/plain": [
       "   article_id                                           comments  is_reply\n",
       "0         0.0  What's the point of studying so much ended up ...       0.0\n",
       "1         0.0  No matter what kind of streaming or subject ba...       0.0\n",
       "2         0.0  Seems to be that the purpose of this system is...       1.0\n",
       "3         0.0  This feels like just another diversion from RE...       0.0\n",
       "4         0.0  Isn’t a “real” issue the boxing of kids into s...       1.0"
      ]
     },
     "execution_count": 26,
     "metadata": {},
     "output_type": "execute_result"
    }
   ],
   "source": [
    "comments_df.head()"
   ]
  },
  {
   "cell_type": "code",
   "execution_count": 27,
   "metadata": {},
   "outputs": [
    {
     "data": {
      "text/html": [
       "<div>\n",
       "<style scoped>\n",
       "    .dataframe tbody tr th:only-of-type {\n",
       "        vertical-align: middle;\n",
       "    }\n",
       "\n",
       "    .dataframe tbody tr th {\n",
       "        vertical-align: top;\n",
       "    }\n",
       "\n",
       "    .dataframe thead th {\n",
       "        text-align: right;\n",
       "    }\n",
       "</style>\n",
       "<table border=\"1\" class=\"dataframe\">\n",
       "  <thead>\n",
       "    <tr style=\"text-align: right;\">\n",
       "      <th></th>\n",
       "      <th>article_id</th>\n",
       "      <th>comments</th>\n",
       "      <th>is_reply</th>\n",
       "    </tr>\n",
       "  </thead>\n",
       "  <tbody>\n",
       "    <tr>\n",
       "      <th>64</th>\n",
       "      <td>3.0</td>\n",
       "      <td>Good. another own self check own self. LoL</td>\n",
       "      <td>0.0</td>\n",
       "    </tr>\n",
       "    <tr>\n",
       "      <th>65</th>\n",
       "      <td>3.0</td>\n",
       "      <td>Louis is 100% correct! I support his thinking ...</td>\n",
       "      <td>0.0</td>\n",
       "    </tr>\n",
       "    <tr>\n",
       "      <th>66</th>\n",
       "      <td>3.0</td>\n",
       "      <td>Election tactics lah, now act like good guy so...</td>\n",
       "      <td>1.0</td>\n",
       "    </tr>\n",
       "    <tr>\n",
       "      <th>67</th>\n",
       "      <td>3.0</td>\n",
       "      <td>One of the many useless jiao liao be in the house</td>\n",
       "      <td>0.0</td>\n",
       "    </tr>\n",
       "    <tr>\n",
       "      <th>68</th>\n",
       "      <td>3.0</td>\n",
       "      <td>Louis Ng is obviously an IDIOT.</td>\n",
       "      <td>0.0</td>\n",
       "    </tr>\n",
       "  </tbody>\n",
       "</table>\n",
       "</div>"
      ],
      "text/plain": [
       "    article_id                                           comments  is_reply\n",
       "64         3.0         Good. another own self check own self. LoL       0.0\n",
       "65         3.0  Louis is 100% correct! I support his thinking ...       0.0\n",
       "66         3.0  Election tactics lah, now act like good guy so...       1.0\n",
       "67         3.0  One of the many useless jiao liao be in the house       0.0\n",
       "68         3.0                    Louis Ng is obviously an IDIOT.       0.0"
      ]
     },
     "execution_count": 27,
     "metadata": {},
     "output_type": "execute_result"
    }
   ],
   "source": [
    "comments_df.tail()"
   ]
  },
  {
   "cell_type": "code",
   "execution_count": null,
   "metadata": {},
   "outputs": [],
   "source": []
  }
 ],
 "metadata": {
  "kernelspec": {
   "display_name": "Python 3",
   "language": "python",
   "name": "python3"
  },
  "language_info": {
   "codemirror_mode": {
    "name": "ipython",
    "version": 3
   },
   "file_extension": ".py",
   "mimetype": "text/x-python",
   "name": "python",
   "nbconvert_exporter": "python",
   "pygments_lexer": "ipython3",
   "version": "3.6.8"
  }
 },
 "nbformat": 4,
 "nbformat_minor": 2
}
