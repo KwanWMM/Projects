{
 "cells": [
  {
   "cell_type": "code",
   "execution_count": 1,
   "metadata": {},
   "outputs": [],
   "source": [
    "import pandas as pd"
   ]
  },
  {
   "cell_type": "code",
   "execution_count": 2,
   "metadata": {},
   "outputs": [],
   "source": [
    "comments_df = pd.read_csv('./comments_with_score.csv',index_col = 0)"
   ]
  },
  {
   "cell_type": "code",
   "execution_count": 3,
   "metadata": {},
   "outputs": [
    {
     "data": {
      "text/html": [
       "<div>\n",
       "<style scoped>\n",
       "    .dataframe tbody tr th:only-of-type {\n",
       "        vertical-align: middle;\n",
       "    }\n",
       "\n",
       "    .dataframe tbody tr th {\n",
       "        vertical-align: top;\n",
       "    }\n",
       "\n",
       "    .dataframe thead th {\n",
       "        text-align: right;\n",
       "    }\n",
       "</style>\n",
       "<table border=\"1\" class=\"dataframe\">\n",
       "  <thead>\n",
       "    <tr style=\"text-align: right;\">\n",
       "      <th></th>\n",
       "      <th>article_id</th>\n",
       "      <th>comments</th>\n",
       "      <th>is_reply</th>\n",
       "      <th>neg</th>\n",
       "      <th>neu</th>\n",
       "      <th>pos</th>\n",
       "      <th>compound</th>\n",
       "    </tr>\n",
       "  </thead>\n",
       "  <tbody>\n",
       "    <tr>\n",
       "      <th>0</th>\n",
       "      <td>0.0</td>\n",
       "      <td>What's the point of studying so much ended up ...</td>\n",
       "      <td>0.0</td>\n",
       "      <td>0.000</td>\n",
       "      <td>0.872</td>\n",
       "      <td>0.128</td>\n",
       "      <td>0.7096</td>\n",
       "    </tr>\n",
       "    <tr>\n",
       "      <th>1</th>\n",
       "      <td>0.0</td>\n",
       "      <td>No matter what kind of streaming or subject ba...</td>\n",
       "      <td>0.0</td>\n",
       "      <td>0.156</td>\n",
       "      <td>0.760</td>\n",
       "      <td>0.084</td>\n",
       "      <td>-0.8555</td>\n",
       "    </tr>\n",
       "    <tr>\n",
       "      <th>2</th>\n",
       "      <td>0.0</td>\n",
       "      <td>Seems to be that the purpose of this system is...</td>\n",
       "      <td>1.0</td>\n",
       "      <td>0.000</td>\n",
       "      <td>0.844</td>\n",
       "      <td>0.156</td>\n",
       "      <td>0.6322</td>\n",
       "    </tr>\n",
       "    <tr>\n",
       "      <th>3</th>\n",
       "      <td>0.0</td>\n",
       "      <td>This feels like just another diversion from RE...</td>\n",
       "      <td>0.0</td>\n",
       "      <td>0.045</td>\n",
       "      <td>0.797</td>\n",
       "      <td>0.159</td>\n",
       "      <td>0.8981</td>\n",
       "    </tr>\n",
       "    <tr>\n",
       "      <th>4</th>\n",
       "      <td>0.0</td>\n",
       "      <td>Isn’t a “real” issue the boxing of kids into s...</td>\n",
       "      <td>1.0</td>\n",
       "      <td>0.000</td>\n",
       "      <td>0.690</td>\n",
       "      <td>0.310</td>\n",
       "      <td>0.6597</td>\n",
       "    </tr>\n",
       "  </tbody>\n",
       "</table>\n",
       "</div>"
      ],
      "text/plain": [
       "   article_id                                           comments  is_reply  \\\n",
       "0         0.0  What's the point of studying so much ended up ...       0.0   \n",
       "1         0.0  No matter what kind of streaming or subject ba...       0.0   \n",
       "2         0.0  Seems to be that the purpose of this system is...       1.0   \n",
       "3         0.0  This feels like just another diversion from RE...       0.0   \n",
       "4         0.0  Isn’t a “real” issue the boxing of kids into s...       1.0   \n",
       "\n",
       "     neg    neu    pos  compound  \n",
       "0  0.000  0.872  0.128    0.7096  \n",
       "1  0.156  0.760  0.084   -0.8555  \n",
       "2  0.000  0.844  0.156    0.6322  \n",
       "3  0.045  0.797  0.159    0.8981  \n",
       "4  0.000  0.690  0.310    0.6597  "
      ]
     },
     "execution_count": 3,
     "metadata": {},
     "output_type": "execute_result"
    }
   ],
   "source": [
    "comments_df.head()"
   ]
  },
  {
   "cell_type": "markdown",
   "metadata": {},
   "source": [
    "## Topic Modelling (Latent Dirichlet Allocation unigram)"
   ]
  },
  {
   "cell_type": "code",
   "execution_count": 4,
   "metadata": {},
   "outputs": [],
   "source": [
    "from sklearn.feature_extraction.text import CountVectorizer\n",
    "from sklearn.decomposition import LatentDirichletAllocation"
   ]
  },
  {
   "cell_type": "code",
   "execution_count": 5,
   "metadata": {},
   "outputs": [],
   "source": [
    "cvec = CountVectorizer(stop_words='english',max_df=0.98,min_df=3)"
   ]
  },
  {
   "cell_type": "code",
   "execution_count": 6,
   "metadata": {},
   "outputs": [],
   "source": [
    "comments_cvec = cvec.fit_transform(comments_df['comments'])"
   ]
  },
  {
   "cell_type": "code",
   "execution_count": 7,
   "metadata": {},
   "outputs": [
    {
     "data": {
      "text/plain": [
       "['1990s',\n",
       " '1st',\n",
       " '20',\n",
       " '2024',\n",
       " '40',\n",
       " '90s',\n",
       " 'ability',\n",
       " 'able',\n",
       " 'abuse',\n",
       " 'academic',\n",
       " 'act',\n",
       " 'acts',\n",
       " 'actual',\n",
       " 'actually',\n",
       " 'affect',\n",
       " 'affected',\n",
       " 'age',\n",
       " 'ago',\n",
       " 'agree',\n",
       " 'ah',\n",
       " 'allow',\n",
       " 'allows',\n",
       " 'anti',\n",
       " 'arts',\n",
       " 'ask',\n",
       " 'attitude',\n",
       " 'average',\n",
       " 'away',\n",
       " 'bad',\n",
       " 'badly',\n",
       " 'banding',\n",
       " 'based',\n",
       " 'batok',\n",
       " 'belief',\n",
       " 'believe',\n",
       " 'belong',\n",
       " 'benefit',\n",
       " 'best',\n",
       " 'better',\n",
       " 'big',\n",
       " 'blame',\n",
       " 'bond',\n",
       " 'boon',\n",
       " 'born',\n",
       " 'boss',\n",
       " 'bosses',\n",
       " 'brainwash',\n",
       " 'breakers',\n",
       " 'bring',\n",
       " 'brought',\n",
       " 'brutally',\n",
       " 'build',\n",
       " 'bukit',\n",
       " 'business',\n",
       " 'called',\n",
       " 'care',\n",
       " 'caste',\n",
       " 'category',\n",
       " 'cause',\n",
       " 'certain',\n",
       " 'challenging',\n",
       " 'chan',\n",
       " 'chance',\n",
       " 'change',\n",
       " 'changes',\n",
       " 'charge',\n",
       " 'cheaters',\n",
       " 'cheating',\n",
       " 'check',\n",
       " 'chee',\n",
       " 'child',\n",
       " 'children',\n",
       " 'china',\n",
       " 'chinese',\n",
       " 'citizen',\n",
       " 'citizens',\n",
       " 'civil',\n",
       " 'class',\n",
       " 'classes',\n",
       " 'clean',\n",
       " 'cleaning',\n",
       " 'clear',\n",
       " 'clumsiness',\n",
       " 'come',\n",
       " 'coming',\n",
       " 'comment',\n",
       " 'comments',\n",
       " 'common',\n",
       " 'companies',\n",
       " 'competition',\n",
       " 'competitiveness',\n",
       " 'complacency',\n",
       " 'confuse',\n",
       " 'consequence',\n",
       " 'consequences',\n",
       " 'contract',\n",
       " 'control',\n",
       " 'cororate',\n",
       " 'corruption',\n",
       " 'counter',\n",
       " 'countries',\n",
       " 'country',\n",
       " 'cpf',\n",
       " 'culture',\n",
       " 'cultures',\n",
       " 'current',\n",
       " 'dad',\n",
       " 'day',\n",
       " 'days',\n",
       " 'decades',\n",
       " 'decide',\n",
       " 'degrees',\n",
       " 'den',\n",
       " 'did',\n",
       " 'didn',\n",
       " 'difference',\n",
       " 'different',\n",
       " 'dirty',\n",
       " 'disobey',\n",
       " 'divide',\n",
       " 'does',\n",
       " 'doesn',\n",
       " 'dogs',\n",
       " 'doing',\n",
       " 'don',\n",
       " 'dpm',\n",
       " 'dr',\n",
       " 'durai',\n",
       " 'economic',\n",
       " 'economy',\n",
       " 'educated',\n",
       " 'education',\n",
       " 'educational',\n",
       " 'educators',\n",
       " 'effects',\n",
       " 'election',\n",
       " 'elite',\n",
       " 'elites',\n",
       " 'elitism',\n",
       " 'emerged',\n",
       " 'employers',\n",
       " 'end',\n",
       " 'enemies',\n",
       " 'entire',\n",
       " 'equal',\n",
       " 'erection',\n",
       " 'especially',\n",
       " 'esteem',\n",
       " 'ethics',\n",
       " 'evil',\n",
       " 'ex',\n",
       " 'excellence',\n",
       " 'expensive',\n",
       " 'expose',\n",
       " 'express',\n",
       " 'facing',\n",
       " 'fact',\n",
       " 'fair',\n",
       " 'families',\n",
       " 'family',\n",
       " 'favor',\n",
       " 'favortism',\n",
       " 'favours',\n",
       " 'feeling',\n",
       " 'finally',\n",
       " 'fireman',\n",
       " 'flip',\n",
       " 'focus',\n",
       " 'follow',\n",
       " 'force',\n",
       " 'forced',\n",
       " 'forces',\n",
       " 'forcing',\n",
       " 'foreign',\n",
       " 'foreigners',\n",
       " 'fox',\n",
       " 'friends',\n",
       " 'ft',\n",
       " 'fun',\n",
       " 'future',\n",
       " 'g1',\n",
       " 'game',\n",
       " 'gay',\n",
       " 'gifted',\n",
       " 'gimmick',\n",
       " 'given',\n",
       " 'giving',\n",
       " 'global',\n",
       " 'going',\n",
       " 'good',\n",
       " 'got',\n",
       " 'gov',\n",
       " 'government',\n",
       " 'grade',\n",
       " 'grades',\n",
       " 'graduate',\n",
       " 'graduates',\n",
       " 'grc',\n",
       " 'great',\n",
       " 'group',\n",
       " 'groups',\n",
       " 'gst',\n",
       " 'guard',\n",
       " 'guess',\n",
       " 'guys',\n",
       " 'happen',\n",
       " 'happened',\n",
       " 'hard',\n",
       " 'harmful',\n",
       " 'having',\n",
       " 'heart',\n",
       " 'heavy',\n",
       " 'hee',\n",
       " 'help',\n",
       " 'hen',\n",
       " 'high',\n",
       " 'higher',\n",
       " 'highlighted',\n",
       " 'highly',\n",
       " 'hire',\n",
       " 'ho',\n",
       " 'hope',\n",
       " 'house',\n",
       " 'hv',\n",
       " 'hypocrites',\n",
       " 'idea',\n",
       " 'ideas',\n",
       " 'ignorance',\n",
       " 'illegal',\n",
       " 'improve',\n",
       " 'improvement',\n",
       " 'india',\n",
       " 'influence',\n",
       " 'influencial',\n",
       " 'inside',\n",
       " 'instead',\n",
       " 'instruction',\n",
       " 'intentional',\n",
       " 'interests',\n",
       " 'ip',\n",
       " 'irresponsible',\n",
       " 'isn',\n",
       " 'issue',\n",
       " 'issues',\n",
       " 'jc',\n",
       " 'job',\n",
       " 'jobs',\n",
       " 'join',\n",
       " 'juan',\n",
       " 'just',\n",
       " 'kee',\n",
       " 'key',\n",
       " 'khaw',\n",
       " 'kids',\n",
       " 'kind',\n",
       " 'know',\n",
       " 'knowledge',\n",
       " 'kong',\n",
       " 'lack',\n",
       " 'lackeys',\n",
       " 'lah',\n",
       " 'late',\n",
       " 'law',\n",
       " 'leader',\n",
       " 'leaders',\n",
       " 'leadership',\n",
       " 'learn',\n",
       " 'learning',\n",
       " 'led',\n",
       " 'lee',\n",
       " 'let',\n",
       " 'level',\n",
       " 'levels',\n",
       " 'life',\n",
       " 'like',\n",
       " 'likely',\n",
       " 'likewise',\n",
       " 'lim',\n",
       " 'live',\n",
       " 'living',\n",
       " 'local',\n",
       " 'locals',\n",
       " 'lol',\n",
       " 'long',\n",
       " 'look',\n",
       " 'looked',\n",
       " 'loose',\n",
       " 'lose',\n",
       " 'losing',\n",
       " 'lot',\n",
       " 'lots',\n",
       " 'louis',\n",
       " 'lousy',\n",
       " 'low',\n",
       " 'lower',\n",
       " 'major',\n",
       " 'majority',\n",
       " 'make',\n",
       " 'making',\n",
       " 'management',\n",
       " 'mao',\n",
       " 'mass',\n",
       " 'maths',\n",
       " 'matter',\n",
       " 'maybe',\n",
       " 'mean',\n",
       " 'means',\n",
       " 'measures',\n",
       " 'media',\n",
       " 'men',\n",
       " 'mention',\n",
       " 'mentioned',\n",
       " 'mess',\n",
       " 'millions',\n",
       " 'mind',\n",
       " 'minister',\n",
       " 'ministers',\n",
       " 'ministry',\n",
       " 'mistake',\n",
       " 'mix',\n",
       " 'mixing',\n",
       " 'moe',\n",
       " 'mom',\n",
       " 'money',\n",
       " 'monkey',\n",
       " 'month',\n",
       " 'moral',\n",
       " 'mp',\n",
       " 'mps',\n",
       " 'mr',\n",
       " 'national',\n",
       " 'nations',\n",
       " 'necessary',\n",
       " 'need',\n",
       " 'needs',\n",
       " 'neglect',\n",
       " 'new',\n",
       " 'newly',\n",
       " 'ng',\n",
       " 'nice',\n",
       " 'night',\n",
       " 'non',\n",
       " 'normal',\n",
       " 'note',\n",
       " 'ns',\n",
       " 'number',\n",
       " 'nus',\n",
       " 'obey',\n",
       " 'objectives',\n",
       " 'office',\n",
       " 'oh',\n",
       " 'ok',\n",
       " 'old',\n",
       " 'older',\n",
       " 'ones',\n",
       " 'ong',\n",
       " 'open',\n",
       " 'opportunity',\n",
       " 'oppose',\n",
       " 'opposite',\n",
       " 'opposition',\n",
       " 'options',\n",
       " 'orders',\n",
       " 'organizations',\n",
       " 'outcome',\n",
       " 'outcomes',\n",
       " 'outside',\n",
       " 'paid',\n",
       " 'pang',\n",
       " 'pap',\n",
       " 'parents',\n",
       " 'parliament',\n",
       " 'parties',\n",
       " 'party',\n",
       " 'past',\n",
       " 'pastor',\n",
       " 'pay',\n",
       " 'people',\n",
       " 'person',\n",
       " 'peter',\n",
       " 'place',\n",
       " 'play',\n",
       " 'playing',\n",
       " 'pls',\n",
       " 'pm',\n",
       " 'point',\n",
       " 'policies',\n",
       " 'policy',\n",
       " 'political',\n",
       " 'politics',\n",
       " 'poll',\n",
       " 'polls',\n",
       " 'poly',\n",
       " 'poor',\n",
       " 'population',\n",
       " 'poreans',\n",
       " 'power',\n",
       " 'practces',\n",
       " 'practices',\n",
       " 'prefer',\n",
       " 'prepare',\n",
       " 'pressure',\n",
       " 'prevent',\n",
       " 'previous',\n",
       " 'primary',\n",
       " 'private',\n",
       " 'problem',\n",
       " 'problems',\n",
       " 'professional',\n",
       " 'professor',\n",
       " 'protectionism',\n",
       " 'psle',\n",
       " 'public',\n",
       " 'qualify',\n",
       " 'question',\n",
       " 'quite',\n",
       " 'race',\n",
       " 'ready',\n",
       " 'real',\n",
       " 'realised',\n",
       " 'really',\n",
       " 'reduce',\n",
       " 'reform',\n",
       " 'regardless',\n",
       " 'related',\n",
       " 'remember',\n",
       " 'remove',\n",
       " 'replace',\n",
       " 'resources',\n",
       " 'rest',\n",
       " 'restructure',\n",
       " 'result',\n",
       " 'results',\n",
       " 'revamp',\n",
       " 'rich',\n",
       " 'richard',\n",
       " 'ridiculous',\n",
       " 'right',\n",
       " 'rights',\n",
       " 'sack',\n",
       " 'sacrifice',\n",
       " 'sad',\n",
       " 'said',\n",
       " 'salaries',\n",
       " 'salary',\n",
       " 'save',\n",
       " 'say',\n",
       " 'saying',\n",
       " 'scandals',\n",
       " 'sch',\n",
       " 'scholars',\n",
       " 'school',\n",
       " 'schools',\n",
       " 'science',\n",
       " 'score',\n",
       " 'sec',\n",
       " 'secondary',\n",
       " 'sector',\n",
       " 'security',\n",
       " 'seen',\n",
       " 'self',\n",
       " 'seriously',\n",
       " 'servants',\n",
       " 'service',\n",
       " 'services',\n",
       " 'set',\n",
       " 'sex',\n",
       " 'sg',\n",
       " 'shanmugan',\n",
       " 'share',\n",
       " 'short',\n",
       " 'similar',\n",
       " 'sin',\n",
       " 'singapore',\n",
       " 'singaporean',\n",
       " 'singaporeans',\n",
       " 'skills',\n",
       " 'slower',\n",
       " 'smart',\n",
       " 'social',\n",
       " 'society',\n",
       " 'soon',\n",
       " 'sounds',\n",
       " 'speak',\n",
       " 'special',\n",
       " 'spread',\n",
       " 'staff',\n",
       " 'standards',\n",
       " 'start',\n",
       " 'started',\n",
       " 'status',\n",
       " 'stay',\n",
       " 'stigma',\n",
       " 'stop',\n",
       " 'stratification',\n",
       " 'stream',\n",
       " 'streaming',\n",
       " 'stress',\n",
       " 'strong',\n",
       " 'student',\n",
       " 'students',\n",
       " 'study',\n",
       " 'studying',\n",
       " 'stupid',\n",
       " 'subject',\n",
       " 'subjects',\n",
       " 'sun',\n",
       " 'superiors',\n",
       " 'support',\n",
       " 'supreme',\n",
       " 'sure',\n",
       " 'systems',\n",
       " 'table',\n",
       " 'taken',\n",
       " 'takes',\n",
       " 'taking',\n",
       " 'talent',\n",
       " 'talents',\n",
       " 'talk',\n",
       " 'teach',\n",
       " 'teachers',\n",
       " 'technical',\n",
       " 'tell',\n",
       " 'term',\n",
       " 'terrible',\n",
       " 'tey',\n",
       " 'thanks',\n",
       " 'tharman',\n",
       " 'thing',\n",
       " 'things',\n",
       " 'think',\n",
       " 'thinking',\n",
       " 'threaten',\n",
       " 'throne',\n",
       " 'time',\n",
       " 'today',\n",
       " 'tong',\n",
       " 'totally',\n",
       " 'training',\n",
       " 'true',\n",
       " 'truth',\n",
       " 'try',\n",
       " 'trying',\n",
       " 'tuition',\n",
       " 'turn',\n",
       " 'turns',\n",
       " 'twisted',\n",
       " 'type',\n",
       " 'types',\n",
       " 'tze',\n",
       " 'uncorrupted',\n",
       " 'undergo',\n",
       " 'understand',\n",
       " 'unethical',\n",
       " 'unfortunately',\n",
       " 'universities',\n",
       " 'university',\n",
       " 'unlawful',\n",
       " 'useless',\n",
       " 'value',\n",
       " 'values',\n",
       " 'violent',\n",
       " 'vocal',\n",
       " 'vote',\n",
       " 'vs',\n",
       " 'wah',\n",
       " 'wake',\n",
       " 'walking',\n",
       " 'want',\n",
       " 'wants',\n",
       " 'way',\n",
       " 'ways',\n",
       " 'weak',\n",
       " 'website',\n",
       " 'week',\n",
       " 'wendy',\n",
       " 'went',\n",
       " 'widespread',\n",
       " 'wife',\n",
       " 'win',\n",
       " 'words',\n",
       " 'work',\n",
       " 'workers',\n",
       " 'workforce',\n",
       " 'working',\n",
       " 'works',\n",
       " 'world',\n",
       " 'worse',\n",
       " 'worst',\n",
       " 'wrong',\n",
       " 'yahoo',\n",
       " 'year',\n",
       " 'years',\n",
       " 'yes',\n",
       " 'yong',\n",
       " 'young',\n",
       " '其心必异',\n",
       " '志不同',\n",
       " '权术游戏',\n",
       " '清理门户',\n",
       " '道不合',\n",
       " '阳奉阴违',\n",
       " '非我族类']"
      ]
     },
     "execution_count": 7,
     "metadata": {},
     "output_type": "execute_result"
    }
   ],
   "source": [
    "#Vocabulary of words\n",
    "cvec.get_feature_names()"
   ]
  },
  {
   "cell_type": "code",
   "execution_count": 8,
   "metadata": {},
   "outputs": [
    {
     "data": {
      "text/plain": [
       "LatentDirichletAllocation(batch_size=128, doc_topic_prior=None,\n",
       "             evaluate_every=-1, learning_decay=0.7,\n",
       "             learning_method='batch', learning_offset=10.0,\n",
       "             max_doc_update_iter=100, max_iter=10, mean_change_tol=0.001,\n",
       "             n_components=2, n_jobs=None, n_topics=None, perp_tol=0.1,\n",
       "             random_state=42, topic_word_prior=None,\n",
       "             total_samples=1000000.0, verbose=0)"
      ]
     },
     "execution_count": 8,
     "metadata": {},
     "output_type": "execute_result"
    }
   ],
   "source": [
    "#Model for 2 topics\n",
    "lda = LatentDirichletAllocation(n_components=2,random_state=42)\n",
    "lda.fit(comments_cvec)"
   ]
  },
  {
   "cell_type": "code",
   "execution_count": 9,
   "metadata": {},
   "outputs": [],
   "source": [
    "#Crate a function to print top words for each topic to have a sense of what the topics might represent\n",
    "def show_top15(lda_model,vec_words):\n",
    "    '''\n",
    "    This function takes in an lda fitted model and prints the top 15 words for each topic modelled.\n",
    "    '''\n",
    "    for index,topic in enumerate(lda_model.components_):\n",
    "        print('The top 15 words for topic #{}'.format(index))\n",
    "        print([vec_words.get_feature_names()[i] for i in topic.argsort()[-15:]])\n",
    "        print('\\n')"
   ]
  },
  {
   "cell_type": "code",
   "execution_count": 10,
   "metadata": {},
   "outputs": [
    {
     "name": "stdout",
     "output_type": "stream",
     "text": [
      "The top 15 words for topic #0\n",
      "['change', 'schools', 'like', 'pap', 'time', 'normal', 'school', 'stream', 'people', 'chinese', 'education', 'just', 'good', 'streaming', 'students']\n",
      "\n",
      "\n",
      "The top 15 words for topic #1\n",
      "['normal', 'called', 'reform', 'big', 'education', 'government', 'civil', 'restructure', 'world', 'years', 'singaporean', 'bad', 'kids', 'like', 'singapore']\n",
      "\n",
      "\n"
     ]
    }
   ],
   "source": [
    "#Show top words for each topic\n",
    "show_top15(lda,cvec)"
   ]
  },
  {
   "cell_type": "markdown",
   "metadata": {},
   "source": [
    "<div class='alert alert-block alert-warning'>\n",
    "    The two topic seems to both be a mix of politics and education.\n",
    "</div>"
   ]
  },
  {
   "cell_type": "code",
   "execution_count": 11,
   "metadata": {},
   "outputs": [
    {
     "data": {
      "text/plain": [
       "LatentDirichletAllocation(batch_size=128, doc_topic_prior=None,\n",
       "             evaluate_every=-1, learning_decay=0.7,\n",
       "             learning_method='batch', learning_offset=10.0,\n",
       "             max_doc_update_iter=100, max_iter=10, mean_change_tol=0.001,\n",
       "             n_components=3, n_jobs=None, n_topics=None, perp_tol=0.1,\n",
       "             random_state=42, topic_word_prior=None,\n",
       "             total_samples=1000000.0, verbose=0)"
      ]
     },
     "execution_count": 11,
     "metadata": {},
     "output_type": "execute_result"
    }
   ],
   "source": [
    "#Model for 3 topics\n",
    "lda_3 = LatentDirichletAllocation(n_components=3,random_state=42)\n",
    "lda_3.fit(comments_cvec)"
   ]
  },
  {
   "cell_type": "code",
   "execution_count": 12,
   "metadata": {},
   "outputs": [
    {
     "name": "stdout",
     "output_type": "stream",
     "text": [
      "The top 15 words for topic #0\n",
      "['just', 'time', 'policies', 'new', 'like', 'need', 'foreign', 'local', 'years', 'change', 'ministers', 'education', 'singapore', 'good', 'pap']\n",
      "\n",
      "\n",
      "The top 15 words for topic #1\n",
      "['don', 'sex', 'called', 'education', 'reform', 'world', 'big', 'years', 'government', 'civil', 'restructure', 'singaporean', 'bad', 'like', 'singapore']\n",
      "\n",
      "\n",
      "The top 15 words for topic #2\n",
      "['social', 'teachers', 'like', 'chinese', 'schools', 'people', 'school', 'just', 'good', 'kids', 'express', 'stream', 'normal', 'streaming', 'students']\n",
      "\n",
      "\n"
     ]
    }
   ],
   "source": [
    "#Show top 15 words for each topic\n",
    "show_top15(lda_3,cvec)"
   ]
  },
  {
   "cell_type": "markdown",
   "metadata": {},
   "source": [
    "<div class='alert alert-block alert-warning'>\n",
    "    The first two topics seem to both be about politics while the last seems more distinctly about education.\n",
    "</div>"
   ]
  },
  {
   "cell_type": "code",
   "execution_count": 13,
   "metadata": {},
   "outputs": [
    {
     "data": {
      "text/plain": [
       "LatentDirichletAllocation(batch_size=128, doc_topic_prior=None,\n",
       "             evaluate_every=-1, learning_decay=0.7,\n",
       "             learning_method='batch', learning_offset=10.0,\n",
       "             max_doc_update_iter=100, max_iter=10, mean_change_tol=0.001,\n",
       "             n_components=4, n_jobs=None, n_topics=None, perp_tol=0.1,\n",
       "             random_state=42, topic_word_prior=None,\n",
       "             total_samples=1000000.0, verbose=0)"
      ]
     },
     "execution_count": 13,
     "metadata": {},
     "output_type": "execute_result"
    }
   ],
   "source": [
    "#Model for 4 topics\n",
    "lda_4 = LatentDirichletAllocation(n_components=4,random_state=42)\n",
    "lda_4.fit(comments_cvec)"
   ]
  },
  {
   "cell_type": "code",
   "execution_count": 14,
   "metadata": {},
   "outputs": [
    {
     "name": "stdout",
     "output_type": "stream",
     "text": [
      "The top 15 words for topic #0\n",
      "['singapore', 'streaming', 'time', 'jobs', 'years', 'foreign', 'don', 'change', 'pap', 'just', 'local', 'ministers', 'chinese', 'new', 'education']\n",
      "\n",
      "\n",
      "The top 15 words for topic #1\n",
      "['sex', 'don', 'called', 'world', 'education', 'reform', 'big', 'government', 'years', 'civil', 'restructure', 'singaporean', 'bad', 'like', 'singapore']\n",
      "\n",
      "\n",
      "The top 15 words for topic #2\n",
      "['non', 'look', 'chinese', 'like', 'just', 'teachers', 'schools', 'people', 'kids', 'school', 'streaming', 'express', 'stream', 'normal', 'students']\n",
      "\n",
      "\n",
      "The top 15 words for topic #3\n",
      "['ong', 'grc', 'change', 'lose', 'subjects', 'parents', 'pap', 'students', 'end', 'election', 'different', 'singapore', 'like', 'streaming', 'good']\n",
      "\n",
      "\n"
     ]
    }
   ],
   "source": [
    "#Show top 15 words for each topic\n",
    "show_top15(lda_4,cvec)"
   ]
  },
  {
   "cell_type": "code",
   "execution_count": 15,
   "metadata": {},
   "outputs": [
    {
     "data": {
      "text/plain": [
       "LatentDirichletAllocation(batch_size=128, doc_topic_prior=None,\n",
       "             evaluate_every=-1, learning_decay=0.7,\n",
       "             learning_method='batch', learning_offset=10.0,\n",
       "             max_doc_update_iter=100, max_iter=10, mean_change_tol=0.001,\n",
       "             n_components=5, n_jobs=None, n_topics=None, perp_tol=0.1,\n",
       "             random_state=42, topic_word_prior=None,\n",
       "             total_samples=1000000.0, verbose=0)"
      ]
     },
     "execution_count": 15,
     "metadata": {},
     "output_type": "execute_result"
    }
   ],
   "source": [
    "#Model for 5 topics\n",
    "lda_5 = LatentDirichletAllocation(n_components=5,random_state=42)\n",
    "lda_5.fit(comments_cvec)"
   ]
  },
  {
   "cell_type": "code",
   "execution_count": 16,
   "metadata": {},
   "outputs": [
    {
     "name": "stdout",
     "output_type": "stream",
     "text": [
      "The top 15 words for topic #0\n",
      "['elites', 'parents', 'change', 'years', 'singapore', 'jobs', 'pap', 'chinese', 'foreign', 'ministers', 'new', 'don', 'just', 'education', 'local']\n",
      "\n",
      "\n",
      "The top 15 words for topic #1\n",
      "['sex', 'called', 'don', 'big', 'reform', 'world', 'education', 'years', 'civil', 'government', 'restructure', 'singaporean', 'bad', 'like', 'singapore']\n",
      "\n",
      "\n",
      "The top 15 words for topic #2\n",
      "['good', 'just', 'non', 'like', 'teachers', 'people', 'chinese', 'schools', 'school', 'streaming', 'kids', 'express', 'stream', 'normal', 'students']\n",
      "\n",
      "\n",
      "The top 15 words for topic #3\n",
      "['study', 'level', 'just', 'got', 'end', 'education', 'future', 'subject', 'students', 'ong', 'parents', 'streaming', 'like', 'singapore', 'good']\n",
      "\n",
      "\n",
      "The top 15 words for topic #4\n",
      "['mp', 'people', 'like', 'issue', 'need', 'louis', 'lose', 'grc', 'change', 'election', 'ng', 'pap', 'good', 'time', 'streaming']\n",
      "\n",
      "\n"
     ]
    }
   ],
   "source": [
    "#Show top 15 words for each topic\n",
    "show_top15(lda_5,cvec)"
   ]
  },
  {
   "cell_type": "markdown",
   "metadata": {},
   "source": [
    "<div class='alert alert-block alert-warning'>\n",
    "    Beyond three topics the topics seem to overlap rather strongly. Even with three topics the first two seemed to overlap, but there was a more distinct topic on education with 3 topics.\n",
    "</div>"
   ]
  },
  {
   "cell_type": "code",
   "execution_count": 17,
   "metadata": {},
   "outputs": [],
   "source": [
    "#Retrieve the topics of comments as a list\n",
    "topic_results = lda_3.transform(comments_cvec)"
   ]
  },
  {
   "cell_type": "code",
   "execution_count": 18,
   "metadata": {},
   "outputs": [],
   "source": [
    "#Add the topics to the DataFrame\n",
    "comments_df['topic'] = topic_results.argmax(axis=1)"
   ]
  },
  {
   "cell_type": "code",
   "execution_count": 19,
   "metadata": {},
   "outputs": [
    {
     "name": "stdout",
     "output_type": "stream",
     "text": [
      "Number of comments under topic 0:  110\n",
      "Number of comments under topic 1:  12\n",
      "Number of comments under topic 2:  143\n"
     ]
    }
   ],
   "source": [
    "#Check the number of comments for each topic\n",
    "for i in range(3):\n",
    "    print('Number of comments under topic {}: '.format(i),len(comments_df[comments_df['topic']==i]))"
   ]
  },
  {
   "cell_type": "markdown",
   "metadata": {},
   "source": [
    "<div class='alert alert-block alert-info'>\n",
    "    With only 12 comments under topic 1 and considering how the topics seem to overlap, it would likely be possible to combine topics 0 and 1 as a single topic and have 2 topics (likely politics and education judging from the top 15 words).\n",
    "</div>"
   ]
  },
  {
   "cell_type": "code",
   "execution_count": 20,
   "metadata": {},
   "outputs": [],
   "source": [
    "import pyLDAvis\n",
    "import pyLDAvis.sklearn\n",
    "pyLDAvis.enable_notebook()"
   ]
  },
  {
   "cell_type": "code",
   "execution_count": 21,
   "metadata": {},
   "outputs": [
    {
     "name": "stderr",
     "output_type": "stream",
     "text": [
      "C:\\Users\\kwanw\\Anaconda3\\envs\\tf\\lib\\site-packages\\pyLDAvis\\_prepare.py:257: FutureWarning: Sorting because non-concatenation axis is not aligned. A future version\n",
      "of pandas will change to not sort by default.\n",
      "\n",
      "To accept the future behavior, pass 'sort=False'.\n",
      "\n",
      "To retain the current behavior and silence the warning, pass 'sort=True'.\n",
      "\n",
      "  return pd.concat([default_term_info] + list(topic_dfs))\n"
     ]
    },
    {
     "data": {
      "text/html": [
       "\n",
       "<link rel=\"stylesheet\" type=\"text/css\" href=\"https://cdn.rawgit.com/bmabey/pyLDAvis/files/ldavis.v1.0.0.css\">\n",
       "\n",
       "\n",
       "<div id=\"ldavis_el500421440829496082966768862\"></div>\n",
       "<script type=\"text/javascript\">\n",
       "\n",
       "var ldavis_el500421440829496082966768862_data = {\"mdsDat\": {\"x\": [-0.15855619910810184, 0.18649107078583407, -0.027934871677732037], \"y\": [-0.0857280204256569, -0.05222272873012947, 0.13795074915578628], \"topics\": [1, 2, 3], \"cluster\": [1, 1, 1], \"Freq\": [37.8323003132693, 36.63352328207886, 25.53417640465183]}, \"tinfo\": {\"Category\": [\"Default\", \"Default\", \"Default\", \"Default\", \"Default\", \"Default\", \"Default\", \"Default\", \"Default\", \"Default\", \"Default\", \"Default\", \"Default\", \"Default\", \"Default\", \"Default\", \"Default\", \"Default\", \"Default\", \"Default\", \"Default\", \"Default\", \"Default\", \"Default\", \"Default\", \"Default\", \"Default\", \"Default\", \"Default\", \"Default\", \"Topic1\", \"Topic1\", \"Topic1\", \"Topic1\", \"Topic1\", \"Topic1\", \"Topic1\", \"Topic1\", \"Topic1\", \"Topic1\", \"Topic1\", \"Topic1\", \"Topic1\", \"Topic1\", \"Topic1\", \"Topic1\", \"Topic1\", \"Topic1\", \"Topic1\", \"Topic1\", \"Topic1\", \"Topic1\", \"Topic1\", \"Topic1\", \"Topic1\", \"Topic1\", \"Topic1\", \"Topic1\", \"Topic1\", \"Topic1\", \"Topic1\", \"Topic1\", \"Topic1\", \"Topic1\", \"Topic1\", \"Topic1\", \"Topic1\", \"Topic1\", \"Topic1\", \"Topic1\", \"Topic1\", \"Topic1\", \"Topic1\", \"Topic1\", \"Topic1\", \"Topic1\", \"Topic1\", \"Topic1\", \"Topic1\", \"Topic2\", \"Topic2\", \"Topic2\", \"Topic2\", \"Topic2\", \"Topic2\", \"Topic2\", \"Topic2\", \"Topic2\", \"Topic2\", \"Topic2\", \"Topic2\", \"Topic2\", \"Topic2\", \"Topic2\", \"Topic2\", \"Topic2\", \"Topic2\", \"Topic2\", \"Topic2\", \"Topic2\", \"Topic2\", \"Topic2\", \"Topic2\", \"Topic2\", \"Topic2\", \"Topic2\", \"Topic2\", \"Topic2\", \"Topic2\", \"Topic2\", \"Topic2\", \"Topic2\", \"Topic2\", \"Topic2\", \"Topic2\", \"Topic2\", \"Topic2\", \"Topic2\", \"Topic2\", \"Topic2\", \"Topic2\", \"Topic2\", \"Topic2\", \"Topic2\", \"Topic2\", \"Topic2\", \"Topic2\", \"Topic2\", \"Topic2\", \"Topic2\", \"Topic2\", \"Topic2\", \"Topic2\", \"Topic2\", \"Topic3\", \"Topic3\", \"Topic3\", \"Topic3\", \"Topic3\", \"Topic3\", \"Topic3\", \"Topic3\", \"Topic3\", \"Topic3\", \"Topic3\", \"Topic3\", \"Topic3\", \"Topic3\", \"Topic3\", \"Topic3\", \"Topic3\", \"Topic3\", \"Topic3\", \"Topic3\", \"Topic3\", \"Topic3\", \"Topic3\", \"Topic3\", \"Topic3\", \"Topic3\", \"Topic3\", \"Topic3\", \"Topic3\", \"Topic3\", \"Topic3\", \"Topic3\", \"Topic3\", \"Topic3\", \"Topic3\", \"Topic3\", \"Topic3\", \"Topic3\", \"Topic3\", \"Topic3\", \"Topic3\", \"Topic3\", \"Topic3\", \"Topic3\", \"Topic3\", \"Topic3\", \"Topic3\", \"Topic3\", \"Topic3\", \"Topic3\", \"Topic3\", \"Topic3\", \"Topic3\", \"Topic3\", \"Topic3\", \"Topic3\", \"Topic3\", \"Topic3\"], \"Freq\": [62.0, 37.0, 34.0, 32.0, 27.0, 26.0, 56.0, 21.0, 27.0, 19.0, 19.0, 26.0, 18.0, 14.0, 20.0, 34.0, 61.0, 16.0, 12.0, 19.0, 15.0, 15.0, 22.0, 17.0, 14.0, 45.0, 22.0, 11.0, 13.0, 13.0, 62.35592566308349, 37.022237538312005, 34.39895970034145, 31.774733522161863, 26.524942623538816, 15.158618120782013, 14.259436968594192, 13.3641558095371, 10.786704830540558, 10.784520173456027, 10.744399756434888, 9.896444456813224, 9.019750107832666, 9.009689398447836, 8.154814890454729, 7.284391853899619, 8.090792685886752, 9.681580977591326, 8.052840182086877, 7.2404184207687585, 6.409010143062725, 6.4085672123554644, 6.400869855413833, 6.395643605276833, 6.384589959679516, 6.338409016589625, 5.5392074326112315, 5.533567478296876, 5.533535801211192, 5.532756514708518, 10.996599556347913, 12.537226655062982, 9.920284527464508, 45.03345948730796, 9.85149882706847, 19.945238968557817, 15.053539733392325, 23.39244489260924, 20.65054152344974, 12.451079502077603, 25.362588441777717, 20.349482377928332, 10.434288162278916, 17.83620011736508, 13.041569700189767, 16.760618691727608, 14.446888236721685, 10.825650796549272, 10.246558664073753, 20.486523155541285, 18.617097328293536, 17.729454958796072, 15.875090509859987, 14.92191095815321, 13.014737457766312, 9.47883130693354, 9.47883130693354, 9.478510524567254, 9.470264089496219, 9.45240985330547, 8.561525684559347, 19.581706982337824, 7.625206879213897, 6.726907703135001, 6.726907703135001, 6.726899269732698, 6.726557236896057, 5.809602914555921, 5.809602914555921, 5.809602914555921, 5.809602914555921, 5.809602914555921, 5.809602914555921, 5.809602914555921, 5.809602914555921, 5.809602914555921, 5.809602914555921, 5.809602914555921, 5.809602914555921, 24.61984000053699, 23.3725136734681, 5.809602914555921, 5.809602914555921, 5.809602914555921, 9.730911071151032, 5.809602914555921, 38.95628457516578, 18.28216065797311, 8.398949436414881, 10.788152345362176, 19.034238291090386, 9.503363963012543, 9.484132530894106, 7.092236432613474, 7.697317977503741, 29.29832979837104, 19.005136867172656, 8.601265105956546, 14.804701394106063, 10.992107601862752, 16.163569922960015, 9.409166167083518, 10.629200844678918, 9.698695199428176, 7.8766520445786785, 7.875198230861898, 7.037604905645874, 7.032082111353505, 6.998870221291282, 12.959190328033344, 11.268917965285564, 4.504230427465271, 4.5040549747820835, 4.491252087520786, 4.488496211659482, 4.486884201125439, 4.486306634012019, 4.472384580040502, 4.470931934587979, 4.436931859502656, 9.546156058412505, 8.781401397443645, 3.6596802223810663, 3.6593928656716526, 3.6593528123548844, 3.659234107222936, 3.659202515408854, 3.6535668164784414, 3.644739809267419, 3.638383886119312, 3.63168446189894, 3.614256499594372, 2.8149916300435467, 2.8141809970903027, 5.516027610965981, 15.379907596947374, 18.815605989853825, 14.967991331771332, 9.399908109046018, 11.823396463775884, 6.5353904600177195, 12.908577039919933, 5.340919649820202, 10.517227700443183, 12.715657091962058, 6.38489349825967, 11.221667559375968, 16.464898971597997, 15.93020780712972, 13.470859592262999, 7.693098459659328, 16.304882758081668, 6.153223357345894, 9.127182614622601, 6.568509477001404, 10.896695658839938, 12.582152698666622, 10.163904292638412, 9.414002126166773, 7.376158912347564, 6.715073613405408, 6.724147712604251], \"Term\": [\"students\", \"normal\", \"stream\", \"express\", \"kids\", \"pap\", \"streaming\", \"restructure\", \"bad\", \"ministers\", \"big\", \"singaporean\", \"reform\", \"local\", \"civil\", \"just\", \"singapore\", \"called\", \"policies\", \"foreign\", \"sex\", \"teachers\", \"change\", \"new\", \"study\", \"good\", \"time\", \"minister\", \"unethical\", \"look\", \"students\", \"normal\", \"stream\", \"express\", \"kids\", \"teachers\", \"study\", \"look\", \"classes\", \"able\", \"different\", \"turn\", \"subjects\", \"got\", \"sec\", \"ones\", \"ng\", \"thing\", \"louis\", \"mixing\", \"jc\", \"poor\", \"academic\", \"try\", \"majority\", \"doesn\", \"remember\", \"vs\", \"poly\", \"gifted\", \"does\", \"non\", \"smart\", \"streaming\", \"life\", \"schools\", \"social\", \"just\", \"school\", \"better\", \"good\", \"people\", \"end\", \"chinese\", \"class\", \"like\", \"education\", \"time\", \"elites\", \"restructure\", \"big\", \"reform\", \"called\", \"sex\", \"unethical\", \"types\", \"cultures\", \"website\", \"economy\", \"problems\", \"worst\", \"civil\", \"clean\", \"servants\", \"happened\", \"employers\", \"anti\", \"pastor\", \"den\", \"led\", \"influence\", \"spread\", \"oppose\", \"facing\", \"ex\", \"guard\", \"fox\", \"corruption\", \"enemies\", \"bad\", \"singaporean\", \"acts\", \"\\u5176\\u5fc3\\u5fc5\\u5f02\", \"batok\", \"countries\", \"brainwash\", \"singapore\", \"world\", \"mr\", \"dr\", \"government\", \"expensive\", \"service\", \"kong\", \"note\", \"like\", \"years\", \"ideas\", \"don\", \"really\", \"education\", \"society\", \"people\", \"chinese\", \"policy\", \"singaporeans\", \"grc\", \"coming\", \"future\", \"local\", \"policies\", \"point\", \"monkey\", \"issues\", \"pls\", \"useless\", \"decades\", \"wants\", \"question\", \"outcome\", \"minister\", \"lose\", \"chance\", \"takes\", \"ft\", \"leadership\", \"play\", \"open\", \"flip\", \"start\", \"playing\", \"win\", \"sg\", \"gimmick\", \"child\", \"ministers\", \"pap\", \"change\", \"election\", \"new\", \"going\", \"foreign\", \"graduates\", \"parents\", \"need\", \"lol\", \"time\", \"good\", \"education\", \"years\", \"china\", \"singapore\", \"come\", \"jobs\", \"issue\", \"just\", \"like\", \"chinese\", \"people\", \"streaming\", \"elites\", \"want\"], \"Total\": [62.0, 37.0, 34.0, 32.0, 27.0, 26.0, 56.0, 21.0, 27.0, 19.0, 19.0, 26.0, 18.0, 14.0, 20.0, 34.0, 61.0, 16.0, 12.0, 19.0, 15.0, 15.0, 22.0, 17.0, 14.0, 45.0, 22.0, 11.0, 13.0, 13.0, 62.97699843474376, 37.61350894339905, 34.989602924612825, 32.365671647728554, 27.11784394849821, 15.747634243383919, 14.872194695614857, 13.996996362216557, 11.374484222872866, 11.374412384853526, 11.373371380502588, 10.499302804537775, 9.624621672874623, 9.624268770463598, 8.750293239855267, 7.875827176549643, 8.749686035258994, 10.492019356596096, 8.748156071005583, 7.874305600069203, 7.001145508089745, 7.001537432938884, 7.001021574964717, 7.000834048766363, 7.000306141908399, 6.998733361278156, 6.126662764992206, 6.126491520796904, 6.126482369243139, 6.126447103326947, 12.226439660368346, 14.040844611106733, 11.344850540290844, 56.79277092855717, 11.415820398556875, 26.348526011913123, 19.420190403294995, 34.61270309506624, 30.60822012904762, 16.499708103037385, 45.962082149232124, 40.39268534877402, 13.987151494980862, 37.69879960943167, 21.218810926719446, 58.64110118876526, 46.54066596681142, 22.355502874904165, 17.26799224127429, 21.059606042249317, 19.22253878476489, 18.30730890887682, 16.47163877339743, 15.550948220988987, 13.713278042361118, 10.051915287316982, 10.051915287316982, 10.051893531546826, 10.051237637212724, 10.050176990696817, 9.1346078658642, 20.987866767378808, 8.215795195046763, 7.299992554112496, 7.299992554112496, 7.2999919671007785, 7.299969420548556, 6.382685190777965, 6.382685190777965, 6.382685190777965, 6.382685190777965, 6.382685190777965, 6.382685190777965, 6.382685190777965, 6.382685190777965, 6.382685190777965, 6.382685190777965, 6.382685190777965, 6.382685190777965, 27.374073973349322, 26.356181824864382, 6.382685190777965, 6.382685190777965, 6.382685190777965, 10.937376860450476, 6.382685190777965, 61.581775011679355, 25.230861311232598, 9.969412967488992, 13.534407674980283, 27.847302820776612, 11.74301718382032, 11.741490692565668, 8.173540074775095, 9.094396673626184, 58.64110118876526, 38.01400897081406, 10.885725851868223, 26.744430928393456, 18.76826558816277, 46.54066596681142, 14.38858704598848, 40.39268534877402, 37.69879960943167, 8.480408555677753, 8.480433085603806, 7.635497927204625, 7.63577420710021, 7.636928204325411, 14.421849553960746, 12.732756606029865, 5.101738219797577, 5.101748307352956, 5.1022076970448245, 5.102301572450666, 5.102527880460007, 5.102393786299263, 5.10290736368221, 5.102932348318904, 5.104152950703611, 11.04476469421775, 10.197334378625868, 4.257159134433403, 4.25717572428995, 4.257173196562609, 4.257173841416738, 4.257183759958334, 4.257429019741429, 4.258041748326827, 4.258214856789517, 4.258203087880965, 4.258879003431073, 3.4125879021928043, 3.4126402652476724, 6.815601670036715, 19.75915062497959, 26.80122150936952, 22.35345981301529, 12.934865848649117, 17.086236925083227, 8.528021784577305, 19.972028197358146, 6.863976463299662, 17.132828574984867, 22.539516930312292, 9.408007337379718, 22.355502874904165, 45.962082149232124, 46.54066596681142, 38.01400897081406, 13.999989475743913, 61.581775011679355, 9.545810503611085, 21.926089305330454, 11.150849386966279, 34.61270309506624, 58.64110118876526, 37.69879960943167, 40.39268534877402, 56.79277092855717, 17.26799224127429, 18.325907348816134], \"loglift\": [30.0, 29.0, 28.0, 27.0, 26.0, 25.0, 24.0, 23.0, 22.0, 21.0, 20.0, 19.0, 18.0, 17.0, 16.0, 15.0, 14.0, 13.0, 12.0, 11.0, 10.0, 9.0, 8.0, 7.0, 6.0, 5.0, 4.0, 3.0, 2.0, 1.0, 0.9621, 0.9562, 0.955, 0.9536, 0.9499, 0.9339, 0.9299, 0.9257, 0.9189, 0.9188, 0.9151, 0.9129, 0.9071, 0.906, 0.9015, 0.8939, 0.8937, 0.8916, 0.8892, 0.8881, 0.8836, 0.8835, 0.8824, 0.8816, 0.8799, 0.8729, 0.8712, 0.8702, 0.8702, 0.8701, 0.866, 0.8587, 0.8378, 0.74, 0.8246, 0.6936, 0.7173, 0.5802, 0.5785, 0.6905, 0.3775, 0.2864, 0.679, 0.2236, 0.4853, -0.2804, -0.1978, 0.2469, 0.4501, 0.9766, 0.9722, 0.9721, 0.9673, 0.9629, 0.9519, 0.9455, 0.9455, 0.9455, 0.9447, 0.9429, 0.9394, 0.9349, 0.9296, 0.9224, 0.9224, 0.9224, 0.9224, 0.9101, 0.9101, 0.9101, 0.9101, 0.9101, 0.9101, 0.9101, 0.9101, 0.9101, 0.9101, 0.9101, 0.9101, 0.8982, 0.8841, 0.9101, 0.9101, 0.9101, 0.8873, 0.9101, 0.5463, 0.6821, 0.8328, 0.7774, 0.6237, 0.7926, 0.7907, 0.8623, 0.8374, 0.3103, 0.311, 0.7687, 0.4128, 0.4692, -0.0534, 0.5795, -0.3308, -0.3534, 1.2913, 1.2911, 1.2836, 1.2828, 1.2779, 1.2582, 1.243, 1.2406, 1.2405, 1.2376, 1.237, 1.2366, 1.2365, 1.2333, 1.2329, 1.2251, 1.2193, 1.2157, 1.2139, 1.2138, 1.2138, 1.2138, 1.2138, 1.2122, 1.2096, 1.2078, 1.206, 1.201, 1.1726, 1.1723, 1.1536, 1.1146, 1.0114, 0.9641, 1.0459, 0.997, 1.099, 0.9287, 1.1143, 0.8772, 0.7927, 0.9775, 0.6759, 0.3386, 0.293, 0.3277, 0.7664, 0.0363, 0.926, 0.4887, 0.8359, 0.2094, -0.174, 0.0544, -0.0913, -0.676, 0.4207, 0.3625], \"logprob\": [30.0, 29.0, 28.0, 27.0, 26.0, 25.0, 24.0, 23.0, 22.0, 21.0, 20.0, 19.0, 18.0, 17.0, 16.0, 15.0, 14.0, 13.0, 12.0, 11.0, 10.0, 9.0, 8.0, 7.0, 6.0, 5.0, 4.0, 3.0, 2.0, 1.0, -3.3052, -3.8265, -3.9, -3.9794, -4.16, -4.7195, -4.7806, -4.8455, -5.0597, -5.0599, -5.0637, -5.1459, -5.2386, -5.2397, -5.3394, -5.4523, -5.3473, -5.1678, -5.352, -5.4584, -5.5803, -5.5804, -5.5816, -5.5824, -5.5842, -5.5914, -5.7262, -5.7272, -5.7272, -5.7274, -5.0405, -4.9093, -5.1435, -3.6306, -5.1504, -4.4451, -4.7264, -4.2856, -4.4103, -4.9162, -4.2048, -4.425, -5.0929, -4.5568, -4.8699, -4.619, -4.7676, -5.0561, -5.1111, -4.3861, -4.4818, -4.5306, -4.6411, -4.703, -4.8398, -5.1568, -5.1568, -5.1568, -5.1577, -5.1596, -5.2586, -4.4313, -5.3744, -5.4997, -5.4997, -5.4997, -5.4998, -5.6463, -5.6463, -5.6463, -5.6463, -5.6463, -5.6463, -5.6463, -5.6463, -5.6463, -5.6463, -5.6463, -5.6463, -4.2023, -4.2543, -5.6463, -5.6463, -5.6463, -5.1305, -5.6463, -3.7434, -4.4999, -5.2777, -5.0274, -4.4596, -5.1542, -5.1562, -5.4468, -5.365, -4.0283, -4.4611, -5.2539, -4.7109, -5.0087, -4.6231, -5.1642, -5.0422, -5.1339, -4.981, -4.9812, -5.0936, -5.0944, -5.0992, -4.4831, -4.6229, -5.5399, -5.5399, -5.5428, -5.5434, -5.5437, -5.5439, -5.547, -5.5473, -5.5549, -4.7888, -4.8723, -5.7475, -5.7476, -5.7476, -5.7476, -5.7477, -5.7492, -5.7516, -5.7534, -5.7552, -5.76, -6.0099, -6.0102, -5.3372, -4.3118, -4.1102, -4.339, -4.8042, -4.5748, -5.1677, -4.487, -5.3695, -4.6919, -4.5021, -5.191, -4.6271, -4.2437, -4.2767, -4.4444, -5.0046, -4.2534, -5.2279, -4.8336, -5.1626, -4.6564, -4.5126, -4.7261, -4.8027, -5.0466, -5.1405, -5.1392]}, \"token.table\": {\"Topic\": [1, 1, 2, 2, 1, 2, 2, 1, 3, 2, 2, 2, 3, 1, 2, 3, 1, 3, 2, 3, 1, 2, 3, 2, 3, 1, 2, 3, 1, 2, 2, 3, 3, 2, 1, 2, 2, 3, 2, 1, 1, 3, 1, 1, 2, 3, 2, 3, 2, 1, 2, 3, 2, 3, 1, 3, 2, 1, 2, 3, 2, 2, 2, 3, 1, 2, 3, 2, 3, 2, 3, 3, 1, 3, 1, 3, 1, 2, 3, 1, 1, 2, 3, 2, 3, 3, 2, 2, 1, 2, 2, 1, 3, 3, 1, 1, 2, 3, 1, 3, 1, 2, 3, 3, 2, 1, 2, 1, 2, 3, 1, 3, 1, 3, 1, 1, 3, 1, 1, 1, 3, 2, 3, 1, 3, 2, 3, 1, 2, 3, 1, 3, 1, 1, 2, 1, 1, 2, 1, 3, 2, 3, 2, 3, 1, 3, 2, 1, 2, 3, 3, 3, 3, 3, 1, 3, 3, 1, 1, 2, 3, 1, 2, 3, 2, 1, 2, 1, 2, 3, 1, 2, 3, 1, 2, 2, 3, 2, 3, 1, 2, 3, 2, 3, 3, 1, 3, 1, 2, 1, 2, 3, 2, 3, 1, 1, 2, 3, 1, 1, 1, 3, 1, 1, 3, 1, 3, 1, 1, 2, 2, 3, 1, 1, 2, 3, 3, 2, 3, 1, 2, 3, 2, 1, 2, 3, 2], \"Freq\": [0.9670829250615087, 0.8570177845838503, 0.9400432295594198, 0.9589081264225331, 0.07306183222662244, 0.9132729028327805, 0.9400432295594198, 0.7272855934821632, 0.24242853116072102, 0.9884230284429825, 0.9400432295594198, 0.971366615071771, 0.9395937228765049, 0.17894321655169468, 0.13420741241377102, 0.671037062068855, 0.14672218953115743, 0.8803331371869446, 0.4285717507427755, 0.5714290009903673, 0.4774687837937597, 0.2652604354409776, 0.2652604354409776, 0.9529315304729189, 0.04764657652364594, 0.6126639256505161, 0.2827679656848536, 0.09425598856161785, 0.9670768172397814, 0.9737341072989668, 0.314273994739905, 0.62854798947981, 0.9167374270301198, 0.9400432295594198, 0.09142960078627237, 0.9142960078627237, 0.8953517556356412, 0.7839457649742038, 0.9400432295594198, 0.9671714421334504, 0.8996895503157951, 0.08178995911961774, 0.8572979838317828, 0.2617367338546878, 0.5608644296886168, 0.1869548098962056, 0.8127433622628797, 0.14777152041143268, 0.8954121198646499, 0.30081219744434967, 0.34378536850782815, 0.34378536850782815, 0.23193128054848067, 0.695793841645442, 0.5791061207508426, 0.40537428452558977, 0.958905164765555, 0.714941852427093, 0.0714941852427093, 0.1429883704854186, 0.9400432295594198, 0.9400432295594198, 0.8515699026463257, 0.17031398052926514, 0.9887018674690714, 0.9400432295594198, 0.939398962345021, 0.35049019212410004, 0.6509103568019001, 0.9400432295594198, 0.9395906192470019, 0.9165989011177731, 0.979360451303288, 0.879084745775944, 0.23452097690661924, 0.8208234191731674, 0.5439266201828863, 0.08702825922926181, 0.34811303691704726, 0.9351359791219207, 0.17955060251901836, 0.6822922895722697, 0.14364048201521468, 0.14568814525323684, 0.7284407262661842, 0.9167705979016246, 0.9400432295594198, 0.9589050876574534, 0.183726838909576, 0.826770775093092, 0.9400432295594198, 0.3587170681971024, 0.6277548693449292, 0.7839743572800421, 0.8570026137961377, 0.22803884132609317, 0.3648621461217491, 0.4104699143869677, 0.6644959203801238, 0.3178023967035375, 0.995654376184109, 0.8564220565337612, 0.12234600807625161, 0.939590476922795, 0.9400432295594198, 0.875977341169816, 0.0875977341169816, 0.2898990580902826, 0.4945336873304821, 0.2216875150102161, 0.06933923393517616, 0.90141004115729, 0.31887730232527095, 0.6377546046505419, 0.9287706921959453, 0.09806484350420547, 0.8825835915378492, 0.9144784266612216, 0.8571053720179588, 0.09054063419961572, 0.9054063419961572, 0.20243785150072116, 0.7591419431277043, 0.8889672760399953, 0.9800561883450208, 0.8024544700965447, 0.10030680876206809, 0.1774660926570523, 0.22183261582131536, 0.57676480113542, 0.29263318903531155, 0.7023196536847477, 0.9143185215746084, 0.925870227900436, 0.07122078676157201, 0.9836891329569316, 0.10995781643217821, 0.8796625314574257, 0.8887955313243252, 0.9395341605114854, 0.9400432295594198, 0.7836755752878835, 0.29849385772224063, 0.7089229120903214, 0.3502048697761689, 0.6420422612563096, 0.9400432295594198, 0.4951391527279834, 0.27232653400039086, 0.22281261872759256, 0.9395882878307205, 0.9393633693480186, 0.783959933218682, 0.9800581261886829, 0.07853758859463543, 0.8639134745409897, 0.9433507769674477, 0.9793548138034118, 0.8569546413867433, 0.8955066172795824, 0.7838630275625247, 0.2664071422323394, 0.5860957129111467, 0.15984428533940365, 0.9832138677286527, 0.9793259773141166, 0.9496853815724967, 0.6860902042478031, 0.13068384842815298, 0.19602577264222945, 0.7590557434202306, 0.15181114868404613, 0.07590557434202307, 0.9142550747399092, 0.9589050876574534, 0.7665125524221987, 0.17033612276048862, 0.9645714066332381, 0.8790982345311339, 0.0974314234830364, 0.6333042526397366, 0.2598171292880971, 0.872660545174333, 0.11382528850099996, 0.943348048294918, 0.8814571831057048, 0.08814571831057047, 0.7723920151398193, 0.20597120403728514, 0.27799810969731004, 0.6254957468189476, 0.06949952742432751, 0.9400432295594198, 0.9393607731235529, 0.9717172290653031, 0.7923543659563299, 0.07043149919611821, 0.12325512359320687, 0.9844864242655813, 0.9413540023200457, 0.9351016908399616, 0.9395900613586149, 0.9525240279378457, 0.953105370865831, 0.0953105370865831, 0.49204887322612534, 0.49204887322612534, 0.8570407408896198, 0.9524441942638345, 0.8953517556356412, 0.9479863209833739, 0.783925162921283, 0.9793533508750453, 0.38197290135553397, 0.2182702293460194, 0.38197290135553397, 0.7838668654791409, 0.8953536934861509, 0.9392142854440071, 0.158536006783852, 0.7134120305273339, 0.11890200508788899, 0.9852639688708229, 0.15783654927336413, 0.4998157393656531, 0.341979190092289, 0.9400432295594198], \"Term\": [\"able\", \"academic\", \"acts\", \"anti\", \"bad\", \"bad\", \"batok\", \"better\", \"better\", \"big\", \"brainwash\", \"called\", \"chance\", \"change\", \"change\", \"change\", \"child\", \"child\", \"china\", \"china\", \"chinese\", \"chinese\", \"chinese\", \"civil\", \"civil\", \"class\", \"class\", \"class\", \"classes\", \"clean\", \"come\", \"come\", \"coming\", \"corruption\", \"countries\", \"countries\", \"cultures\", \"decades\", \"den\", \"different\", \"does\", \"does\", \"doesn\", \"don\", \"don\", \"don\", \"dr\", \"dr\", \"economy\", \"education\", \"education\", \"education\", \"election\", \"election\", \"elites\", \"elites\", \"employers\", \"end\", \"end\", \"end\", \"enemies\", \"ex\", \"expensive\", \"expensive\", \"express\", \"facing\", \"flip\", \"foreign\", \"foreign\", \"fox\", \"ft\", \"future\", \"gifted\", \"gimmick\", \"going\", \"going\", \"good\", \"good\", \"good\", \"got\", \"government\", \"government\", \"government\", \"graduates\", \"graduates\", \"grc\", \"guard\", \"happened\", \"ideas\", \"ideas\", \"influence\", \"issue\", \"issue\", \"issues\", \"jc\", \"jobs\", \"jobs\", \"jobs\", \"just\", \"just\", \"kids\", \"kong\", \"kong\", \"leadership\", \"led\", \"life\", \"life\", \"like\", \"like\", \"like\", \"local\", \"local\", \"lol\", \"lol\", \"look\", \"lose\", \"lose\", \"louis\", \"majority\", \"minister\", \"minister\", \"ministers\", \"ministers\", \"mixing\", \"monkey\", \"mr\", \"mr\", \"need\", \"need\", \"need\", \"new\", \"new\", \"ng\", \"non\", \"non\", \"normal\", \"note\", \"note\", \"ones\", \"open\", \"oppose\", \"outcome\", \"pap\", \"pap\", \"parents\", \"parents\", \"pastor\", \"people\", \"people\", \"people\", \"play\", \"playing\", \"pls\", \"point\", \"policies\", \"policies\", \"policy\", \"poly\", \"poor\", \"problems\", \"question\", \"really\", \"really\", \"really\", \"reform\", \"remember\", \"restructure\", \"school\", \"school\", \"school\", \"schools\", \"schools\", \"schools\", \"sec\", \"servants\", \"service\", \"service\", \"sex\", \"sg\", \"singapore\", \"singapore\", \"singapore\", \"singaporean\", \"singaporean\", \"singaporeans\", \"smart\", \"smart\", \"social\", \"social\", \"society\", \"society\", \"society\", \"spread\", \"start\", \"stream\", \"streaming\", \"streaming\", \"streaming\", \"students\", \"study\", \"subjects\", \"takes\", \"teachers\", \"thing\", \"thing\", \"time\", \"time\", \"try\", \"turn\", \"types\", \"unethical\", \"useless\", \"vs\", \"want\", \"want\", \"want\", \"wants\", \"website\", \"win\", \"world\", \"world\", \"world\", \"worst\", \"years\", \"years\", \"years\", \"\\u5176\\u5fc3\\u5fc5\\u5f02\"]}, \"R\": 30, \"lambda.step\": 0.01, \"plot.opts\": {\"xlab\": \"PC1\", \"ylab\": \"PC2\"}, \"topic.order\": [3, 2, 1]};\n",
       "\n",
       "function LDAvis_load_lib(url, callback){\n",
       "  var s = document.createElement('script');\n",
       "  s.src = url;\n",
       "  s.async = true;\n",
       "  s.onreadystatechange = s.onload = callback;\n",
       "  s.onerror = function(){console.warn(\"failed to load library \" + url);};\n",
       "  document.getElementsByTagName(\"head\")[0].appendChild(s);\n",
       "}\n",
       "\n",
       "if(typeof(LDAvis) !== \"undefined\"){\n",
       "   // already loaded: just create the visualization\n",
       "   !function(LDAvis){\n",
       "       new LDAvis(\"#\" + \"ldavis_el500421440829496082966768862\", ldavis_el500421440829496082966768862_data);\n",
       "   }(LDAvis);\n",
       "}else if(typeof define === \"function\" && define.amd){\n",
       "   // require.js is available: use it to load d3/LDAvis\n",
       "   require.config({paths: {d3: \"https://cdnjs.cloudflare.com/ajax/libs/d3/3.5.5/d3.min\"}});\n",
       "   require([\"d3\"], function(d3){\n",
       "      window.d3 = d3;\n",
       "      LDAvis_load_lib(\"https://cdn.rawgit.com/bmabey/pyLDAvis/files/ldavis.v1.0.0.js\", function(){\n",
       "        new LDAvis(\"#\" + \"ldavis_el500421440829496082966768862\", ldavis_el500421440829496082966768862_data);\n",
       "      });\n",
       "    });\n",
       "}else{\n",
       "    // require.js not available: dynamically load d3 & LDAvis\n",
       "    LDAvis_load_lib(\"https://cdnjs.cloudflare.com/ajax/libs/d3/3.5.5/d3.min.js\", function(){\n",
       "         LDAvis_load_lib(\"https://cdn.rawgit.com/bmabey/pyLDAvis/files/ldavis.v1.0.0.js\", function(){\n",
       "                 new LDAvis(\"#\" + \"ldavis_el500421440829496082966768862\", ldavis_el500421440829496082966768862_data);\n",
       "            })\n",
       "         });\n",
       "}\n",
       "</script>"
      ],
      "text/plain": [
       "PreparedData(topic_coordinates=              x         y  topics  cluster       Freq\n",
       "topic                                                \n",
       "2     -0.158556 -0.085728       1        1  37.832300\n",
       "1      0.186491 -0.052223       2        1  36.633523\n",
       "0     -0.027935  0.137951       3        1  25.534176, topic_info=    Category       Freq         Term      Total  loglift  logprob\n",
       "500  Default  62.000000     students  62.000000  30.0000  30.0000\n",
       "342  Default  37.000000       normal  37.000000  29.0000  29.0000\n",
       "495  Default  34.000000       stream  34.000000  28.0000  28.0000\n",
       "154  Default  32.000000      express  32.000000  27.0000  27.0000\n",
       "253  Default  27.000000         kids  27.000000  26.0000  26.0000\n",
       "369  Default  26.000000          pap  26.000000  25.0000  25.0000\n",
       "496  Default  56.000000    streaming  56.000000  24.0000  24.0000\n",
       "430  Default  21.000000  restructure  21.000000  23.0000  23.0000\n",
       "28   Default  27.000000          bad  27.000000  22.0000  22.0000\n",
       "316  Default  19.000000    ministers  19.000000  21.0000  21.0000\n",
       "39   Default  19.000000          big  19.000000  20.0000  20.0000\n",
       "474  Default  26.000000  singaporean  26.000000  19.0000  19.0000\n",
       "422  Default  18.000000       reform  18.000000  18.0000  18.0000\n",
       "280  Default  14.000000        local  14.000000  17.0000  17.0000\n",
       "76   Default  20.000000        civil  20.000000  16.0000  16.0000\n",
       "249  Default  34.000000         just  34.000000  15.0000  15.0000\n",
       "473  Default  61.000000    singapore  61.000000  14.0000  14.0000\n",
       "54   Default  16.000000       called  16.000000  13.0000  13.0000\n",
       "386  Default  12.000000     policies  12.000000  12.0000  12.0000\n",
       "173  Default  19.000000      foreign  19.000000  11.0000  11.0000\n",
       "466  Default  15.000000          sex  15.000000  10.0000  10.0000\n",
       "520  Default  15.000000     teachers  15.000000   9.0000   9.0000\n",
       "63   Default  22.000000       change  22.000000   8.0000   8.0000\n",
       "336  Default  17.000000          new  17.000000   7.0000   7.0000\n",
       "501  Default  14.000000        study  14.000000   6.0000   6.0000\n",
       "189  Default  45.000000         good  45.000000   5.0000   5.0000\n",
       "534  Default  22.000000         time  22.000000   4.0000   4.0000\n",
       "315  Default  11.000000     minister  11.000000   3.0000   3.0000\n",
       "553  Default  13.000000    unethical  13.000000   2.0000   2.0000\n",
       "284  Default  13.000000         look  13.000000   1.0000   1.0000\n",
       "..       ...        ...          ...        ...      ...      ...\n",
       "467   Topic3   2.814992           sg   3.412588   1.1726  -6.0099\n",
       "184   Topic3   2.814181      gimmick   3.412640   1.1723  -6.0102\n",
       "70    Topic3   5.516028        child   6.815602   1.1536  -5.3372\n",
       "316   Topic3  15.379908    ministers  19.759151   1.1146  -4.3118\n",
       "369   Topic3  18.815606          pap  26.801222   1.0114  -4.1102\n",
       "63    Topic3  14.967991       change  22.353460   0.9641  -4.3390\n",
       "135   Topic3   9.399908     election  12.934866   1.0459  -4.8042\n",
       "336   Topic3  11.823396          new  17.086237   0.9970  -4.5748\n",
       "188   Topic3   6.535390        going   8.528022   1.0990  -5.1677\n",
       "173   Topic3  12.908577      foreign  19.972028   0.9287  -4.4870\n",
       "196   Topic3   5.340920    graduates   6.863976   1.1143  -5.3695\n",
       "370   Topic3  10.517228      parents  17.132829   0.8772  -4.6919\n",
       "333   Topic3  12.715657         need  22.539517   0.7927  -4.5021\n",
       "282   Topic3   6.384893          lol   9.408007   0.9775  -5.1910\n",
       "534   Topic3  11.221668         time  22.355503   0.6759  -4.6271\n",
       "189   Topic3  16.464899         good  45.962082   0.3386  -4.2437\n",
       "131   Topic3  15.930208    education  46.540666   0.2930  -4.2767\n",
       "592   Topic3  13.470860        years  38.014009   0.3277  -4.4444\n",
       "72    Topic3   7.693098        china  13.999989   0.7664  -5.0046\n",
       "473   Topic3  16.304883    singapore  61.581775   0.0363  -4.2534\n",
       "83    Topic3   6.153223         come   9.545811   0.9260  -5.2279\n",
       "246   Topic3   9.127183         jobs  21.926089   0.4887  -4.8336\n",
       "242   Topic3   6.568509        issue  11.150849   0.8359  -5.1626\n",
       "249   Topic3  10.896696         just  34.612703   0.2094  -4.6564\n",
       "274   Topic3  12.582153         like  58.641101  -0.1740  -4.5126\n",
       "73    Topic3  10.163904      chinese  37.698800   0.0544  -4.7261\n",
       "377   Topic3   9.414002       people  40.392685  -0.0913  -4.8027\n",
       "496   Topic3   7.376159    streaming  56.792771  -0.6760  -5.0466\n",
       "137   Topic3   6.715074       elites  17.267992   0.4207  -5.1405\n",
       "568   Topic3   6.724148         want  18.325907   0.3625  -5.1392\n",
       "\n",
       "[192 rows x 6 columns], token_table=      Topic      Freq       Term\n",
       "term                            \n",
       "7         1  0.967083       able\n",
       "9         1  0.857018   academic\n",
       "11        2  0.940043       acts\n",
       "22        2  0.958908       anti\n",
       "28        1  0.073062        bad\n",
       "28        2  0.913273        bad\n",
       "32        2  0.940043      batok\n",
       "38        1  0.727286     better\n",
       "38        3  0.242429     better\n",
       "39        2  0.988423        big\n",
       "46        2  0.940043  brainwash\n",
       "54        2  0.971367     called\n",
       "62        3  0.939594     chance\n",
       "63        1  0.178943     change\n",
       "63        2  0.134207     change\n",
       "63        3  0.671037     change\n",
       "70        1  0.146722      child\n",
       "70        3  0.880333      child\n",
       "72        2  0.428572      china\n",
       "72        3  0.571429      china\n",
       "73        1  0.477469    chinese\n",
       "73        2  0.265260    chinese\n",
       "73        3  0.265260    chinese\n",
       "76        2  0.952932      civil\n",
       "76        3  0.047647      civil\n",
       "77        1  0.612664      class\n",
       "77        2  0.282768      class\n",
       "77        3  0.094256      class\n",
       "78        1  0.967077    classes\n",
       "79        2  0.973734      clean\n",
       "...     ...       ...        ...\n",
       "496       3  0.123255  streaming\n",
       "500       1  0.984486   students\n",
       "501       1  0.941354      study\n",
       "505       1  0.935102   subjects\n",
       "514       3  0.939590      takes\n",
       "520       1  0.952524   teachers\n",
       "528       1  0.953105      thing\n",
       "528       3  0.095311      thing\n",
       "534       1  0.492049       time\n",
       "534       3  0.492049       time\n",
       "541       1  0.857041        try\n",
       "544       1  0.952444       turn\n",
       "548       2  0.895352      types\n",
       "553       2  0.947986  unethical\n",
       "558       3  0.783925    useless\n",
       "564       1  0.979353         vs\n",
       "568       1  0.381973       want\n",
       "568       2  0.218270       want\n",
       "568       3  0.381973       want\n",
       "569       3  0.783867      wants\n",
       "573       2  0.895354    website\n",
       "579       3  0.939214        win\n",
       "586       1  0.158536      world\n",
       "586       2  0.713412      world\n",
       "586       3  0.118902      world\n",
       "588       2  0.985264      worst\n",
       "592       1  0.157837      years\n",
       "592       2  0.499816      years\n",
       "592       3  0.341979      years\n",
       "596       2  0.940043       其心必异\n",
       "\n",
       "[227 rows x 3 columns], R=30, lambda_step=0.01, plot_opts={'xlab': 'PC1', 'ylab': 'PC2'}, topic_order=[3, 2, 1])"
      ]
     },
     "execution_count": 21,
     "metadata": {},
     "output_type": "execute_result"
    }
   ],
   "source": [
    "#Topic and terms visualisation\n",
    "pyLDAvis.sklearn.prepare(lda_3, comments_cvec, cvec)"
   ]
  },
  {
   "cell_type": "code",
   "execution_count": 22,
   "metadata": {},
   "outputs": [],
   "source": [
    "import random"
   ]
  },
  {
   "cell_type": "code",
   "execution_count": 23,
   "metadata": {},
   "outputs": [],
   "source": [
    "def random_5_comments(topic, col):\n",
    "    '''\n",
    "    This function takes in a topic number and the topic column name and prints 5 randomly selected comments.\n",
    "    '''\n",
    "    #for reproducibility \n",
    "    random.seed(99)\n",
    "    #randomly pick 5 index positions\n",
    "    selected = random.sample(range(len(comments_df[comments_df[col]==topic])),5)\n",
    "   \n",
    "    #Print the selected indexes \n",
    "    for index in selected:\n",
    "        print(comments_df[comments_df[col]==topic].iloc[index]['comments'])\n",
    "        print('-----'*20)\n",
    "        print('\\n')"
   ]
  },
  {
   "cell_type": "code",
   "execution_count": 24,
   "metadata": {},
   "outputs": [
    {
     "name": "stdout",
     "output_type": "stream",
     "text": [
      "Back to square one, after 40 years😜\n",
      "----------------------------------------------------------------------------------------------------\n",
      "\n",
      "\n",
      "After election, things might change again...\n",
      "----------------------------------------------------------------------------------------------------\n",
      "\n",
      "\n",
      "i game u fifty dollars you don't have school going kids now. on?\n",
      "----------------------------------------------------------------------------------------------------\n",
      "\n",
      "\n",
      "Can such polls be taken seriously? The majority of dumb local born S'poreans are after all Champion Complainers who have repeatedly returned P@P to power.\n",
      "----------------------------------------------------------------------------------------------------\n",
      "\n",
      "\n",
      "The number of local masters, double degrees and degrees jobless are alarming... Surprising foreigners coming in as tourists can land jobs in days.\n",
      "----------------------------------------------------------------------------------------------------\n",
      "\n",
      "\n"
     ]
    }
   ],
   "source": [
    "#Print 5 comments from topic 0\n",
    "random_5_comments(0,'topic')"
   ]
  },
  {
   "cell_type": "code",
   "execution_count": 25,
   "metadata": {},
   "outputs": [
    {
     "name": "stdout",
     "output_type": "stream",
     "text": [
      "To Everyone in this Website, Especially PAP, Opposition Parties & All Singaporean,\r\n",
      "\r\n",
      "To improve our competitiveness in Global Economy , We really must REVAMP our entire school education system , in actual fact, it should have been Done it in over 20 years ago, during the 1990s .\r\n",
      "\r\n",
      "From this website on “ Subject-Based Banding to replace streaming in secondary schools by 2024 by Singapore Government , it has EXPOSE OUT these BIG PROBLEMS in Singapore that had spread over many years .\r\n",
      "\r\n",
      "Unfortunately, our “ MOST EXPENSIVE GOVERNMENT IN THE WHOLE WORLD “ don’t seem to do much on it , though TALK very BIG in Mass Media that our “ MOST EXPENSIVE GOVERNMENT IN THE WHOLE WORLD “ is doing so ! ! !\r\n",
      "\r\n",
      "The PROBLEMS that we are facing now are these , due to the very Harmful Effects of \" DON' T CARE \" of or , should say, SACRIFICE Professional Ethics & Moral Education for many years :===>\r\n",
      "\r\n",
      "(1). Bad CORORATE CULTURES & Unethical SOCIAL VALUES are widespread in Singapore Business World & Singapore Society .\r\n",
      "\r\n",
      "Even our so called \" MOST CLEAN & UNCORRUPTED CIVIL SERVICE IN THE WHOLE WORLD \" , which is Singapore Civil Service , are now affected, due to Big Scandals had happened over these few years, like of SEX – FOR - CONTRACT , SEX – FOR - GRADE , SEX - FOR - FAVOURS, UNDER - TABLE FAVORTISM , CORRUPTION , ABUSE of POWER , INTENTIONAL IRRESPONSIBLE ACTS & etc. .\r\n",
      "\r\n",
      "(2). LACK of INTEREST on the Singaporean on things that affect National Interests & the Well-being of Society , which have led to the terrible consequences of Neglect .\r\n",
      "\r\n",
      "[ WORST , it had led to INFLUENCIAL People , like so called “ ELITE CLASS “ as mention in here , that are Unethical HYPOCRITES & Big CHEATERS ( Like T T Durai , Richard Yong , Peter Lim Sin Pang , Ex-NUS Law Professor, Dr Tey , Pastor Kong Hee , Sun Ho ( Pastor Kong Kee’s wife ) & etc. ) to INFLUENCE the society or, BRAINWASH people to become BAD & EVIL .\r\n",
      "\r\n",
      "Also , WORST , even civil servants, or staff under their control / charge are being made to be their almost YES MEN & LACKEYS / WALKING DOGS to do bad things or unethical acts for them , by forcing their staff to obey their ILLEGAL / UNLAWFUL / UNETHICAL ORDERS . . .\r\n",
      "\r\n",
      "So, the Consequence is that you Either join them to be BAD GUYS too , or, You get SACK from your Jobs ! ! ! ]\r\n",
      "\r\n",
      "(3). The KNOWLEDGE & SKILLS of Singaporean work forces are now facing STRONG COMPETITION from other newly emerged economic countries, like China & India .\r\n",
      "\r\n",
      "The Ministry of Education has not change its educational systems much to counter this measures , may be due to Clumsiness , Complacency , Ignorance or WORST , PREVENT from doing so by some Self-Interest Pressure Groups within or outside of Civil Services , through erection of \" PROTECTIONISM \" inside the organizations .\r\n",
      "\r\n",
      "* * * NOTE :==> As Mao Tze Tong, that Ex- Supreme Leader of China once said this words :==> “ If want to undergo Reform or Restructure, MUST first KNOW who your ENEMIES & FRIENDS are “ .\r\n",
      "\r\n",
      "This is BECAUSE Friends will SUPPORT the Reform & Restructure, BUT, Enemies will OPPOSE the Reform & Restructure, regardless of how Good the Reform & Restructure are .\r\n",
      "\r\n",
      "As this Old Chinese saying has highlighted : “ 非我族类，其心必异 “ or, “ 志不同 ， 道不合, 其心必异 “ or, “ 阳奉阴违 “ .\r\n",
      "[ It means that anyone that don’t belong to our types or, share common belief & objectives with us, will likely go against us or, oppose us in his / her heart & DISOBEY Instruction from superiors & Top Management ]\r\n",
      "\r\n",
      "* * * NOTE :==> In last Bukit Batok By-Election, DPM Tharman said in public that VOTE Dr Chee Soon Juan to be MP of Bukit Batok is like “ GET A FOX TO GUARD HEN DEN “.\r\n",
      "\r\n",
      "However, our Singapore Government has also “ GET A FOX TO GUARD HEN DEN “ too ! ! !\r\n",
      "\r\n",
      "That is, our Singapore Government is really RIDICULOUS to ask such types of ANTI-REFORM Civil Servants & ANTI-RESTRUCTURE Employers to HELP in the REFORM & RESTRUCTURE Singapore Education system , so as to build up Singapore Economy to be 1st Class Economy & save the Job Security of Singaporean . . . So we can all GUESS out what are the Results ? ? ? ]\r\n",
      "\r\n",
      "(4) Too Many so called “ FOREIGN TALENTS “ come into Singapore & some of them have brought lots of Bad CULTURES & Twisted IDEAS to badly INFLUENCE & BRAINWASH Singaporean population .\r\n",
      "\r\n",
      "[ To Foreigners , certain BAD PRACTICES, like LOOSE SEX CULTURE , SEX - FOR - FAVOR , GAY PRACTCES , CHEATING , CORRUPTION , ” Game of Throne ” ( Chinese is called “ 权术游戏 “) types of BRUTALLY DIRTY OFFICE POLITICS, VIOLENT POLITICAL IDEAS & etc., are OK to them in their own nations & they SPREAD such Cultures & Ideas when they are in Singapore ]\r\n",
      "\r\n",
      "Really need more “ FIREMAN “ type of Ministers, like Dr Khaw Boon Wah & even Mr Shanmugan, to CLEAN UP , make full HOUSE CLEANING ( Chinese mean : 清理门户 ) & RESTRUCTURE all the MESS that have happened in our ““ MOST EXPENSIVE CIVIL SERVICE IN THE WHOLE WORLD “ & even Private Sector . . .\r\n",
      "\r\n",
      "Any COMMENTS from you PEOPLE out there ? ? ?\r\n",
      "More\n",
      "----------------------------------------------------------------------------------------------------\n",
      "\n",
      "\n",
      "To Everyone in this Website, Especially PAP, Opposition Parties & All Singaporean,\r\n",
      "\r\n",
      "To improve our competitiveness in Global Economy , We really must REVAMP our entire school education system , in actual fact, it should have been Done it in over 20 years ago, during the 1990s .\r\n",
      "\r\n",
      "From this website on “ Remove streaming in secondary schools to reduce social stratification ”, it has EXPOSE OUT these BIG PROBLEMS in Singapore that had spread over many years .\r\n",
      "\r\n",
      "Unfortunately, our “ MOST EXPENSIVE GOVERNMENT IN THE WHOLE WORLD “ don’t seem to do much on it , though TALK very BIG in Mass Media that our “ MOST EXPENSIVE GOVERNMENT IN THE WHOLE WORLD “ is doing so ! ! !\r\n",
      "\r\n",
      "The PROBLEMS that we are facing now are these , due to the very Harmful Effects of \" DON' T CARE \" of or , should say, SACRIFICE Professional Ethics & Moral Education for many years :===>\r\n",
      "\r\n",
      "(1). Bad CORORATE CULTURES & Unethical SOCIAL VALUES are widespread in Singapore Business World & Singapore Society .\r\n",
      "\r\n",
      "Even our so called \" MOST CLEAN & UNCORRUPTED CIVIL SERVICE IN THE WHOLE WORLD \" , which is Singapore Civil Service , are now affected, due to Big Scandals had happened over these few years, like of SEX – FOR - CONTRACT , SEX – FOR - GRADE , SEX - FOR - FAVOURS, UNDER - TABLE FAVORTISM , CORRUPTION , ABUSE of POWER , INTENTIONAL IRRESPONSIBLE ACTS & etc. .\r\n",
      "\r\n",
      "(2). LACK of INTEREST on the Singaporean on things that affect National Interests & the Well-being of Society , which have led to the terrible consequences of Neglect .\r\n",
      "\r\n",
      "[ WORST , it had led to INFLUENCIAL People , like so called “ ELITE CLASS “ as mention in here , that are Unethical HYPOCRITES & Big CHEATERS ( Like T T Durai , Richard Yong , Peter Lim Sin Pang , Ex-NUS Law Professor, Dr Tey , Pastor Kong Hee , Sun Ho ( Pastor Kong Kee’s wife ) & etc. ) to INFLUENCE the society or, BRAINWASH people to become BAD & EVIL .\r\n",
      "\r\n",
      "Also , WORST , even civil servants, or staff under their control / charge are being made to be their almost YES MEN & LACKEYS / WALKING DOGS to do bad things or unethical acts for them , by forcing their staff to obey their ILLEGAL / UNLAWFUL / UNETHICAL ORDERS . . .\r\n",
      "\r\n",
      "So, the Consequence is that you Either join them to be BAD GUYS too , or, You get SACK from your Jobs ! ! ! ]\r\n",
      "\r\n",
      "(3). The KNOWLEDGE & SKILLS of Singaporean work forces are now facing STRONG COMPETITION from other newly emerged economic countries, like China & India .\r\n",
      "\r\n",
      "The Ministry of Education has not change its educational systems much to counter this measures , may be due to Clumsiness , Complacency , Ignorance or WORST , PREVENT from doing so by some Self-Interest Pressure Groups within or outside of Civil Services , through erection of \" PROTECTIONISM \" inside the organizations .\r\n",
      "\r\n",
      "* * * NOTE :==> As Mao Tze Tong, that Ex- Supreme Leader of China once said this words :==> “ If want to undergo Reform or Restructure, MUST first KNOW who your ENEMIES & FRIENDS are “ .\r\n",
      "\r\n",
      "This is BECAUSE Friends will SUPPORT the Reform & Restructure, BUT, Enemies will OPPOSE the Reform & Restructure, regardless of how Good the Reform & Restructure are .\r\n",
      "\r\n",
      "As this Old Chinese saying has highlighted : “ 非我族类，其心必异 “ or, “ 志不同 ， 道不合, 其心必异 “ or, “ 阳奉阴违 “ .\r\n",
      "[ It means that anyone that don’t belong to our types or, share common belief & objectives with us, will likely go against us or, oppose us in his / her heart & DISOBEY Instruction from superiors ]\r\n",
      "\r\n",
      "* * * NOTE :==> In last Bukit Batok By-Election, DPM Tharman said in public that VOTE Dr Chee Soon Juan to be MP of Bukit Batok is like “ GET A FOX TO GUARD HEN DEN “.\r\n",
      "\r\n",
      "However, our Singapore Government has also “ GET A FOX TO GUARD HEN DEN “ too ! ! !\r\n",
      "\r\n",
      "That is, our Singapore Government is really RIDICULOUS to ask such types of ANTI-REFORM Civil Servants & ANTI-RESTRUCTURE Employers to HELP in the REFORM & RESTRUCTURE Singapore Education system , so as to build up Singapore Economy to be 1st Class Economy & save the Job Security of Singaporean . . . So we can all GUESS out what are the Results ? ? ? ]\r\n",
      "\r\n",
      "(4) Too Many so called “ FOREIGN TALENTS “ come into Singapore & some of them have brought lots of Bad CULTURES & Twisted IDEAS to badly INFLUENCE & BRAINWASH Singaporean population .\r\n",
      "\r\n",
      "[ To Foreigners , certain BAD PRACTICES, like LOOSE SEX CULTURE , SEX - FOR - FAVOR , GAY PRACTCES , CHEATING , CORRUPTION , ” Game of Throne ” ( Chinese is called “ 权术游戏 “) types of BRUTALLY DIRTY OFFICE POLITICS, VIOLENT POLITICAL IDEAS & etc., are OK to them in their own nations & they SPREAD such Cultures & Ideas when they are in Singapore ]\r\n",
      "\r\n",
      "Really need more “ FIREMAN “ type of Ministers, like Dr Khaw Boon Wah & even Mr Shanmugan, to CLEAN UP , make full HOUSE CLEANING ( Chinese mean : 清理门户 ) & RESTRUCTURE all the MESS that have happened in our ““ MOST EXPENSIVE CIVIL SERVICE IN THE WHOLE WORLD “ & even Private Sector . . .\r\n",
      "\r\n",
      "Any COMMENTS from you PEOPLE out there ? ? ?\r\n",
      "More\n",
      "----------------------------------------------------------------------------------------------------\n",
      "\n",
      "\n",
      "To Everyone in this Website, Especially PAP, Opposition Parties & All Singaporean,\r\n",
      "\r\n",
      "What is the use if Singaporean have the BEST EDUCATION when this Cruel Reality in Singapore Labour Market is still IGNORE by Singapore Government :==>\r\n",
      "\r\n",
      "From this website on Subject-Based Banding to replace streaming in secondary schools by 2024 by our Government, Ministry of Education & Singapore Government DON’T seem to care of these BIG PROBLEMS that are widespread in Singapore for many years , or can even say PURPOSELY IGNORE such BIG PROBLEM . . .\r\n",
      "\r\n",
      "Not only blue collar jobs , even white collar jobs of highly educated younger Singaporean & university graduates are in danger too, due to Greedy Singapore employers hire Singaporean temporarily , like 1 - 6 months , & then SACK them with All types of EXCUSES , including Unscrupulously fabricated “ WITCH HUNTING “ Excuses . . .\r\n",
      "\r\n",
      "After these“ ROUGE EMPLOYERS “ have any how SACK many Singaporean Employees from their Jobs , these “ ROUGE EMPLOYERS “ COMPLAIN to Relevant Authorities, like Ministry of Manpower, that Singaporean employees , for both with University Degree & Relevant qualification , are Bad , Lousy & etc. & then , use these “ EXCUSES “ to PRESS Singapore Government to allow more so called \" FOREIGN TALENTS \" or , any one with little educational qualification to be HIRE for PMET Jobs by them , BUT , paid such people with LOW SALARIES :===>\r\n",
      "\r\n",
      "Eg : Engineer with recognized Degree from NUS, NTU or other recognized universities by MOE & several years of relevant working experience usually command salary of $3000 - $6000 /month , BUT , FOREIGN \" engineer \" that has NO recognized degrees or required certificates & with several years of \" Relevant Working Experience \" in other countries , can be paid salary at around $1000/month .\r\n",
      "\r\n",
      "Eg : Architect that had recognized Degree from NUS, NTU or other recognized universities by MOE & several years of relevant working experience usually command salary of $6000 - $12000 /month , BUT , FOREIGN \" architect \" that has NO recognized degrees or required certificates & with several years of \" Relevant Working Experience \" in other countries , can be paid salary at around $1000 - $2000/month .\r\n",
      "\r\n",
      "Eg : Accountant that had recognized Degree from NUS, NTU or other recognized universities by MOE usually command salary of $3000 - $9000 /month , BUT , FOREIGN \" accountant \" that has NO recognized degrees or required certificates & with several years \" Relevant Working Experience \" in other countries , can be paid salary at around $1000 - $1500/month .\r\n",
      "\r\n",
      "[ * NOTE :==>> In other countries, if a person has enough so called \" Relevant Work Experience \", a person can be qualified as \" Qualified Professionals / PMETs \" in their own countries , despite lack of education .\r\n",
      "\r\n",
      "It's like Singapore in 1950s to even early 2000s , when even have Primary School Education alone, is enough to be Top Directors in big companies , like Banks .\r\n",
      "\r\n",
      "( Like poorly educated Bangladeshi / Bangla workers take over PMET jobs, like Engineers & etc. in key industries . . . )\r\n",
      "\r\n",
      "At most, such Cunning Bosses hired these \" CHEAP PROFESSIONALS / PMETs \" & then give them the Positions of IT Engineers , Aerodynamic Engineers , Electrical Engineers , Civil Engineers , Mechanical Engineers , Accountants & etc., in their companies, without letting the clients or, relevant authorities know of the Truth because NOBODY want to CHECK it any way . . . ]\r\n",
      "\r\n",
      "CUT CORNERS a lot to MAXIMIZE PROFITS of Companies & EARN HIGH SALARIES & HIGH BONUSES by Top Management , BUT, DON'T CARE whether can give Good Quality Products & Services OR not , even if end up giving only Bad Products & Bad Services .\r\n",
      "\r\n",
      "These usually happen in Construction Industries, Heavy Engineering Industries & other industries, or companies that are HIGHLY CONSERVATIVE & LABOUR INTENSIVE , in which both UNPROFESSIONALISM & UNETHICAL PRACTICES have BECOME A WAY OF LIFE in the CORPORATE / INDUSTRIAL CULTURES in such industries over many years .\r\n",
      "\r\n",
      "* * NOTE :==> Singaporean Work Force is one of the MOST HIGHLY EDUCATED & BEST in the world, even recognized internationally by reputable international bodies , so Singaporean employees can’t be that Bad or Lousy to be justified easily to be SACK by management of Singaporean employers .\r\n",
      "\r\n",
      "I wonder whether our HIGHLY PAID TOP CIVIL SERVANTS have really CHECK on this PROBLEMS over so many years ? ? ?\r\n",
      "\r\n",
      "Really need more “ FIREMAN “ type of Ministers, like Dr Khaw Boon Wah & even Mr Shanmugan, to CLEAN UP , make full HOUSE CLEANING ( Chinese mean : 清理门户 ) & RESTRUCTURE all the MESS that have happened in our “ MOST EXPENSIVE CIVIL SERVICE IN THE WHOLE WORLD “ & even Private Sector , BUT need still quite reliable Non-PAP political leaders, like Mr Mr Low Thi Khiang & now, Dr Tan Cheng Bock, to press such cases to happen . . .\r\n",
      "\r\n",
      "Don’t you ALL in this Website THINK so ? ? ?\r\n",
      "\r\n",
      "Any COMMENTS from you PEOPLE out there ? ? ?\r\n",
      "More\n",
      "----------------------------------------------------------------------------------------------------\n",
      "\n",
      "\n",
      "Far Sighted . I must said .\n",
      "----------------------------------------------------------------------------------------------------\n",
      "\n",
      "\n",
      "Most of the pap mps don't even understand Politics. They are just paid pawns to do the \"kind, Mr. Nice\", role.\n",
      "----------------------------------------------------------------------------------------------------\n",
      "\n",
      "\n"
     ]
    }
   ],
   "source": [
    "#Print 5 comments from topic 1\n",
    "random_5_comments(1,'topic')"
   ]
  },
  {
   "cell_type": "code",
   "execution_count": 26,
   "metadata": {},
   "outputs": [
    {
     "name": "stdout",
     "output_type": "stream",
     "text": [
      "So sad that in a country as modern as Singapore that pride herself in one race one people , etc thst we talk about segregation. Isnt it better gor he kids ti decide if he prefers a faster thuss express or slower m thus normal himself? Ut is all about nurturung a good character jot how fadt or slow you graduate. Many famous folks also never graduate. In this world...less educated does not mean less successful. Good lord...please do not do this poll.\n",
      "----------------------------------------------------------------------------------------------------\n",
      "\n",
      "\n",
      "As long as any school is gov-aided or supported, MOE should insist these schools take in students with non-Express PSLE T-Scores to show that these schools can value-add. Also, this will in the long term help social cohesiveness.\n",
      "----------------------------------------------------------------------------------------------------\n",
      "\n",
      "\n",
      "The surest way to travel to the sun is by night!\n",
      "----------------------------------------------------------------------------------------------------\n",
      "\n",
      "\n",
      "Good move! It allows for students to develop according to their own strengths and encourage more mixing of students of different aptitude and background. This prepare the students better, cause in the real world, we live and work with people of different talents, skills set and backgrounds.\n",
      "----------------------------------------------------------------------------------------------------\n",
      "\n",
      "\n",
      "WHAT ABOUT SEPS SCHOOLS?\r\n",
      "this is THE major stigma that leads to elitism that forms the distinct gaps!\r\n",
      "such move will only distinguish this elite groups further away from the mass, holding them 'untouchable' in moral and social.\r\n",
      "likewise, what about educators themselves????\r\n",
      "More\n",
      "----------------------------------------------------------------------------------------------------\n",
      "\n",
      "\n"
     ]
    }
   ],
   "source": [
    "#Print 5 comments from topic 2\n",
    "random_5_comments(2,'topic')"
   ]
  },
  {
   "cell_type": "markdown",
   "metadata": {},
   "source": [
    "<div class='alert alert-block alert-info'>\n",
    "    Judging by the contents of the comments separated via LDA, the comments can largely be clustered around two topics: politics and education. Slightly more than half of the comments were about education,streaming and social segregation while the remainder were focused on politics and the government. \n",
    "</div>"
   ]
  },
  {
   "cell_type": "markdown",
   "metadata": {},
   "source": [
    "## Topic Modelling (Non-Negative Matrix Factorization)"
   ]
  },
  {
   "cell_type": "code",
   "execution_count": 27,
   "metadata": {},
   "outputs": [],
   "source": [
    "from sklearn.feature_extraction.text import TfidfVectorizer\n",
    "from sklearn.decomposition import NMF"
   ]
  },
  {
   "cell_type": "code",
   "execution_count": 28,
   "metadata": {},
   "outputs": [],
   "source": [
    "tfvec = TfidfVectorizer(stop_words='english',max_df=0.98,min_df=3)"
   ]
  },
  {
   "cell_type": "code",
   "execution_count": 29,
   "metadata": {},
   "outputs": [],
   "source": [
    "#Vectorize comments\n",
    "comments_tfvec = tfvec.fit_transform(comments_df['comments'])"
   ]
  },
  {
   "cell_type": "code",
   "execution_count": 30,
   "metadata": {},
   "outputs": [
    {
     "data": {
      "text/plain": [
       "NMF(alpha=0.0, beta_loss='frobenius', init=None, l1_ratio=0.0, max_iter=200,\n",
       "  n_components=2, random_state=42, shuffle=False, solver='cd', tol=0.0001,\n",
       "  verbose=0)"
      ]
     },
     "execution_count": 30,
     "metadata": {},
     "output_type": "execute_result"
    }
   ],
   "source": [
    "#Model for 2 topics\n",
    "nmf_model = NMF(n_components=2, random_state=42)\n",
    "nmf_model.fit(comments_tfvec)"
   ]
  },
  {
   "cell_type": "code",
   "execution_count": 31,
   "metadata": {},
   "outputs": [
    {
     "name": "stdout",
     "output_type": "stream",
     "text": [
      "The top 15 words for topic #0\n",
      "['world', 'don', 'time', 'years', 'pap', 'just', 'school', 'people', 'change', 'education', 'like', 'students', 'singapore', 'streaming', 'good']\n",
      "\n",
      "\n",
      "The top 15 words for topic #1\n",
      "['ones', 'looked', 'remember', 'having', 'issue', 'oh', 'mixing', 'classes', 'teachers', 'schools', 'students', 'stream', 'kids', 'express', 'normal']\n",
      "\n",
      "\n"
     ]
    }
   ],
   "source": [
    "#show top 15 words for 2 topics\n",
    "show_top15(nmf_model,tfvec)"
   ]
  },
  {
   "cell_type": "code",
   "execution_count": 32,
   "metadata": {},
   "outputs": [
    {
     "data": {
      "text/plain": [
       "NMF(alpha=0.0, beta_loss='frobenius', init=None, l1_ratio=0.0, max_iter=200,\n",
       "  n_components=3, random_state=42, shuffle=False, solver='cd', tol=0.0001,\n",
       "  verbose=0)"
      ]
     },
     "execution_count": 32,
     "metadata": {},
     "output_type": "execute_result"
    }
   ],
   "source": [
    "#Model for 3 topics\n",
    "nmf_model_3 = NMF(n_components=3, random_state=42)\n",
    "nmf_model_3.fit(comments_tfvec)"
   ]
  },
  {
   "cell_type": "code",
   "execution_count": 33,
   "metadata": {},
   "outputs": [
    {
     "name": "stdout",
     "output_type": "stream",
     "text": [
      "The top 15 words for topic #0\n",
      "['just', 'new', 'election', 'don', 'singaporean', 'world', 'years', 'ministers', 'people', 'need', 'pap', 'education', 'like', 'change', 'singapore']\n",
      "\n",
      "\n",
      "The top 15 words for topic #1\n",
      "['life', 'looked', 'remember', 'having', 'issue', 'oh', 'classes', 'mixing', 'teachers', 'schools', 'students', 'stream', 'kids', 'express', 'normal']\n",
      "\n",
      "\n",
      "The top 15 words for topic #2\n",
      "['better', 'social', 'different', 'jc', 'study', 'just', 'based', 'secondary', 'student', 'subject', 'subjects', 'school', 'students', 'good', 'streaming']\n",
      "\n",
      "\n"
     ]
    }
   ],
   "source": [
    "#show top 15 words for 3 topics\n",
    "show_top15(nmf_model_3,tfvec)"
   ]
  },
  {
   "cell_type": "code",
   "execution_count": 34,
   "metadata": {},
   "outputs": [
    {
     "data": {
      "text/plain": [
       "NMF(alpha=0.0, beta_loss='frobenius', init=None, l1_ratio=0.0, max_iter=200,\n",
       "  n_components=4, random_state=42, shuffle=False, solver='cd', tol=0.0001,\n",
       "  verbose=0)"
      ]
     },
     "execution_count": 34,
     "metadata": {},
     "output_type": "execute_result"
    }
   ],
   "source": [
    "#Model for 4 topics\n",
    "nmf_model_4 = NMF(n_components=4, random_state=42)\n",
    "nmf_model_4.fit(comments_tfvec)"
   ]
  },
  {
   "cell_type": "code",
   "execution_count": 35,
   "metadata": {},
   "outputs": [
    {
     "name": "stdout",
     "output_type": "stream",
     "text": [
      "The top 15 words for topic #0\n",
      "['bad', 'restructure', 'singaporean', 'government', 'people', 'chinese', 'china', 'foreign', 'don', 'years', 'world', 'education', 'pap', 'like', 'singapore']\n",
      "\n",
      "\n",
      "The top 15 words for topic #1\n",
      "['life', 'looked', 'remember', 'having', 'issue', 'oh', 'mixing', 'classes', 'teachers', 'schools', 'students', 'stream', 'kids', 'express', 'normal']\n",
      "\n",
      "\n",
      "The top 15 words for topic #2\n",
      "['forced', 'better', 'social', 'jc', 'study', 'just', 'secondary', 'based', 'student', 'subject', 'subjects', 'school', 'students', 'good', 'streaming']\n",
      "\n",
      "\n",
      "The top 15 words for topic #3\n",
      "['lose', 'takes', 'agree', 'seriously', 'things', 'gimmick', 'polls', 'time', 'decades', 'need', 'moe', 'ministers', 'election', 'new', 'change']\n",
      "\n",
      "\n"
     ]
    }
   ],
   "source": [
    "#show top 15 words for 4 topics\n",
    "show_top15(nmf_model_4,tfvec)"
   ]
  },
  {
   "cell_type": "markdown",
   "metadata": {},
   "source": [
    "<div class='alert alert-block alert-warning'>\n",
    "    The topics from Non-Negative Matrix Factorization do not seem that clearly split, however like LDA, the 3 topic split has one distinct topic and perhaps the other two could be combined into one as well.\n",
    "</div>"
   ]
  },
  {
   "cell_type": "code",
   "execution_count": 36,
   "metadata": {},
   "outputs": [],
   "source": [
    "#Retrieve topics of comments\n",
    "topics_nmf_3 = nmf_model_3.transform(comments_tfvec).argmax(axis=1)"
   ]
  },
  {
   "cell_type": "code",
   "execution_count": 37,
   "metadata": {},
   "outputs": [],
   "source": [
    "#Append the topic to the DataFrame\n",
    "comments_df['topics_nmf_3'] = topics_nmf_3"
   ]
  },
  {
   "cell_type": "code",
   "execution_count": 38,
   "metadata": {},
   "outputs": [
    {
     "name": "stdout",
     "output_type": "stream",
     "text": [
      "Number of comments under topic 0:  129\n",
      "Number of comments under topic 1:  47\n",
      "Number of comments under topic 2:  89\n"
     ]
    }
   ],
   "source": [
    "#Check the number of comments for each topic\n",
    "for i in range(3):\n",
    "    print('Number of comments under topic {}: '.format(i),len(comments_df[comments_df['topics_nmf_3']==i]))"
   ]
  },
  {
   "cell_type": "code",
   "execution_count": 39,
   "metadata": {},
   "outputs": [
    {
     "name": "stdout",
     "output_type": "stream",
     "text": [
      "The coming election will be challenging for PAP. They need to consider if they lose the GRC, they going to lose the heavy weight ministers. GRC will be good for opposition this time but not for PAP. The chance of losing another GRC is high. They already lose heavy weight George Yeo.\n",
      "----------------------------------------------------------------------------------------------------\n",
      "\n",
      "\n",
      "Most of the pap mps don't even understand Politics. They are just paid pawns to do the \"kind, Mr. Nice\", role.\n",
      "----------------------------------------------------------------------------------------------------\n",
      "\n",
      "\n",
      "Sounds like the GRC system!\n",
      "----------------------------------------------------------------------------------------------------\n",
      "\n",
      "\n",
      "Pls look at how scholars are produced. And should they drive policies when they are so stuck up. And look at how military are being parachuted.\n",
      "----------------------------------------------------------------------------------------------------\n",
      "\n",
      "\n",
      "Back to square one, after 40 years😜\n",
      "----------------------------------------------------------------------------------------------------\n",
      "\n",
      "\n"
     ]
    }
   ],
   "source": [
    "#Print 5 comments from topic 0\n",
    "random_5_comments(0,'topics_nmf_3')"
   ]
  },
  {
   "cell_type": "code",
   "execution_count": 40,
   "metadata": {},
   "outputs": [],
   "source": [
    "import matplotlib.pyplot as plt\n",
    "plt.style.use('seaborn-darkgrid')\n",
    "%matplotlib inline"
   ]
  },
  {
   "cell_type": "code",
   "execution_count": 49,
   "metadata": {},
   "outputs": [
    {
     "data": {
      "image/png": "[encoded data removed]",
      "text/plain": [
       "<Figure size 1080x432 with 3 Axes>"
      ]
     },
     "metadata": {
      "needs_background": "light"
     },
     "output_type": "display_data"
    }
   ],
   "source": [
    "#For the top 15 words of each topic, plot the probabilities they are generated by that topic \n",
    "plt.subplots(1,3,figsize=(15,6))\n",
    "\n",
    "for i in range(3):\n",
    "    topic_df = pd.DataFrame({'Word':tfvec.get_feature_names(),'Probability':nmf_model_3.components_[i]})\n",
    "    topic_df_15 = topic_df.sort_values('Probability',ascending=False).head(15)\n",
    "    \n",
    "    plt.subplot(1,3,i+1)\n",
    "    plt.barh(y=topic_df_15.sort_values('Probability')['Word'],width=topic_df_15.sort_values('Probability')['Probability'])\n",
    "\n",
    "    plt.title('Probability for top 15 words for topic {}'.format(i),fontsize=13)\n",
    "    plt.ylabel('Word',fontsize=13)\n",
    "    plt.yticks(fontsize=12)\n",
    "    plt.xlabel('Probability',fontsize=13)\n",
    "    plt.tight_layout()"
   ]
  },
  {
   "cell_type": "code",
   "execution_count": 42,
   "metadata": {},
   "outputs": [
    {
     "name": "stdout",
     "output_type": "stream",
     "text": [
      "In fact, is the Principal & teachers in my school who differentiate the Express & Normal...I was in the Normal stream...Principal & teachers are the ones who tell the Express to stay away from Normal Students else will become like us.\n",
      "----------------------------------------------------------------------------------------------------\n",
      "\n",
      "\n",
      "Ok lo, let them stream to express lo. These students are molded by government and prepare them to be followers. Always follow the system, rigid and straight.\r\n",
      "\r\n",
      "While normal students dare to do things and try things differently. Seen many bosses from the normal stream employing dozens of local U grads lol\n",
      "----------------------------------------------------------------------------------------------------\n",
      "\n",
      "\n",
      "Secondary kids may not be ready modular system. They may even forget to attend lessons. Timetabling would become overwhelmingly complex. Teachers will have to contend with very diverse ability students. Oh well....\n",
      "----------------------------------------------------------------------------------------------------\n",
      "\n",
      "\n",
      "So sad that in a country as modern as Singapore that pride herself in one race one people , etc thst we talk about segregation. Isnt it better gor he kids ti decide if he prefers a faster thuss express or slower m thus normal himself? Ut is all about nurturung a good character jot how fadt or slow you graduate. Many famous folks also never graduate. In this world...less educated does not mean less successful. Good lord...please do not do this poll.\n",
      "----------------------------------------------------------------------------------------------------\n",
      "\n",
      "\n",
      "i game u fifty dollars you don't have school going kids now. on?\n",
      "----------------------------------------------------------------------------------------------------\n",
      "\n",
      "\n"
     ]
    }
   ],
   "source": [
    "#Print 5 comments from topic 1\n",
    "random_5_comments(1,'topics_nmf_3')"
   ]
  },
  {
   "cell_type": "code",
   "execution_count": 43,
   "metadata": {},
   "outputs": [
    {
     "name": "stdout",
     "output_type": "stream",
     "text": [
      "You can mix them but does not mean there will be integration.\n",
      "----------------------------------------------------------------------------------------------------\n",
      "\n",
      "\n",
      "social stigma is unavoidable. even without streaming.\r\n",
      "in top school, a student from A class will look down on students from the last class.\r\n",
      "and the leech will look down on the poor.\r\n",
      "anyway, its tuition. those who can afford the best tutors end up with good grades.\r\n",
      "and they are from the leeches.\r\n",
      "how many from the lower income have good educational outcomes?\r\n",
      "More\n",
      "----------------------------------------------------------------------------------------------------\n",
      "\n",
      "\n",
      "@willie le chien courant\r\n",
      "Not yet, right! But the idea remains sound. Try it!\n",
      "----------------------------------------------------------------------------------------------------\n",
      "\n",
      "\n",
      "Streaming is GOOD. No good student should be forced to mix with those trouble-making, parang-wielding and noise-generating students; you just can't focus and concentrate in class, and all the more unable to learn Anything from them! Yes, I DO mean a particular group/ race when I am describing those useless kids, where most of them come from dysfunctional families with the dad's IN PRISON and the mom not EDUCATED enough to discipline the kids.\n",
      "----------------------------------------------------------------------------------------------------\n",
      "\n",
      "\n",
      "No more streaming into classes but segregating students into subjects means a different way to stream!\n",
      "----------------------------------------------------------------------------------------------------\n",
      "\n",
      "\n"
     ]
    }
   ],
   "source": [
    "#Print 5 comments from topic 2\n",
    "random_5_comments(2,'topics_nmf_3')"
   ]
  },
  {
   "cell_type": "markdown",
   "metadata": {},
   "source": [
    "<div class='alert alert-block alert-warning'>\n",
    "    Judging from the comments from each topic, topic 0 seems focused on politics while topics 1 and 2 are focused on education and social segregation. If topics 1 and 2 were to be combined, it seems like the results of both LDA and NMF would be rather similar, with a split of ~120/140 for politics/education\n",
    "</div>"
   ]
  },
  {
   "cell_type": "code",
   "execution_count": 44,
   "metadata": {},
   "outputs": [],
   "source": [
    "#Consolidate topics into just 2 topics of Politics and education/Society\n",
    "topics_lda_2 = ['Politics' if num==0 or num==1 else 'Education/Society' for num in lda_3.transform(comments_cvec).argmax(axis=1)]\n",
    "topics_nmf_2 = ['Politics' if num==0 else 'Education/Society' for num in nmf_model_3.transform(comments_tfvec).argmax(axis=1)]"
   ]
  },
  {
   "cell_type": "code",
   "execution_count": 45,
   "metadata": {},
   "outputs": [],
   "source": [
    "#Add the topics to the DataFrame\n",
    "comments_df['topics_lda_2'] = topics_lda_2\n",
    "comments_df['topics_nmf_2'] = topics_nmf_2"
   ]
  },
  {
   "cell_type": "code",
   "execution_count": 46,
   "metadata": {},
   "outputs": [
    {
     "data": {
      "text/plain": [
       "0.7849056603773585"
      ]
     },
     "execution_count": 46,
     "metadata": {},
     "output_type": "execute_result"
    }
   ],
   "source": [
    "#Check the percentage comments that were clustered under the same topic by both models\n",
    "len(comments_df[comments_df['topics_lda_2']==comments_df['topics_nmf_2']])/len(comments_df)"
   ]
  },
  {
   "cell_type": "code",
   "execution_count": 47,
   "metadata": {},
   "outputs": [
    {
     "name": "stdout",
     "output_type": "stream",
     "text": [
      "You are totally wrong. I have 2 boys and they mixed with friends from all walks of life. To tell the truth, it does benefit them and build up their EQ which people like you will not be able to understand.\n",
      "\n",
      "LDA Topic:  Education/Society\n",
      "NMF Topic:  Politics\n",
      "\n",
      "----------------------------------------------------------------------------------------------------\n",
      "I always vote opposite my mind to confuse all. Specially polls related to polictic\n",
      "\n",
      "LDA Topic:  Education/Society\n",
      "NMF Topic:  Politics\n",
      "\n",
      "----------------------------------------------------------------------------------------------------\n",
      "I agreed that they should review as we have the most rigid school system in the world. It does not motivate learning, creativities and curiousities. It just produce exam smart ppl. Not scientist, inventors, thinkers and so on. If we can produce these ppl. I say we achieve another great success in our education.\n",
      "\n",
      "LDA Topic:  Education/Society\n",
      "NMF Topic:  Politics\n",
      "\n",
      "----------------------------------------------------------------------------------------------------\n",
      "we should set up more reformative centres. those who fail badly academically will be forcibly channeled into these centres. those with good eyesight will be channel into a pilot simulator gaming school. another school could let the student do graffiti art on walls. some school could teach them high value hands craft and skill like repair mechanical watches and jewelleries. if they fail miserably in one of them they can switch to another. only when they attain a certain standard in one of the centre will they be release back into society. to compensate for their hardship, their sentence can be carry out in lieu of their reservist in camp training.\r\n",
      "More\n",
      "\n",
      "LDA Topic:  Politics\n",
      "NMF Topic:  Education/Society\n",
      "\n",
      "----------------------------------------------------------------------------------------------------\n",
      "@Lee , Wa !! Lee , pay you 30K per month , You should know how to do the job .\n",
      "\n",
      "LDA Topic:  Education/Society\n",
      "NMF Topic:  Politics\n",
      "\n",
      "----------------------------------------------------------------------------------------------------\n",
      "i game u fifty dollars you don't have school going kids now. on?\n",
      "\n",
      "LDA Topic:  Politics\n",
      "NMF Topic:  Education/Society\n",
      "\n",
      "----------------------------------------------------------------------------------------------------\n",
      "If only you know the hugely different standard in graduates, you will not say it is due to Imperialism.\n",
      "\n",
      "LDA Topic:  Education/Society\n",
      "NMF Topic:  Politics\n",
      "\n",
      "----------------------------------------------------------------------------------------------------\n",
      "Is this going to be worse?\n",
      "\n",
      "LDA Topic:  Politics\n",
      "NMF Topic:  Education/Society\n",
      "\n",
      "----------------------------------------------------------------------------------------------------\n",
      "Maybe he was told to keep quite just to take 16K and actsee actsee can already. Nowadays all teh G are doing it when looking their bank account millions $$$ into it!\n",
      "\n",
      "LDA Topic:  Education/Society\n",
      "NMF Topic:  Politics\n",
      "\n",
      "----------------------------------------------------------------------------------------------------\n",
      "Change here n there in the end bring in FTS all also no job all jobs taken by fts\n",
      "\n",
      "LDA Topic:  Education/Society\n",
      "NMF Topic:  Politics\n",
      "\n",
      "----------------------------------------------------------------------------------------------------\n"
     ]
    }
   ],
   "source": [
    "#Take a look at the comments where the models differed on selected topic\n",
    "random.seed(99)\n",
    "diff_topics = comments_df[comments_df['topics_lda_2']!=comments_df['topics_nmf_2']]\n",
    "num_list = random.sample(range(len(diff_topics)),10)\n",
    "\n",
    "for num in num_list:\n",
    "    print(diff_topics.iloc[num]['comments'])\n",
    "    print()\n",
    "    print('LDA Topic: ',diff_topics.iloc[num]['topics_lda_2'])\n",
    "    print('NMF Topic: ',diff_topics.iloc[num]['topics_nmf_2'])\n",
    "    print()\n",
    "    print('-----'*20)"
   ]
  },
  {
   "cell_type": "markdown",
   "metadata": {},
   "source": [
    "<div class='alert alert-block alert-info'>\n",
    "    Both LDA and NMF produced similar clustering for majority of the comments, at about 78%. Looking at some of the comments where they disagreed, there was no clear disntinction between which model was more accurate as the selected topic for LDA was more appropriate for some but for others it was the topic from NMF. Some comments did not really belong to either topics. \n",
    "</div>"
   ]
  },
  {
   "cell_type": "code",
   "execution_count": null,
   "metadata": {},
   "outputs": [],
   "source": []
  }
 ],
 "metadata": {
  "kernelspec": {
   "display_name": "Python 3",
   "language": "python",
   "name": "python3"
  },
  "language_info": {
   "codemirror_mode": {
    "name": "ipython",
    "version": 3
   },
   "file_extension": ".py",
   "mimetype": "text/x-python",
   "name": "python",
   "nbconvert_exporter": "python",
   "pygments_lexer": "ipython3",
   "version": "3.6.8"
  }
 },
 "nbformat": 4,
 "nbformat_minor": 2
}
