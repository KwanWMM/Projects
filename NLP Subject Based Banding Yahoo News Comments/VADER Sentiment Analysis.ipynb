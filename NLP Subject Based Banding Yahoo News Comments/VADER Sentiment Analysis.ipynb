{
 "cells": [
  {
   "cell_type": "code",
   "execution_count": 1,
   "metadata": {},
   "outputs": [],
   "source": [
    "import pandas as pd\n",
    "import nltk\n",
    "from nltk.sentiment.vader import SentimentIntensityAnalyzer"
   ]
  },
  {
   "cell_type": "markdown",
   "metadata": {},
   "source": [
    "## Prepare the comments and an analyzer"
   ]
  },
  {
   "cell_type": "code",
   "execution_count": 2,
   "metadata": {},
   "outputs": [],
   "source": [
    "#Instantiate an analyzer\n",
    "sid = SentimentIntensityAnalyzer()"
   ]
  },
  {
   "cell_type": "code",
   "execution_count": 3,
   "metadata": {},
   "outputs": [],
   "source": [
    "comments_df = pd.read_csv('./comments.csv',index_col=0)"
   ]
  },
  {
   "cell_type": "code",
   "execution_count": 4,
   "metadata": {},
   "outputs": [],
   "source": [
    "comments_df.reset_index(drop=True,inplace=True)"
   ]
  },
  {
   "cell_type": "code",
   "execution_count": 5,
   "metadata": {},
   "outputs": [
    {
     "data": {
      "text/html": [
       "<div>\n",
       "<style scoped>\n",
       "    .dataframe tbody tr th:only-of-type {\n",
       "        vertical-align: middle;\n",
       "    }\n",
       "\n",
       "    .dataframe tbody tr th {\n",
       "        vertical-align: top;\n",
       "    }\n",
       "\n",
       "    .dataframe thead th {\n",
       "        text-align: right;\n",
       "    }\n",
       "</style>\n",
       "<table border=\"1\" class=\"dataframe\">\n",
       "  <thead>\n",
       "    <tr style=\"text-align: right;\">\n",
       "      <th></th>\n",
       "      <th>article_id</th>\n",
       "      <th>comments</th>\n",
       "      <th>is_reply</th>\n",
       "    </tr>\n",
       "  </thead>\n",
       "  <tbody>\n",
       "    <tr>\n",
       "      <th>0</th>\n",
       "      <td>0.0</td>\n",
       "      <td>What's the point of studying so much ended up ...</td>\n",
       "      <td>0.0</td>\n",
       "    </tr>\n",
       "    <tr>\n",
       "      <th>1</th>\n",
       "      <td>0.0</td>\n",
       "      <td>No matter what kind of streaming or subject ba...</td>\n",
       "      <td>0.0</td>\n",
       "    </tr>\n",
       "    <tr>\n",
       "      <th>2</th>\n",
       "      <td>0.0</td>\n",
       "      <td>Seems to be that the purpose of this system is...</td>\n",
       "      <td>1.0</td>\n",
       "    </tr>\n",
       "    <tr>\n",
       "      <th>3</th>\n",
       "      <td>0.0</td>\n",
       "      <td>This feels like just another diversion from RE...</td>\n",
       "      <td>0.0</td>\n",
       "    </tr>\n",
       "    <tr>\n",
       "      <th>4</th>\n",
       "      <td>0.0</td>\n",
       "      <td>Isn’t a “real” issue the boxing of kids into s...</td>\n",
       "      <td>1.0</td>\n",
       "    </tr>\n",
       "  </tbody>\n",
       "</table>\n",
       "</div>"
      ],
      "text/plain": [
       "   article_id                                           comments  is_reply\n",
       "0         0.0  What's the point of studying so much ended up ...       0.0\n",
       "1         0.0  No matter what kind of streaming or subject ba...       0.0\n",
       "2         0.0  Seems to be that the purpose of this system is...       1.0\n",
       "3         0.0  This feels like just another diversion from RE...       0.0\n",
       "4         0.0  Isn’t a “real” issue the boxing of kids into s...       1.0"
      ]
     },
     "execution_count": 5,
     "metadata": {},
     "output_type": "execute_result"
    }
   ],
   "source": [
    "comments_df.head()"
   ]
  },
  {
   "cell_type": "code",
   "execution_count": 6,
   "metadata": {},
   "outputs": [
    {
     "data": {
      "text/html": [
       "<div>\n",
       "<style scoped>\n",
       "    .dataframe tbody tr th:only-of-type {\n",
       "        vertical-align: middle;\n",
       "    }\n",
       "\n",
       "    .dataframe tbody tr th {\n",
       "        vertical-align: top;\n",
       "    }\n",
       "\n",
       "    .dataframe thead th {\n",
       "        text-align: right;\n",
       "    }\n",
       "</style>\n",
       "<table border=\"1\" class=\"dataframe\">\n",
       "  <thead>\n",
       "    <tr style=\"text-align: right;\">\n",
       "      <th></th>\n",
       "      <th>article_id</th>\n",
       "      <th>comments</th>\n",
       "      <th>is_reply</th>\n",
       "    </tr>\n",
       "  </thead>\n",
       "  <tbody>\n",
       "    <tr>\n",
       "      <th>260</th>\n",
       "      <td>3.0</td>\n",
       "      <td>Good. another own self check own self. LoL</td>\n",
       "      <td>0.0</td>\n",
       "    </tr>\n",
       "    <tr>\n",
       "      <th>261</th>\n",
       "      <td>3.0</td>\n",
       "      <td>Louis is 100% correct! I support his thinking ...</td>\n",
       "      <td>0.0</td>\n",
       "    </tr>\n",
       "    <tr>\n",
       "      <th>262</th>\n",
       "      <td>3.0</td>\n",
       "      <td>Election tactics lah, now act like good guy so...</td>\n",
       "      <td>1.0</td>\n",
       "    </tr>\n",
       "    <tr>\n",
       "      <th>263</th>\n",
       "      <td>3.0</td>\n",
       "      <td>One of the many useless jiao liao be in the house</td>\n",
       "      <td>0.0</td>\n",
       "    </tr>\n",
       "    <tr>\n",
       "      <th>264</th>\n",
       "      <td>3.0</td>\n",
       "      <td>Louis Ng is obviously an IDIOT.</td>\n",
       "      <td>0.0</td>\n",
       "    </tr>\n",
       "  </tbody>\n",
       "</table>\n",
       "</div>"
      ],
      "text/plain": [
       "     article_id                                           comments  is_reply\n",
       "260         3.0         Good. another own self check own self. LoL       0.0\n",
       "261         3.0  Louis is 100% correct! I support his thinking ...       0.0\n",
       "262         3.0  Election tactics lah, now act like good guy so...       1.0\n",
       "263         3.0  One of the many useless jiao liao be in the house       0.0\n",
       "264         3.0                    Louis Ng is obviously an IDIOT.       0.0"
      ]
     },
     "execution_count": 6,
     "metadata": {},
     "output_type": "execute_result"
    }
   ],
   "source": [
    "comments_df.tail()"
   ]
  },
  {
   "cell_type": "markdown",
   "metadata": {},
   "source": [
    "## Sample some of the comments and check their scores"
   ]
  },
  {
   "cell_type": "code",
   "execution_count": 7,
   "metadata": {},
   "outputs": [
    {
     "name": "stdout",
     "output_type": "stream",
     "text": [
      "Louis Ng is obviously an IDIOT.\n",
      "\n",
      " {'neg': 0.446, 'neu': 0.554, 'pos': 0.0, 'compound': -0.6166}\n"
     ]
    }
   ],
   "source": [
    "print(comments_df['comments'][264])\n",
    "print('\\n',sid.polarity_scores(comments_df['comments'][264]))"
   ]
  },
  {
   "cell_type": "code",
   "execution_count": 8,
   "metadata": {},
   "outputs": [
    {
     "name": "stdout",
     "output_type": "stream",
     "text": [
      "Election tactics lah, now act like good guy so people would say \"Garment care for them\" see what happen if they win the next election.\n",
      "\n",
      " {'neg': 0.0, 'neu': 0.629, 'pos': 0.371, 'compound': 0.9081}\n"
     ]
    }
   ],
   "source": [
    "print(comments_df['comments'][262])\n",
    "print('\\n',sid.polarity_scores(comments_df['comments'][262]))"
   ]
  },
  {
   "cell_type": "code",
   "execution_count": 9,
   "metadata": {},
   "outputs": [
    {
     "name": "stdout",
     "output_type": "stream",
     "text": [
      "Good. another own self check own self. LoL\n",
      "\n",
      " {'neg': 0.0, 'neu': 0.513, 'pos': 0.487, 'compound': 0.6908}\n"
     ]
    }
   ],
   "source": [
    "print(comments_df['comments'][260])\n",
    "print('\\n',sid.polarity_scores(comments_df['comments'][260]))"
   ]
  },
  {
   "cell_type": "code",
   "execution_count": 10,
   "metadata": {},
   "outputs": [
    {
     "name": "stdout",
     "output_type": "stream",
     "text": [
      "Isn’t a “real” issue the boxing of kids into smart vs not so smart categories?\n",
      "\n",
      " {'neg': 0.0, 'neu': 0.69, 'pos': 0.31, 'compound': 0.6597}\n"
     ]
    }
   ],
   "source": [
    "print(comments_df['comments'][4])\n",
    "print('\\n',sid.polarity_scores(comments_df['comments'][4]))"
   ]
  },
  {
   "cell_type": "code",
   "execution_count": 11,
   "metadata": {},
   "outputs": [
    {
     "name": "stdout",
     "output_type": "stream",
     "text": [
      "This feels like just another diversion from REAL issues. Whether streaming or SBB, the main concern should be whether our policies are maximizing our limited resources (i.e. manpower) - will our people get good jobs now and in future. Will it prevent/address the under-employment issue? Proper training or education but if those entering the workforce still cannot find careers in areas where they are academically strong in (worse if they have the passion in certain areas but no opportunity), then what is the point?\n",
      "\n",
      " {'neg': 0.045, 'neu': 0.797, 'pos': 0.159, 'compound': 0.8981}\n"
     ]
    }
   ],
   "source": [
    "print(comments_df['comments'][3])\n",
    "print('\\n',sid.polarity_scores(comments_df['comments'][3]))"
   ]
  },
  {
   "cell_type": "code",
   "execution_count": 12,
   "metadata": {},
   "outputs": [
    {
     "name": "stdout",
     "output_type": "stream",
     "text": [
      "What's the point of studying so much ended up working as a Cleaner and taxi driver for university graduates while the rest of the position fill up by foreign talents who work to apply for Singapore citizenship then went back to China to join People Liberation Army and dropped Singapore Citizenship\n",
      "\n",
      " {'neg': 0.0, 'neu': 0.872, 'pos': 0.128, 'compound': 0.7096}\n"
     ]
    }
   ],
   "source": [
    "print(comments_df['comments'][0])\n",
    "print('\\n',sid.polarity_scores(comments_df['comments'][0]))"
   ]
  },
  {
   "cell_type": "markdown",
   "metadata": {},
   "source": [
    "<div class='alert alert-block alert-warning'>\n",
    "    Results don't look promising, only the first example was picked out as a negative score, while pretty much all the comments were negative.\n",
    "</div>"
   ]
  },
  {
   "cell_type": "markdown",
   "metadata": {},
   "source": [
    "## Scoring all comments"
   ]
  },
  {
   "cell_type": "code",
   "execution_count": 13,
   "metadata": {},
   "outputs": [],
   "source": [
    "#Create lists to append the scores to\n",
    "neg = []\n",
    "neu = []\n",
    "pos = []\n",
    "compound = []\n",
    "\n",
    "#Iterate through each comment to retrieve the scores and append them to the respective lists\n",
    "for comment in comments_df['comments']:\n",
    "    neg.append(sid.polarity_scores(comment)['neg'])\n",
    "    neu.append(sid.polarity_scores(comment)['neu'])\n",
    "    pos.append(sid.polarity_scores(comment)['pos'])\n",
    "    compound.append(sid.polarity_scores(comment)['compound'])\n",
    "\n",
    "#Add each score as a column to the DataFrame\n",
    "comments_df['neg'] = neg\n",
    "comments_df['neu'] = neu\n",
    "comments_df['pos'] = pos\n",
    "comments_df['compound'] = compound"
   ]
  },
  {
   "cell_type": "code",
   "execution_count": 14,
   "metadata": {},
   "outputs": [
    {
     "data": {
      "text/html": [
       "<div>\n",
       "<style scoped>\n",
       "    .dataframe tbody tr th:only-of-type {\n",
       "        vertical-align: middle;\n",
       "    }\n",
       "\n",
       "    .dataframe tbody tr th {\n",
       "        vertical-align: top;\n",
       "    }\n",
       "\n",
       "    .dataframe thead th {\n",
       "        text-align: right;\n",
       "    }\n",
       "</style>\n",
       "<table border=\"1\" class=\"dataframe\">\n",
       "  <thead>\n",
       "    <tr style=\"text-align: right;\">\n",
       "      <th></th>\n",
       "      <th>article_id</th>\n",
       "      <th>comments</th>\n",
       "      <th>is_reply</th>\n",
       "      <th>neg</th>\n",
       "      <th>neu</th>\n",
       "      <th>pos</th>\n",
       "      <th>compound</th>\n",
       "    </tr>\n",
       "  </thead>\n",
       "  <tbody>\n",
       "    <tr>\n",
       "      <th>0</th>\n",
       "      <td>0.0</td>\n",
       "      <td>What's the point of studying so much ended up ...</td>\n",
       "      <td>0.0</td>\n",
       "      <td>0.000</td>\n",
       "      <td>0.872</td>\n",
       "      <td>0.128</td>\n",
       "      <td>0.7096</td>\n",
       "    </tr>\n",
       "    <tr>\n",
       "      <th>1</th>\n",
       "      <td>0.0</td>\n",
       "      <td>No matter what kind of streaming or subject ba...</td>\n",
       "      <td>0.0</td>\n",
       "      <td>0.156</td>\n",
       "      <td>0.760</td>\n",
       "      <td>0.084</td>\n",
       "      <td>-0.8555</td>\n",
       "    </tr>\n",
       "    <tr>\n",
       "      <th>2</th>\n",
       "      <td>0.0</td>\n",
       "      <td>Seems to be that the purpose of this system is...</td>\n",
       "      <td>1.0</td>\n",
       "      <td>0.000</td>\n",
       "      <td>0.844</td>\n",
       "      <td>0.156</td>\n",
       "      <td>0.6322</td>\n",
       "    </tr>\n",
       "    <tr>\n",
       "      <th>3</th>\n",
       "      <td>0.0</td>\n",
       "      <td>This feels like just another diversion from RE...</td>\n",
       "      <td>0.0</td>\n",
       "      <td>0.045</td>\n",
       "      <td>0.797</td>\n",
       "      <td>0.159</td>\n",
       "      <td>0.8981</td>\n",
       "    </tr>\n",
       "    <tr>\n",
       "      <th>4</th>\n",
       "      <td>0.0</td>\n",
       "      <td>Isn’t a “real” issue the boxing of kids into s...</td>\n",
       "      <td>1.0</td>\n",
       "      <td>0.000</td>\n",
       "      <td>0.690</td>\n",
       "      <td>0.310</td>\n",
       "      <td>0.6597</td>\n",
       "    </tr>\n",
       "  </tbody>\n",
       "</table>\n",
       "</div>"
      ],
      "text/plain": [
       "   article_id                                           comments  is_reply  \\\n",
       "0         0.0  What's the point of studying so much ended up ...       0.0   \n",
       "1         0.0  No matter what kind of streaming or subject ba...       0.0   \n",
       "2         0.0  Seems to be that the purpose of this system is...       1.0   \n",
       "3         0.0  This feels like just another diversion from RE...       0.0   \n",
       "4         0.0  Isn’t a “real” issue the boxing of kids into s...       1.0   \n",
       "\n",
       "     neg    neu    pos  compound  \n",
       "0  0.000  0.872  0.128    0.7096  \n",
       "1  0.156  0.760  0.084   -0.8555  \n",
       "2  0.000  0.844  0.156    0.6322  \n",
       "3  0.045  0.797  0.159    0.8981  \n",
       "4  0.000  0.690  0.310    0.6597  "
      ]
     },
     "execution_count": 14,
     "metadata": {},
     "output_type": "execute_result"
    }
   ],
   "source": [
    "comments_df.head()"
   ]
  },
  {
   "cell_type": "code",
   "execution_count": 15,
   "metadata": {},
   "outputs": [],
   "source": [
    "#Save the comments with score\n",
    "comments_df.to_csv('comments_with_score.csv')"
   ]
  },
  {
   "cell_type": "markdown",
   "metadata": {},
   "source": [
    "## Checking out the top 10 positive comments"
   ]
  },
  {
   "cell_type": "code",
   "execution_count": 16,
   "metadata": {},
   "outputs": [],
   "source": [
    "#Sort and look at the top 10 positive comments\n",
    "comments_top10 = comments_df.sort_values('compound',ascending = False).head(10)"
   ]
  },
  {
   "cell_type": "code",
   "execution_count": 17,
   "metadata": {},
   "outputs": [
    {
     "data": {
      "text/html": [
       "<div>\n",
       "<style scoped>\n",
       "    .dataframe tbody tr th:only-of-type {\n",
       "        vertical-align: middle;\n",
       "    }\n",
       "\n",
       "    .dataframe tbody tr th {\n",
       "        vertical-align: top;\n",
       "    }\n",
       "\n",
       "    .dataframe thead th {\n",
       "        text-align: right;\n",
       "    }\n",
       "</style>\n",
       "<table border=\"1\" class=\"dataframe\">\n",
       "  <thead>\n",
       "    <tr style=\"text-align: right;\">\n",
       "      <th></th>\n",
       "      <th>article_id</th>\n",
       "      <th>comments</th>\n",
       "      <th>is_reply</th>\n",
       "      <th>neg</th>\n",
       "      <th>neu</th>\n",
       "      <th>pos</th>\n",
       "      <th>compound</th>\n",
       "    </tr>\n",
       "  </thead>\n",
       "  <tbody>\n",
       "    <tr>\n",
       "      <th>82</th>\n",
       "      <td>1.0</td>\n",
       "      <td>Our elites are implementing this new system du...</td>\n",
       "      <td>0.0</td>\n",
       "      <td>0.051</td>\n",
       "      <td>0.842</td>\n",
       "      <td>0.108</td>\n",
       "      <td>0.9919</td>\n",
       "    </tr>\n",
       "    <tr>\n",
       "      <th>37</th>\n",
       "      <td>0.0</td>\n",
       "      <td>This is a good move because it allows individu...</td>\n",
       "      <td>0.0</td>\n",
       "      <td>0.108</td>\n",
       "      <td>0.720</td>\n",
       "      <td>0.171</td>\n",
       "      <td>0.9694</td>\n",
       "    </tr>\n",
       "    <tr>\n",
       "      <th>94</th>\n",
       "      <td>1.0</td>\n",
       "      <td>I can’t trust PAP government anymore. During t...</td>\n",
       "      <td>0.0</td>\n",
       "      <td>0.033</td>\n",
       "      <td>0.781</td>\n",
       "      <td>0.186</td>\n",
       "      <td>0.9568</td>\n",
       "    </tr>\n",
       "    <tr>\n",
       "      <th>91</th>\n",
       "      <td>1.0</td>\n",
       "      <td>Let us give credit where credit is due. Minist...</td>\n",
       "      <td>0.0</td>\n",
       "      <td>0.000</td>\n",
       "      <td>0.800</td>\n",
       "      <td>0.200</td>\n",
       "      <td>0.9565</td>\n",
       "    </tr>\n",
       "    <tr>\n",
       "      <th>215</th>\n",
       "      <td>3.0</td>\n",
       "      <td>Mr. MP Keep your eye on the goal, to have a gr...</td>\n",
       "      <td>0.0</td>\n",
       "      <td>0.029</td>\n",
       "      <td>0.787</td>\n",
       "      <td>0.184</td>\n",
       "      <td>0.9460</td>\n",
       "    </tr>\n",
       "    <tr>\n",
       "      <th>81</th>\n",
       "      <td>1.0</td>\n",
       "      <td>Good move! It allows for students to develop a...</td>\n",
       "      <td>0.0</td>\n",
       "      <td>0.000</td>\n",
       "      <td>0.736</td>\n",
       "      <td>0.264</td>\n",
       "      <td>0.9336</td>\n",
       "    </tr>\n",
       "    <tr>\n",
       "      <th>218</th>\n",
       "      <td>3.0</td>\n",
       "      <td>Hello MP don't just score points by not doing ...</td>\n",
       "      <td>0.0</td>\n",
       "      <td>0.000</td>\n",
       "      <td>0.853</td>\n",
       "      <td>0.147</td>\n",
       "      <td>0.9280</td>\n",
       "    </tr>\n",
       "    <tr>\n",
       "      <th>75</th>\n",
       "      <td>1.0</td>\n",
       "      <td>Singapore and its political leadership and jud...</td>\n",
       "      <td>0.0</td>\n",
       "      <td>0.028</td>\n",
       "      <td>0.894</td>\n",
       "      <td>0.078</td>\n",
       "      <td>0.9209</td>\n",
       "    </tr>\n",
       "    <tr>\n",
       "      <th>262</th>\n",
       "      <td>3.0</td>\n",
       "      <td>Election tactics lah, now act like good guy so...</td>\n",
       "      <td>1.0</td>\n",
       "      <td>0.000</td>\n",
       "      <td>0.629</td>\n",
       "      <td>0.371</td>\n",
       "      <td>0.9081</td>\n",
       "    </tr>\n",
       "    <tr>\n",
       "      <th>257</th>\n",
       "      <td>3.0</td>\n",
       "      <td>At least a bright idea from a MIW, rather than...</td>\n",
       "      <td>0.0</td>\n",
       "      <td>0.075</td>\n",
       "      <td>0.791</td>\n",
       "      <td>0.135</td>\n",
       "      <td>0.9071</td>\n",
       "    </tr>\n",
       "  </tbody>\n",
       "</table>\n",
       "</div>"
      ],
      "text/plain": [
       "     article_id                                           comments  is_reply  \\\n",
       "82          1.0  Our elites are implementing this new system du...       0.0   \n",
       "37          0.0  This is a good move because it allows individu...       0.0   \n",
       "94          1.0  I can’t trust PAP government anymore. During t...       0.0   \n",
       "91          1.0  Let us give credit where credit is due. Minist...       0.0   \n",
       "215         3.0  Mr. MP Keep your eye on the goal, to have a gr...       0.0   \n",
       "81          1.0  Good move! It allows for students to develop a...       0.0   \n",
       "218         3.0  Hello MP don't just score points by not doing ...       0.0   \n",
       "75          1.0  Singapore and its political leadership and jud...       0.0   \n",
       "262         3.0  Election tactics lah, now act like good guy so...       1.0   \n",
       "257         3.0  At least a bright idea from a MIW, rather than...       0.0   \n",
       "\n",
       "       neg    neu    pos  compound  \n",
       "82   0.051  0.842  0.108    0.9919  \n",
       "37   0.108  0.720  0.171    0.9694  \n",
       "94   0.033  0.781  0.186    0.9568  \n",
       "91   0.000  0.800  0.200    0.9565  \n",
       "215  0.029  0.787  0.184    0.9460  \n",
       "81   0.000  0.736  0.264    0.9336  \n",
       "218  0.000  0.853  0.147    0.9280  \n",
       "75   0.028  0.894  0.078    0.9209  \n",
       "262  0.000  0.629  0.371    0.9081  \n",
       "257  0.075  0.791  0.135    0.9071  "
      ]
     },
     "execution_count": 17,
     "metadata": {},
     "output_type": "execute_result"
    }
   ],
   "source": [
    "comments_top10"
   ]
  },
  {
   "cell_type": "markdown",
   "metadata": {},
   "source": [
    "<div class='alert alert-block alert-warning'>\n",
    "    Considering that 1 is the maximum positive score, its surprising how highly scored these comments are, especially looking at how some of the comments start ,which clearly aren't positive comments.\n",
    "</div>"
   ]
  },
  {
   "cell_type": "code",
   "execution_count": 18,
   "metadata": {},
   "outputs": [
    {
     "name": "stdout",
     "output_type": "stream",
     "text": [
      "This is a good move because it allows individuals to shine through their respective strengths and have the opportunity to strive for improvement in their weaker subjects so as to be promoted to a higher level if they improve.\r\n",
      "\r\n",
      "However, the ideal situation would be to allow students and parents to decide on their own learning journeys by dropping the criteria for entry to each level.\r\n",
      "\r\n",
      "It is not a good idea to remove the PSLE though. Instead, remove the entry criteria but offer recommendations. Make it very clear that standards will not be lowered to accommodate weaker learners if they choose to take on what appears to be beyond their ability. Then let the students and parents decide. Only then can they truly explore their potential, take risks and learn to be responsible adults who understand the consequences of personal choices. People are more enthusiastic when tackling challenges they have chosen.\r\n",
      "\r\n",
      "The only problem is, this might take a toll on ‘success’ rates. Are we prepared to take the risk of not being seen as ‘number 1’ in educational ‘success’ rates? Do we choose numerical success over longer term resilience and excellence in life? Are bragging rights important? Why do some always blame the government and foreigners for robbing them of their jobs and opportunities? One reason might be that they do not know how to handle/competition because the government has always done everything for them, including deciding their future.\r\n",
      "\r\n",
      "But the bottom line is, times have changed and our young ones really need to learn how to handle the realities of life and take responsibility for their choices instead of blaming others, take unethical short cuts when the going gets tough or, worse, take their own lives to escape the hard knocks.\r\n",
      "\r\n",
      "Parents too, will no longer be able to blame the government for this or that because they will have to take responsibility for their children and choices as well.\r\n",
      "\r\n",
      "If the MOE wants our future generations to be innovative and take risks, it will be more convincing to lead by example.\r\n",
      "More\n"
     ]
    }
   ],
   "source": [
    "#The start sounded positive, overall it seems to lean more towards negative\n",
    "print(comments_top10.loc[37]['comments'])"
   ]
  },
  {
   "cell_type": "code",
   "execution_count": 19,
   "metadata": {},
   "outputs": [
    {
     "name": "stdout",
     "output_type": "stream",
     "text": [
      "Let us give credit where credit is due. Minister Ong has shown leadership to address an issue which has been raised for years, even by his own parliamentarians. I hope other ministers could emulate Min Ong to address other issues which have been brought up for years - say CPF issue on withdrawal age, for medical treatment etc by Mininster Teo Josephine. It is good for ministers to re-validate certain policies, and assess their relevance. Well done Minister Ong YK - hope others have belly of guts like you. You display leadership. That's what we expect of our ministers.\n"
     ]
    }
   ],
   "source": [
    "#Positive example correctly picked out\n",
    "print(comments_top10.loc[91]['comments'])"
   ]
  },
  {
   "cell_type": "code",
   "execution_count": 20,
   "metadata": {},
   "outputs": [
    {
     "name": "stdout",
     "output_type": "stream",
     "text": [
      "Good move! It allows for students to develop according to their own strengths and encourage more mixing of students of different aptitude and background. This prepare the students better, cause in the real world, we live and work with people of different talents, skills set and backgrounds.\n"
     ]
    }
   ],
   "source": [
    "#Another positive example correctly picked out\n",
    "print(comments_top10.loc[81]['comments'])"
   ]
  },
  {
   "cell_type": "markdown",
   "metadata": {},
   "source": [
    "<div class='alert alert-block alert-warning'>\n",
    "    Some positive comments were actually picked out, but let's take a look at those that clearly aren't positive \n",
    "</div>"
   ]
  },
  {
   "cell_type": "code",
   "execution_count": 21,
   "metadata": {},
   "outputs": [
    {
     "name": "stdout",
     "output_type": "stream",
     "text": [
      "Our elites are implementing this new system due to their political consideration. Let me list some of them below:\r\n",
      "\r\n",
      "1) Social stratification is gradually emerging in school\r\n",
      "\r\n",
      "It is getting more common to see more and more non-Chinese students in the technical or normal stream while the Chinese students filled up the majority of the slots in the express stream. For political consideration, our authority is trying to 'break up' the huge pools of non-Chinese students in the technical or normal stream by merging them with the Chinese students in the express stream but they would not be able to do that with our current streaming system, which effectively reinforces the stratification due to the differences in the students' ability.\r\n",
      "\r\n",
      "This is because if you allow too many non-Chinese students to concentrate in a particular area (technical or normal stream classes etc), there is always a political risk that they would band together as a race (especially the Malays who are more united as a race as compared to the Chinese who tend to be self-interested individuals) and turn against the authority. Our political elites want people to unite so they are able to compete better as a group, but not to the extent that the people are so united as to be able to threaten the system or our elites themselves. This is a delicate balancing act that our elites want to maintain.\r\n",
      "\r\n",
      "With this new system, they would be able to merge them into the same class - by combining a smarter 13-year-old Chinese student with a slower but older 14-year-old non-Chinese student in the same class!\r\n",
      "\r\n",
      "If you don't believe me, just take a look around the schools and see the race stratification for yourself that is currently present in our schools. Even for our tertiary institution like polytechnics, after 6 pm, the whole polytechnic would suddenly turn into a 'non-Chinese campus' as the majority of the part-time diploma students who attend night classes are non-Chinese! It becomes a Chinese institution during day-time and a non-Chinese institution at night-time!\r\n",
      "\r\n",
      "2) Divide and control\r\n",
      "\r\n",
      "As mentioned in (1), our political elites are not doing away with school streaming out of their goodwill or kind heart, they are doing this out of their self-interest and political necessity - to 'break up' the huge pools of non-Chinese students concentrated in an area by merging them with the rest. Our elites know that these students would still be able to mix well enough for them to perform in school but not to the extent that they become united enough as a race to form a credible threat to our elites. This is their true agenda - to divide and control when these students are young and not united yet. This is actually a pre-emptive measure.\r\n",
      "\r\n",
      "I would also like to bring to people's attention some of the social stratifications that are already present in the workforce and in the government, if our elites are serious in eliminating such phenomenon, they should look into them seriously as well. Some examples are:\r\n",
      "\r\n",
      "1) Why the majority of the frontline of our Singapore Police Force is stuffed with non-Chinese? Since when does our SPF become a non-Chinese force?\r\n",
      "\r\n",
      "2) Why the majority of the frontline counters of our various government agencies (like CPF, HDB, ICA etc) are stuffed with Malays or Indians? The Chinese cannot do frontline counter jobs? Why are the Chinese so special? Are Malays born to do counter jobs?\r\n",
      "\r\n",
      "3) Why are SMRT staff mostly non-Chinese?\r\n",
      "\r\n",
      "4) Why are grab food, food panda delivery guys mostly non-Chinese?\r\n",
      "\r\n",
      "And many more examples as well.\r\n",
      "\r\n",
      "Even though my highest qualification is 'O' Level, I actually prefer our current streaming system because it allowed me to mix with people who are similar to me, in terms of intellectual level. In my period, we were able to converse well in various topics and since we were also of the same age, we were able to bond well with one another.\r\n",
      "\r\n",
      "Personally, in this new system, I think I would find it unbearable to mix with someone who cannot even understand moderate English, these people are so annoying and stupid and I would find it insulting that they are even in the same class as myself and sitting beside me!\r\n",
      "\r\n",
      "Try mixing long enough with these stupid people and you would end up becoming stupid yourself in time! Stupidity is infectious!\r\n",
      "\r\n",
      "I will end my comment with this wise quote from renowned businessman Jim Rohn - \"You're the average of the five people you spend most of your time with!\"\r\n",
      "More\n"
     ]
    }
   ],
   "source": [
    "#Most positively ranked score, but starts with 'Our elites' ...\n",
    "print(comments_top10.loc[82]['comments'])"
   ]
  },
  {
   "cell_type": "code",
   "execution_count": 22,
   "metadata": {},
   "outputs": [
    {
     "name": "stdout",
     "output_type": "stream",
     "text": [
      "I can’t trust PAP government anymore. During that year, the minister in charge of education talked very convincing about streaming and now everything back to the same! For many years PAP government has accumulated wealth for themselves and exploited the feeling of many Singaporeans.\r\n",
      "\r\n",
      "In fact They are destroying every Singaporeans’ dreams.\r\n",
      "LBW said we have good AH Kong but she didn’t mentioned that our AH kong has too many illegitimate grand children that our AH Konghas to give free education to these illegitimate grand children which are foreign to us.\r\n",
      "The country has come to this state is because our gov focus on $$$ in their pockets and not us, Singaporeans.\r\n",
      "More\n"
     ]
    }
   ],
   "source": [
    "#Surprisingly how highly scored this comment is considering the number of negative words\n",
    "print(comments_top10.loc[94]['comments'])"
   ]
  },
  {
   "cell_type": "code",
   "execution_count": 23,
   "metadata": {},
   "outputs": [
    {
     "name": "stdout",
     "output_type": "stream",
     "text": [
      "Mr. MP Keep your eye on the goal, to have a great education system. Dragging down top tier students in hopes to raise lower tier students is an incorrect approach. It even goes against Singapore’s motto Onwards and upwards. All levels must have a clear path to excellence and not every program fits every child. If express is a great system for the top tier, don’t change it. Fix what’s broken, provide a path, in one direction, upwards, for all students. Have a transition program for students that are identified as late bloomers, smart, but needing some motivation, etc. The fact is, philosophers and plowmen, each must do their part, to mold a better Singapore\r\n",
      "More\n"
     ]
    }
   ],
   "source": [
    "#Nope, not positive\n",
    "print(comments_top10.loc[215]['comments'])"
   ]
  },
  {
   "cell_type": "markdown",
   "metadata": {},
   "source": [
    "## Checking out the top 10 negative comments"
   ]
  },
  {
   "cell_type": "code",
   "execution_count": 24,
   "metadata": {},
   "outputs": [],
   "source": [
    "#Sort and look at the top 10 negative comments\n",
    "comments_bottom10 = comments_df.sort_values('compound',ascending = True).head(10)"
   ]
  },
  {
   "cell_type": "code",
   "execution_count": 25,
   "metadata": {},
   "outputs": [
    {
     "data": {
      "text/html": [
       "<div>\n",
       "<style scoped>\n",
       "    .dataframe tbody tr th:only-of-type {\n",
       "        vertical-align: middle;\n",
       "    }\n",
       "\n",
       "    .dataframe tbody tr th {\n",
       "        vertical-align: top;\n",
       "    }\n",
       "\n",
       "    .dataframe thead th {\n",
       "        text-align: right;\n",
       "    }\n",
       "</style>\n",
       "<table border=\"1\" class=\"dataframe\">\n",
       "  <thead>\n",
       "    <tr style=\"text-align: right;\">\n",
       "      <th></th>\n",
       "      <th>article_id</th>\n",
       "      <th>comments</th>\n",
       "      <th>is_reply</th>\n",
       "      <th>neg</th>\n",
       "      <th>neu</th>\n",
       "      <th>pos</th>\n",
       "      <th>compound</th>\n",
       "    </tr>\n",
       "  </thead>\n",
       "  <tbody>\n",
       "    <tr>\n",
       "      <th>249</th>\n",
       "      <td>3.0</td>\n",
       "      <td>To Everyone in this Website, Especially PAP, O...</td>\n",
       "      <td>0.0</td>\n",
       "      <td>0.138</td>\n",
       "      <td>0.755</td>\n",
       "      <td>0.107</td>\n",
       "      <td>-0.9861</td>\n",
       "    </tr>\n",
       "    <tr>\n",
       "      <th>84</th>\n",
       "      <td>1.0</td>\n",
       "      <td>To Everyone in this Website, Especially PAP, O...</td>\n",
       "      <td>0.0</td>\n",
       "      <td>0.137</td>\n",
       "      <td>0.755</td>\n",
       "      <td>0.109</td>\n",
       "      <td>-0.9845</td>\n",
       "    </tr>\n",
       "    <tr>\n",
       "      <th>46</th>\n",
       "      <td>0.0</td>\n",
       "      <td>To Everyone in this Website, Especially PAP, O...</td>\n",
       "      <td>0.0</td>\n",
       "      <td>0.137</td>\n",
       "      <td>0.755</td>\n",
       "      <td>0.109</td>\n",
       "      <td>-0.9845</td>\n",
       "    </tr>\n",
       "    <tr>\n",
       "      <th>232</th>\n",
       "      <td>3.0</td>\n",
       "      <td>good to hear from MP Louis Ng again, he used t...</td>\n",
       "      <td>0.0</td>\n",
       "      <td>0.231</td>\n",
       "      <td>0.724</td>\n",
       "      <td>0.045</td>\n",
       "      <td>-0.9719</td>\n",
       "    </tr>\n",
       "    <tr>\n",
       "      <th>261</th>\n",
       "      <td>3.0</td>\n",
       "      <td>Louis is 100% correct! I support his thinking ...</td>\n",
       "      <td>0.0</td>\n",
       "      <td>0.195</td>\n",
       "      <td>0.752</td>\n",
       "      <td>0.053</td>\n",
       "      <td>-0.8949</td>\n",
       "    </tr>\n",
       "    <tr>\n",
       "      <th>206</th>\n",
       "      <td>3.0</td>\n",
       "      <td>To SCAM or to be SCAM</td>\n",
       "      <td>0.0</td>\n",
       "      <td>0.689</td>\n",
       "      <td>0.311</td>\n",
       "      <td>0.000</td>\n",
       "      <td>-0.8710</td>\n",
       "    </tr>\n",
       "    <tr>\n",
       "      <th>203</th>\n",
       "      <td>3.0</td>\n",
       "      <td>To SCAM or to be SCAM</td>\n",
       "      <td>1.0</td>\n",
       "      <td>0.689</td>\n",
       "      <td>0.311</td>\n",
       "      <td>0.000</td>\n",
       "      <td>-0.8710</td>\n",
       "    </tr>\n",
       "    <tr>\n",
       "      <th>231</th>\n",
       "      <td>3.0</td>\n",
       "      <td>1) Locals charged with molesting crimes - alwa...</td>\n",
       "      <td>0.0</td>\n",
       "      <td>0.259</td>\n",
       "      <td>0.677</td>\n",
       "      <td>0.064</td>\n",
       "      <td>-0.8639</td>\n",
       "    </tr>\n",
       "    <tr>\n",
       "      <th>1</th>\n",
       "      <td>0.0</td>\n",
       "      <td>No matter what kind of streaming or subject ba...</td>\n",
       "      <td>0.0</td>\n",
       "      <td>0.156</td>\n",
       "      <td>0.760</td>\n",
       "      <td>0.084</td>\n",
       "      <td>-0.8555</td>\n",
       "    </tr>\n",
       "    <tr>\n",
       "      <th>43</th>\n",
       "      <td>0.0</td>\n",
       "      <td>Students who had gone tru streaming felt its u...</td>\n",
       "      <td>0.0</td>\n",
       "      <td>0.243</td>\n",
       "      <td>0.757</td>\n",
       "      <td>0.000</td>\n",
       "      <td>-0.8402</td>\n",
       "    </tr>\n",
       "  </tbody>\n",
       "</table>\n",
       "</div>"
      ],
      "text/plain": [
       "     article_id                                           comments  is_reply  \\\n",
       "249         3.0  To Everyone in this Website, Especially PAP, O...       0.0   \n",
       "84          1.0  To Everyone in this Website, Especially PAP, O...       0.0   \n",
       "46          0.0  To Everyone in this Website, Especially PAP, O...       0.0   \n",
       "232         3.0  good to hear from MP Louis Ng again, he used t...       0.0   \n",
       "261         3.0  Louis is 100% correct! I support his thinking ...       0.0   \n",
       "206         3.0                              To SCAM or to be SCAM       0.0   \n",
       "203         3.0                              To SCAM or to be SCAM       1.0   \n",
       "231         3.0  1) Locals charged with molesting crimes - alwa...       0.0   \n",
       "1           0.0  No matter what kind of streaming or subject ba...       0.0   \n",
       "43          0.0  Students who had gone tru streaming felt its u...       0.0   \n",
       "\n",
       "       neg    neu    pos  compound  \n",
       "249  0.138  0.755  0.107   -0.9861  \n",
       "84   0.137  0.755  0.109   -0.9845  \n",
       "46   0.137  0.755  0.109   -0.9845  \n",
       "232  0.231  0.724  0.045   -0.9719  \n",
       "261  0.195  0.752  0.053   -0.8949  \n",
       "206  0.689  0.311  0.000   -0.8710  \n",
       "203  0.689  0.311  0.000   -0.8710  \n",
       "231  0.259  0.677  0.064   -0.8639  \n",
       "1    0.156  0.760  0.084   -0.8555  \n",
       "43   0.243  0.757  0.000   -0.8402  "
      ]
     },
     "execution_count": 25,
     "metadata": {},
     "output_type": "execute_result"
    }
   ],
   "source": [
    "comments_bottom10"
   ]
  },
  {
   "cell_type": "markdown",
   "metadata": {},
   "source": [
    "<div class='alert alert-block alert-warning'>\n",
    "    Looking at the article ids, the top three negative comments were repeated over different articles on the topic, while another was repeated as a reply in the same article.\n",
    "</div>"
   ]
  },
  {
   "cell_type": "code",
   "execution_count": 26,
   "metadata": {},
   "outputs": [
    {
     "name": "stdout",
     "output_type": "stream",
     "text": [
      "To Everyone in this Website, Especially PAP, Opposition Parties & All Singaporean,\r\n",
      "\r\n",
      "To improve our competitiveness in Global Economy , We really must REVAMP our entire school education system , in actual fact, it should have been Done it in over 20 years ago, during the 1990s .\r\n",
      "\r\n",
      "From this website on “ Remove streaming in secondary schools to reduce social stratification ”, it has EXPOSE OUT these BIG PROBLEMS in Singapore that had spread over many years .\r\n",
      "\r\n",
      "Unfortunately, our “ MOST EXPENSIVE GOVERNMENT IN THE WHOLE WORLD “ don’t seem to do much on it , though TALK very BIG in Mass Media that our “ MOST EXPENSIVE GOVERNMENT IN THE WHOLE WORLD “ is doing so ! ! !\r\n",
      "\r\n",
      "The PROBLEMS that we are facing now are these , due to the very Harmful Effects of \" DON' T CARE \" of or , should say, SACRIFICE Professional Ethics & Moral Education for many years :===>\r\n",
      "\r\n",
      "(1). Bad CORORATE CULTURES & Unethical SOCIAL VALUES are widespread in Singapore Business World & Singapore Society .\r\n",
      "\r\n",
      "Even our so called \" MOST CLEAN & UNCORRUPTED CIVIL SERVICE IN THE WHOLE WORLD \" , which is Singapore Civil Service , are now affected, due to Big Scandals had happened over these few years, like of SEX – FOR - CONTRACT , SEX – FOR - GRADE , SEX - FOR - FAVOURS, UNDER - TABLE FAVORTISM , CORRUPTION , ABUSE of POWER , INTENTIONAL IRRESPONSIBLE ACTS & etc. .\r\n",
      "\r\n",
      "(2). LACK of INTEREST on the Singaporean on things that affect National Interests & the Well-being of Society , which have led to the terrible consequences of Neglect .\r\n",
      "\r\n",
      "[ WORST , it had led to INFLUENCIAL People , like so called “ ELITE CLASS “ as mention in here , that are Unethical HYPOCRITES & Big CHEATERS ( Like T T Durai , Richard Yong , Peter Lim Sin Pang , Ex-NUS Law Professor, Dr Tey , Pastor Kong Hee , Sun Ho ( Pastor Kong Kee’s wife ) & etc. ) to INFLUENCE the society or, BRAINWASH people to become BAD & EVIL .\r\n",
      "\r\n",
      "Also , WORST , even civil servants, or staff under their control / charge are being made to be their almost YES MEN & LACKEYS / WALKING DOGS to do bad things or unethical acts for them , by forcing their staff to obey their ILLEGAL / UNLAWFUL / UNETHICAL ORDERS . . .\r\n",
      "\r\n",
      "So, the Consequence is that you Either join them to be BAD GUYS too , or, You get SACK from your Jobs ! ! ! ]\r\n",
      "\r\n",
      "(3). The KNOWLEDGE & SKILLS of Singaporean work forces are now facing STRONG COMPETITION from other newly emerged economic countries, like China & India .\r\n",
      "\r\n",
      "The Ministry of Education has not change its educational systems much to counter this measures , may be due to Clumsiness , Complacency , Ignorance or WORST , PREVENT from doing so by some Self-Interest Pressure Groups within or outside of Civil Services , through erection of \" PROTECTIONISM \" inside the organizations .\r\n",
      "\r\n",
      "* * * NOTE :==> As Mao Tze Tong, that Ex- Supreme Leader of China once said this words :==> “ If want to undergo Reform or Restructure, MUST first KNOW who your ENEMIES & FRIENDS are “ .\r\n",
      "\r\n",
      "This is BECAUSE Friends will SUPPORT the Reform & Restructure, BUT, Enemies will OPPOSE the Reform & Restructure, regardless of how Good the Reform & Restructure are .\r\n",
      "\r\n",
      "As this Old Chinese saying has highlighted : “ 非我族类，其心必异 “ or, “ 志不同 ， 道不合, 其心必异 “ or, “ 阳奉阴违 “ .\r\n",
      "[ It means that anyone that don’t belong to our types or, share common belief & objectives with us, will likely go against us or, oppose us in his / her heart & DISOBEY Instruction from superiors ]\r\n",
      "\r\n",
      "* * * NOTE :==> In last Bukit Batok By-Election, DPM Tharman said in public that VOTE Dr Chee Soon Juan to be MP of Bukit Batok is like “ GET A FOX TO GUARD HEN DEN “.\r\n",
      "\r\n",
      "However, our Singapore Government has also “ GET A FOX TO GUARD HEN DEN “ too ! ! !\r\n",
      "\r\n",
      "That is, our Singapore Government is really RIDICULOUS to ask such types of ANTI-REFORM Civil Servants & ANTI-RESTRUCTURE Employers to HELP in the REFORM & RESTRUCTURE Singapore Education system , so as to build up Singapore Economy to be 1st Class Economy & save the Job Security of Singaporean . . . So we can all GUESS out what are the Results ? ? ? ]\r\n",
      "\r\n",
      "(4) Too Many so called “ FOREIGN TALENTS “ come into Singapore & some of them have brought lots of Bad CULTURES & Twisted IDEAS to badly INFLUENCE & BRAINWASH Singaporean population .\r\n",
      "\r\n",
      "[ To Foreigners , certain BAD PRACTICES, like LOOSE SEX CULTURE , SEX - FOR - FAVOR , GAY PRACTCES , CHEATING , CORRUPTION , ” Game of Throne ” ( Chinese is called “ 权术游戏 “) types of BRUTALLY DIRTY OFFICE POLITICS, VIOLENT POLITICAL IDEAS & etc., are OK to them in their own nations & they SPREAD such Cultures & Ideas when they are in Singapore ]\r\n",
      "\r\n",
      "Really need more “ FIREMAN “ type of Ministers, like Dr Khaw Boon Wah & even Mr Shanmugan, to CLEAN UP , make full HOUSE CLEANING ( Chinese mean : 清理门户 ) & RESTRUCTURE all the MESS that have happened in our ““ MOST EXPENSIVE CIVIL SERVICE IN THE WHOLE WORLD “ & even Private Sector . . .\r\n",
      "\r\n",
      "Any COMMENTS from you PEOPLE out there ? ? ?\r\n",
      "More\n"
     ]
    }
   ],
   "source": [
    "#Definitely the most negative\n",
    "print(comments_bottom10.loc[249]['comments'])"
   ]
  },
  {
   "cell_type": "code",
   "execution_count": 27,
   "metadata": {},
   "outputs": [
    {
     "name": "stdout",
     "output_type": "stream",
     "text": [
      "good to hear from MP Louis Ng again, he used to be very vocal about animal rights but became silent after he entered parliament. he is the\r\n",
      "right person to talk about the terrible scourge happening in this country,\r\n",
      "the massive destruction of primary forests. it's alarming especially in the west part where i live, pls stop destroying the limited green just for the money. incidentally we have a new kid on the block to speak for us, he is NMP Associate Prof Walter Theseira, pls give a listen to him.\n"
     ]
    }
   ],
   "source": [
    "#Topic took a complete turn\n",
    "print(comments_bottom10.loc[232]['comments'])"
   ]
  },
  {
   "cell_type": "code",
   "execution_count": 28,
   "metadata": {},
   "outputs": [
    {
     "name": "stdout",
     "output_type": "stream",
     "text": [
      "Louis is 100% correct! I support his thinking and idea. Ong ye kuang is stubbornly wrong having benefited from elite, what the hell does he knows. You never in that category how do you know? Louis should challenge ong, lets have a public debate which parents wants to categorized their children. If you dont want why the govt is doing that? Our education system is sucks!\n"
     ]
    }
   ],
   "source": [
    "#Negative comment correctly identified\n",
    "print(comments_bottom10.loc[261]['comments'])"
   ]
  },
  {
   "cell_type": "code",
   "execution_count": 29,
   "metadata": {},
   "outputs": [
    {
     "name": "stdout",
     "output_type": "stream",
     "text": [
      "No matter what kind of streaming or subject based banding, the kids will still have to study hard to get good results in order to move on to higher level. The stress level will still be the same or higher no matter what kind of education system we have here in Singapore. Our education system is just too competitive. Kids will still continue to have their tuition classes and have to study hard in order to stay the top. In short, no matter what education system in Singapore, it just can't change this fact. Everyone is just too scare to lose out.\n"
     ]
    }
   ],
   "source": [
    "#On the fence about the changes, but a negative sentiment towards the education system\n",
    "print(comments_bottom10.loc[1]['comments'])"
   ]
  },
  {
   "cell_type": "code",
   "execution_count": 30,
   "metadata": {},
   "outputs": [
    {
     "data": {
      "text/plain": [
       "0.4641509433962264"
      ]
     },
     "execution_count": 30,
     "metadata": {},
     "output_type": "execute_result"
    }
   ],
   "source": [
    "#Proportion of comments flagged as positive\n",
    "len(comments_df[comments_df['compound'] > 0])/len(comments_df)"
   ]
  },
  {
   "cell_type": "markdown",
   "metadata": {},
   "source": [
    "<div class='alert alert-block alert-warning'>\n",
    "    The overall accuracy from sampling the top 10 positive and negative comments doesn't seem good, although the specificity (true negatives out of predicted negatives) was seemed pretty high. One possible next step in exploring the comments would be to manually vet and label the comments as positive and negative to see how accurately VADER was performing.\n",
    "    <br>\n",
    "    <br>\n",
    "    Another step would be to explore topic modelling and see if it would be possible to cluster the type of comments (focused on education? government? unemployment?).\n",
    "</div>"
   ]
  },
  {
   "cell_type": "code",
   "execution_count": null,
   "metadata": {},
   "outputs": [],
   "source": []
  }
 ],
 "metadata": {
  "kernelspec": {
   "display_name": "Python 3",
   "language": "python",
   "name": "python3"
  },
  "language_info": {
   "codemirror_mode": {
    "name": "ipython",
    "version": 3
   },
   "file_extension": ".py",
   "mimetype": "text/x-python",
   "name": "python",
   "nbconvert_exporter": "python",
   "pygments_lexer": "ipython3",
   "version": "3.6.8"
  }
 },
 "nbformat": 4,
 "nbformat_minor": 2
}
